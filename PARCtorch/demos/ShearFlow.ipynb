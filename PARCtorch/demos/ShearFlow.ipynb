{
 "cells": [
  {
   "cell_type": "markdown",
   "id": "a323a953-d55f-4a06-87fa-21a5890fa35b",
   "metadata": {},
   "source": [
    "<div style=\"display: flex; align-items: center;\">\n",
    "    <h1 style=\"font-size: 3em; margin-right: 15px;\">\n",
    "        Physics Aware Recurrent Convolutional Neural Network (PARC): ShearFlow Equation Demo\n",
    "    </h1>\n",
    "    <div>\n",
    "        <img src=\"../misc/VIL_logo.png\" width=\"120\" alt=\"Image 1\" style=\"margin-right: 5px;\" />\n",
    "        <img src=\"../misc/uva.png\" width=\"120\" alt=\"Image 2\" style=\"margin-right: 5px;\" />\n",
    "        <img src=\"../misc/iowa.png\" width=\"120\" alt=\"Image 3\" />\n",
    "    </div>\n",
    "</div>\n",
    "\n",
    "<p>\n",
    "A customizable framework to embed physics in Deep Learning.\n",
    "PARC's formulation is inspired by Advection-Diffusion-Reaction processes and uses an Inductive Bias approach to constrain the Neural Network.\n",
    "</p>\n"
   ]
  },
  {
   "cell_type": "markdown",
   "id": "93a45e9e-6a11-4de3-a329-be4ed5ef50eb",
   "metadata": {},
   "source": [
    "# Modeling Shear Flow with PARC\n",
    "\n",
    "This notebook aims to simulate the 2D periodic shear flow dynamics, a simplified version of the Navier-Stokes equation in a condition that it is incompressible (without consideration for pressure). A shear flow is a type of fluid that contains layers sliding past each other at varying velocities.\n",
    "\n",
    "The notebook will guide you through from start to finish in preparing, training, and modeling the physics-based equation's prediction results. The notebook primarily covers three sections:\n",
    "- loading and preparing the data for the Shear Flow's Equation\n",
    "- Using the PARC Model to learn and predict the time evolution of velocity fields $u$ and tracer distributions $s$\n",
    "- Evaluating the model's performance and compare predicted results to ground truth"
   ]
  },
  {
   "cell_type": "markdown",
   "id": "f9143c39-6bbd-473e-8d5a-ba97446cdc68",
   "metadata": {},
   "source": [
    "# What exactly is a Shear Flow?\n",
    "\n",
    "Shear Flows can be observed in many real life scenarios. For example, the air closest to an airplane's wings moves slower due to friction, while the air further way moves faster. This velocity difference in turn creates a shear flow and is critical for generating lift power for the plane. In a natural setting such as in rivers, water moves slower at the surface and faster at the river bed. The veloctiy gradient again creates 'stress' on the bed surface and thereby causes phenomenons like erotion or transportation of sediments.\n",
    "\n",
    "Mathmatically, its primary equations governing the Shear Flow simulations are:\n",
    "\n",
    "$$\\frac{\\partial u}{\\partial t} + \\nabla p - \\nu \\Delta u = -u\\cdot \\nabla u,$$\n",
    "\n",
    "$$\\frac{\\partial s}{\\partial t} - D\\Delta s = -u \\cdot \\nabla s$$\n",
    "\n",
    "In the first equation:\n",
    "- $u$ is the velocity of the fluid \n",
    "- $\\frac{\\partial u}{\\partial t}$ is the changes of velocity over time\n",
    "- $\\nabla p$ is the effect of pressure pushing the fluid around\n",
    "- $\\nu \\Delta u$ describes the internal friction (viscosity) that resist fluid motion (**note:** $\\nu$ stands for viscosity, $\\Delta = \\nabla \\cdot \\nabla$ it measures how 'curvy' something is, like a second-derivative that tells you whether you are at a global/local maximum, minimum, or a saddle point)\n",
    "- $-u\\cdot \\nabla u$ describes the advection, meaning how a fluid that is already is motion is carrying itself along \n",
    "\n",
    "To sum up, this describes how changes in motion is equivalent to forces applied to the fluid due to **pressure** + **friction** - the fluid advection\n",
    "\n",
    "In the second equation:\n",
    "- $u$ again is the velocity vector of the fluid\n",
    "- $s$ is the **flow tracer**, you can think of it as any substance/fluid property being carried by the fluid and is used to track flow velocity. (i.e. temperature, salinity, or dyes and small particles)\n",
    "- $\\frac{\\partial s}{\\partial t}$ describes how the tracer changes over time\n",
    "- $-D\\Delta s$ describes te natural diffusion/spreading of the tracer (I.e. how fast a substance spreads in water) (**note:** D stands for diffusivity, which measures how easily tracers spread)\n",
    "- $-u\\cdot \\nabla s$ describes the rate of decrease of the tracer $s$ in the direction of the flow\n",
    "\n",
    "This overall means that changes in tracer concentration equals how the tracer spreads out - how the tracer is moved around by the fluid\n",
    "\n",
    "The two PDEs are **parameterized** by the Reynolds & Schmidt through $\\nu$ and $D$ in the form of:\n",
    "\n",
    "- **Viscosity**:\n",
    "$$\\nu = \\frac{1}{Reynolds}$$\n",
    "- **Diffusivity**:\n",
    "$$D = \\frac{\\nu}{Schmidt}$$"
   ]
  },
  {
   "cell_type": "markdown",
   "id": "0e75a6bd-9f04-4c8b-89bc-62988f6eddda",
   "metadata": {},
   "source": [
    "# Goals of PARC for Shear Flow \n",
    "\n",
    "In this notebook we aim to use the PARC Neural Network to predict future **velocity fields $u$** and **tracer distributions $s$** based on current states. The neural network will be estimating the hidden physical parameters like $\\nu$ and $D$ from the given observed Shear Flow data. This is essential as the neural network could learn not just the solutions to the predicted outcome of the shear flow at a future state, but also learning how the outcome changes/varies with different parameter values of **Viscosity** and **Diffusivity**\n",
    "\n",
    "\n"
   ]
  },
  {
   "cell_type": "markdown",
   "id": "f204bf63-4c07-4b1a-82bc-d5588615421c",
   "metadata": {},
   "source": [
    "# Setting Up\n",
    "\n",
    "This document serves as a guide to training a PARC model for the Shear Flow equation. Here are the initial steps to take before you begin training your PARC model!\n",
    "\n",
    "Download & Prepare Data:\n",
    "- Extract the downloaded data and ensure that it is placed in the following directory: `PARCtorch/PARCtorch/data`\n",
    "- Make sure that the file paths at `train_dir` and `test_dir` point to the correct paths to your training and testing data, e.g. `../data/train` or `../data/test`\n",
    "\n",
    "Install PARCtorch:\n",
    "- Ensure PARCtorch is installed in your Python Environment, you could view the installation instructions [here](https://github.com/baeklab/PARCtorch/tree/main#installation)\n",
    "- After the installation, install all the relevant dependencies with `!pip install -r requirements.txt` (The versions of your dependencies need to be <b>consistent</b> with our requirements, or else the script might not run!)\n",
    "- Optional (only if the script doesn't run): add the root directory to the system's path so that it runs"
   ]
  },
  {
   "cell_type": "code",
   "execution_count": 1,
   "id": "77a23205-5068-44d2-8b1a-19debbd9ae51",
   "metadata": {
    "tags": []
   },
   "outputs": [],
   "source": [
    "import sys\n",
    "import os\n",
    " \n",
    "# Add the root directory (PARCTorch) to the system path\n",
    "sys.path.append(os.path.abspath(os.path.join(os.getcwd(), \"..\")))"
   ]
  },
  {
   "cell_type": "markdown",
   "id": "a6bbb03f-fde8-45b1-bd59-3fda96043d6a",
   "metadata": {},
   "source": [
    "# Compute Data Normalization\n"
   ]
  },
  {
   "cell_type": "code",
   "execution_count": 2,
   "id": "4540757e-4fd9-410f-9753-33a450929276",
   "metadata": {
    "tags": []
   },
   "outputs": [],
   "source": [
    "from pathlib import Path\n",
    "\n",
    "from PARCtorch.data.normalization import compute_min_max"
   ]
  },
  {
   "cell_type": "code",
   "execution_count": 3,
   "id": "1d5f0aa2-e7b4-4a37-8bcf-0ccb304f0c92",
   "metadata": {
    "tags": []
   },
   "outputs": [],
   "source": [
    "# Define data directories\n",
    "train_dir = Path(\"/standard/sds_baek_energetic/data/physics/the_well/datasets/shear_flow/data/train\")\n",
    "test_dir = Path(\"/standard/sds_baek_energetic/data/physics/the_well/datasets/shear_flow/data/test\")"
   ]
  },
  {
   "cell_type": "markdown",
   "id": "d5889e9a-cf64-4fd0-94b8-dec8129892b6",
   "metadata": {},
   "source": [
    "# Load Training Data"
   ]
  },
  {
   "cell_type": "code",
   "execution_count": 4,
   "id": "eaeafdf4-0c06-4db6-8698-eca8106be98f",
   "metadata": {
    "tags": []
   },
   "outputs": [],
   "source": [
    "import logging\n",
    "import torch\n",
    "from torch.utils.data import DataLoader\n",
    "\n",
    "from PARCtorch.data.dataset import (\n",
    "    WellDatasetInterface,\n",
    "    custom_collate_fn,\n",
    "    InitialConditionDataset,\n",
    "    initial_condition_collate_fn,\n",
    ")\n",
    "from PARCtorch.utilities.viz import (\n",
    "    visualize_channels,\n",
    "    save_gifs_with_ground_truth,\n",
    ")\n",
    "\n",
    "logging.basicConfig(\n",
    "    level=logging.INFO, format=\"%(asctime)s [%(levelname)s] %(message)s\"\n",
    ")\n",
    "\n",
    "future_steps = 1\n",
    "# Path to the min_max.json file\n",
    "batch_size = 2\n",
    "\n",
    "train_dataset = WellDatasetInterface(\n",
    "    well_dataset_args={\n",
    "        \"well_base_path\": \"/standard/sds_baek_energetic/data/physics/the_well/datasets\",\n",
    "        \"well_dataset_name\": \"shear_flow\",\n",
    "        \"well_split_name\": \"train\",\n",
    "        \"exclude_filters\": [\"shear_flow_Reynolds_5e5_Schmidt_1e0.hdf5\"]\n",
    "    },\n",
    "    future_steps=future_steps\n",
    ")\n",
    "\n",
    "train_loader = DataLoader(\n",
    "    train_dataset,\n",
    "    batch_size=batch_size,\n",
    "    shuffle=False,\n",
    "    num_workers=1,\n",
    "    collate_fn=custom_collate_fn,\n",
    ")"
   ]
  },
  {
   "cell_type": "markdown",
   "id": "b684e1ab-9521-4935-ae03-4de80fae2273",
   "metadata": {},
   "source": [
    "# Visualizing the Data - Sanity-Check"
   ]
  },
  {
   "cell_type": "code",
   "execution_count": 5,
   "id": "e763906b-0324-43d1-8ca2-7efb526508d3",
   "metadata": {
    "tags": []
   },
   "outputs": [
    {
     "name": "stdout",
     "output_type": "stream",
     "text": [
      "['velocity_x', 'velocity_y', 'tracer', 'pressure']\n",
      "{0: ['tracer', 'pressure'], 1: ['velocity_x', 'velocity_y'], 2: []}\n"
     ]
    }
   ],
   "source": [
    "channel_names = (\n",
    "    train_dataset.well_dataset.field_names[1] + \n",
    "    train_dataset.well_dataset.field_names[0]\n",
    ")\n",
    "print(channel_names)\n",
    "print(train_dataset.well_dataset.field_names)\n"
   ]
  },
  {
   "cell_type": "code",
   "execution_count": 6,
   "id": "231535c5-f1c3-41eb-8b1a-8c0add2241c4",
   "metadata": {
    "tags": []
   },
   "outputs": [
    {
     "name": "stdout",
     "output_type": "stream",
     "text": [
      "WARNING, this dataset has not been verified with PARCv2. Confirm orientation of x and y before proceeding.\n",
      "WARNING, this dataset has not been verified with PARCv2. Confirm orientation of x and y before proceeding.\n",
      "WARNING, this dataset has not been verified with PARCv2. Confirm orientation of x and y before proceeding.\n",
      "WARNING, this dataset has not been verified with PARCv2. Confirm orientation of x and y before proceeding.\n",
      "WARNING, this dataset has not been verified with PARCv2. Confirm orientation of x and y before proceeding.\n",
      "WARNING, this dataset has not been verified with PARCv2. Confirm orientation of x and y before proceeding.\n",
      "Channel Data Statistics:\n",
      "Channel 0: IC min=10000.0, IC max=10000.0\n",
      "  Step 1: min=10000.0, max=10000.0\n",
      "Channel 1: IC min=0.10000000149011612, IC max=0.10000000149011612\n",
      "  Step 1: min=0.10000000149011612, max=0.10000000149011612\n",
      "Channel 2: IC min=-0.5, IC max=0.5\n",
      "  Step 1: min=-0.5, max=0.5\n",
      "Channel 3: IC min=0.0, IC max=0.0\n",
      "  Step 1: min=-0.02280947007238865, max=0.021170886233448982\n",
      "Channel 4: IC min=-0.5, IC max=0.5\n",
      "  Step 1: min=-0.5113672614097595, max=0.5106528401374817\n",
      "Channel 5: IC min=-0.0992525964975357, IC max=0.0992525964975357\n",
      "  Step 1: min=-0.03139960765838623, max=0.03140629082918167\n"
     ]
    },
    {
     "data": {
      "image/png": "[encoded data removed]",
      "text/plain": [
       "<Figure size 2500x2000 with 24 Axes>"
      ]
     },
     "metadata": {},
     "output_type": "display_data"
    }
   ],
   "source": [
    "for batch_idx, batch in enumerate(train_loader):\n",
    "    ic, t0, t1, target = batch\n",
    "    channel_names = ['velocity_x', \n",
    "                     'velocity_y', \n",
    "                     'tracer', \n",
    "                     'pressure',\n",
    "                     'channel 5',\n",
    "                     'channel 6',\n",
    "                    ]\n",
    "    custom_cmaps = [\"seismic\"] * 6\n",
    "\n",
    "    visualize_channels(\n",
    "        ic = ic,      \n",
    "        t0 = t0,\n",
    "        t1 = t1,\n",
    "        target = target,      \n",
    "        channel_names = channel_names,\n",
    "        channel_cmaps = custom_cmaps,\n",
    "    )\n",
    "    break"
   ]
  },
  {
   "cell_type": "markdown",
   "id": "5989fbbe-7ca7-4820-8916-b3c21844f74a",
   "metadata": {},
   "source": [
    "# Building the PARC Model"
   ]
  },
  {
   "cell_type": "code",
   "execution_count": 7,
   "id": "2c8c24a3-6412-46a4-b58b-872de72332bf",
   "metadata": {
    "tags": []
   },
   "outputs": [],
   "source": [
    "from PARCtorch.PARCv2 import PARCv2\n",
    "from PARCtorch.differentiator.differentiator import ADRDifferentiator\n",
    "from PARCtorch.differentiator.finitedifference import FiniteDifference\n",
    "from PARCtorch.integrator.integrator import Integrator\n",
    "from PARCtorch.integrator.heun import Heun\n",
    "from PARCtorch.utilities.unet import UNet\n",
    "\n",
    "from torch.optim import Adam\n",
    "\n",
    "n_fe_features = 64\n",
    "unet_ShearFlow = UNet(\n",
    "    block_dimensions=[64, 64 * 2, 64 * 4],        \n",
    "    input_channels=6,                             \n",
    "    output_channels=n_fe_features,                \n",
    "    kernel_size=3,                                \n",
    "    padding_mode=\"zeros\",                         \n",
    "    up_block_use_concat=[False, True],            \n",
    "    skip_connection_indices=[0],                  \n",
    ")\n",
    "right_diff = FiniteDifference(padding_mode=\"replicate\").cuda()\n",
    "heun_int = Heun().cuda()\n",
    "\n",
    "diff_ShearFlow = ADRDifferentiator(\n",
    "    n_state_var=4,                          \n",
    "    n_fe_features=n_fe_features,            \n",
    "    list_adv_idx=[0,1, 2, 3, 4, 5],                    \n",
    "    list_dif_idx=[0, 1, 2, 3, 4, 5],                   \n",
    "    feature_extraction=unet_ShearFlow,       \n",
    "    padding_mode=\"constant\",               \n",
    "    finite_difference_method=right_diff,    \n",
    "    spade_random_noise=False,               \n",
    ").cuda()\n",
    "\n",
    "\n",
    "ShearFlow_int = Integrator(\n",
    "    clip=True,                             \n",
    "    list_poi_idx=[],                       \n",
    "    num_int=heun_int,                      \n",
    "    list_dd_int=[None, None, None, None],       \n",
    "    padding_mode=\"constant\",              \n",
    "    finite_difference_method=right_diff,  \n",
    "    poi_kernel_size=3,                     \n",
    "    n_poi_features=64                      \n",
    ")\n",
    "criterion = torch.nn.L1Loss().cuda()\n",
    "\n",
    "\n",
    "model = PARCv2(\n",
    "    differentiator=diff_ShearFlow,  \n",
    "    integrator=ShearFlow_int,       \n",
    "    loss=criterion                \n",
    ").cuda()\n",
    "optimizer = Adam(\n",
    "    params=model.parameters(), \n",
    "    lr=1e-5             \n",
    ")\n",
    "    "
   ]
  },
  {
   "cell_type": "markdown",
   "id": "251a8cbf-c4bf-4c35-b642-8f7658e0eab8",
   "metadata": {},
   "source": [
    "# Training the Model"
   ]
  },
  {
   "cell_type": "code",
   "execution_count": 8,
   "id": "68a06114-08db-48ba-b371-605985c2516e",
   "metadata": {
    "tags": []
   },
   "outputs": [
    {
     "name": "stderr",
     "output_type": "stream",
     "text": [
      "Epoch 1/1:   0%|          | 0/70048 [00:00<?, ?it/s]"
     ]
    },
    {
     "name": "stdout",
     "output_type": "stream",
     "text": [
      "WARNING, this dataset has not been verified with PARCv2. Confirm orientation of x and y before proceeding.\n",
      "WARNING, this dataset has not been verified with PARCv2. Confirm orientation of x and y before proceeding.\n",
      "WARNING, this dataset has not been verified with PARCv2. Confirm orientation of x and y before proceeding.\n",
      "WARNING, this dataset has not been verified with PARCv2. Confirm orientation of x and y before proceeding.\n",
      "WARNING, this dataset has not been verified with PARCv2. Confirm orientation of x and y before proceeding.\n",
      "WARNING, this dataset has not been verified with PARCv2. Confirm orientation of x and y before proceeding.\n"
     ]
    },
    {
     "name": "stderr",
     "output_type": "stream",
     "text": [
      "Epoch 1/1:   0%|          | 1/70048 [00:01<33:36:08,  1.73s/it, Batch Loss=2e+3]"
     ]
    },
    {
     "name": "stdout",
     "output_type": "stream",
     "text": [
      "WARNING, this dataset has not been verified with PARCv2. Confirm orientation of x and y before proceeding.\n",
      "WARNING, this dataset has not been verified with PARCv2. Confirm orientation of x and y before proceeding.\n"
     ]
    },
    {
     "name": "stderr",
     "output_type": "stream",
     "text": [
      "Epoch 1/1:   0%|          | 2/70048 [00:02<21:56:20,  1.13s/it, Batch Loss=2e+3]"
     ]
    },
    {
     "name": "stdout",
     "output_type": "stream",
     "text": [
      "WARNING, this dataset has not been verified with PARCv2. Confirm orientation of x and y before proceeding.\n",
      "WARNING, this dataset has not been verified with PARCv2. Confirm orientation of x and y before proceeding.\n"
     ]
    },
    {
     "name": "stderr",
     "output_type": "stream",
     "text": [
      "Epoch 1/1:   0%|          | 3/70048 [00:03<18:17:18,  1.06it/s, Batch Loss=2e+3]"
     ]
    },
    {
     "name": "stdout",
     "output_type": "stream",
     "text": [
      "WARNING, this dataset has not been verified with PARCv2. Confirm orientation of x and y before proceeding.\n",
      "WARNING, this dataset has not been verified with PARCv2. Confirm orientation of x and y before proceeding.\n"
     ]
    },
    {
     "name": "stderr",
     "output_type": "stream",
     "text": [
      "Epoch 1/1:   0%|          | 4/70048 [00:03<16:29:48,  1.18it/s, Batch Loss=2e+3]"
     ]
    },
    {
     "name": "stdout",
     "output_type": "stream",
     "text": [
      "WARNING, this dataset has not been verified with PARCv2. Confirm orientation of x and y before proceeding.\n",
      "WARNING, this dataset has not been verified with PARCv2. Confirm orientation of x and y before proceeding.\n"
     ]
    },
    {
     "name": "stderr",
     "output_type": "stream",
     "text": [
      "Epoch 1/1:   0%|          | 5/70048 [00:04<15:43:02,  1.24it/s, Batch Loss=2e+3]"
     ]
    },
    {
     "name": "stdout",
     "output_type": "stream",
     "text": [
      "WARNING, this dataset has not been verified with PARCv2. Confirm orientation of x and y before proceeding.\n",
      "WARNING, this dataset has not been verified with PARCv2. Confirm orientation of x and y before proceeding.\n"
     ]
    },
    {
     "name": "stderr",
     "output_type": "stream",
     "text": [
      "Epoch 1/1:   0%|          | 6/70048 [00:05<15:03:05,  1.29it/s, Batch Loss=2e+3]"
     ]
    },
    {
     "name": "stdout",
     "output_type": "stream",
     "text": [
      "WARNING, this dataset has not been verified with PARCv2. Confirm orientation of x and y before proceeding.\n",
      "WARNING, this dataset has not been verified with PARCv2. Confirm orientation of x and y before proceeding.\n"
     ]
    },
    {
     "name": "stderr",
     "output_type": "stream",
     "text": [
      "Epoch 1/1:   0%|          | 7/70048 [00:06<14:38:52,  1.33it/s, Batch Loss=2e+3]"
     ]
    },
    {
     "name": "stdout",
     "output_type": "stream",
     "text": [
      "WARNING, this dataset has not been verified with PARCv2. Confirm orientation of x and y before proceeding.\n",
      "WARNING, this dataset has not been verified with PARCv2. Confirm orientation of x and y before proceeding.\n"
     ]
    },
    {
     "name": "stderr",
     "output_type": "stream",
     "text": [
      "Epoch 1/1:   0%|          | 8/70048 [00:06<14:21:42,  1.35it/s, Batch Loss=2e+3]"
     ]
    },
    {
     "name": "stdout",
     "output_type": "stream",
     "text": [
      "WARNING, this dataset has not been verified with PARCv2. Confirm orientation of x and y before proceeding.\n",
      "WARNING, this dataset has not been verified with PARCv2. Confirm orientation of x and y before proceeding.\n"
     ]
    },
    {
     "name": "stderr",
     "output_type": "stream",
     "text": [
      "Epoch 1/1:   0%|          | 9/70048 [00:07<14:12:51,  1.37it/s, Batch Loss=2e+3]"
     ]
    },
    {
     "name": "stdout",
     "output_type": "stream",
     "text": [
      "WARNING, this dataset has not been verified with PARCv2. Confirm orientation of x and y before proceeding.\n",
      "WARNING, this dataset has not been verified with PARCv2. Confirm orientation of x and y before proceeding.\n"
     ]
    },
    {
     "name": "stderr",
     "output_type": "stream",
     "text": [
      "Epoch 1/1:   0%|          | 10/70048 [00:08<14:04:20,  1.38it/s, Batch Loss=2e+3]"
     ]
    },
    {
     "name": "stdout",
     "output_type": "stream",
     "text": [
      "WARNING, this dataset has not been verified with PARCv2. Confirm orientation of x and y before proceeding.\n",
      "WARNING, this dataset has not been verified with PARCv2. Confirm orientation of x and y before proceeding.\n"
     ]
    },
    {
     "name": "stderr",
     "output_type": "stream",
     "text": [
      "Epoch 1/1:   0%|          | 11/70048 [00:08<13:59:43,  1.39it/s, Batch Loss=2e+3]"
     ]
    },
    {
     "name": "stdout",
     "output_type": "stream",
     "text": [
      "WARNING, this dataset has not been verified with PARCv2. Confirm orientation of x and y before proceeding.\n",
      "WARNING, this dataset has not been verified with PARCv2. Confirm orientation of x and y before proceeding.\n"
     ]
    },
    {
     "name": "stderr",
     "output_type": "stream",
     "text": [
      "Epoch 1/1:   0%|          | 12/70048 [00:09<13:55:28,  1.40it/s, Batch Loss=2e+3]"
     ]
    },
    {
     "name": "stdout",
     "output_type": "stream",
     "text": [
      "WARNING, this dataset has not been verified with PARCv2. Confirm orientation of x and y before proceeding.\n",
      "WARNING, this dataset has not been verified with PARCv2. Confirm orientation of x and y before proceeding.\n"
     ]
    },
    {
     "name": "stderr",
     "output_type": "stream",
     "text": [
      "Epoch 1/1:   0%|          | 13/70048 [00:10<13:53:25,  1.40it/s, Batch Loss=2e+3]"
     ]
    },
    {
     "name": "stdout",
     "output_type": "stream",
     "text": [
      "WARNING, this dataset has not been verified with PARCv2. Confirm orientation of x and y before proceeding.\n",
      "WARNING, this dataset has not been verified with PARCv2. Confirm orientation of x and y before proceeding.\n"
     ]
    },
    {
     "name": "stderr",
     "output_type": "stream",
     "text": [
      "Epoch 1/1:   0%|          | 14/70048 [00:10<13:50:18,  1.41it/s, Batch Loss=2e+3]"
     ]
    },
    {
     "name": "stdout",
     "output_type": "stream",
     "text": [
      "WARNING, this dataset has not been verified with PARCv2. Confirm orientation of x and y before proceeding.\n",
      "WARNING, this dataset has not been verified with PARCv2. Confirm orientation of x and y before proceeding.\n"
     ]
    },
    {
     "name": "stderr",
     "output_type": "stream",
     "text": [
      "Epoch 1/1:   0%|          | 15/70048 [00:11<13:49:31,  1.41it/s, Batch Loss=2e+3]"
     ]
    },
    {
     "name": "stdout",
     "output_type": "stream",
     "text": [
      "WARNING, this dataset has not been verified with PARCv2. Confirm orientation of x and y before proceeding.\n",
      "WARNING, this dataset has not been verified with PARCv2. Confirm orientation of x and y before proceeding.\n"
     ]
    },
    {
     "name": "stderr",
     "output_type": "stream",
     "text": [
      "Epoch 1/1:   0%|          | 16/70048 [00:12<13:48:13,  1.41it/s, Batch Loss=2e+3]"
     ]
    },
    {
     "name": "stdout",
     "output_type": "stream",
     "text": [
      "WARNING, this dataset has not been verified with PARCv2. Confirm orientation of x and y before proceeding.\n",
      "WARNING, this dataset has not been verified with PARCv2. Confirm orientation of x and y before proceeding.\n"
     ]
    },
    {
     "name": "stderr",
     "output_type": "stream",
     "text": [
      "Epoch 1/1:   0%|          | 17/70048 [00:13<13:48:23,  1.41it/s, Batch Loss=2e+3]"
     ]
    },
    {
     "name": "stdout",
     "output_type": "stream",
     "text": [
      "WARNING, this dataset has not been verified with PARCv2. Confirm orientation of x and y before proceeding.\n",
      "WARNING, this dataset has not been verified with PARCv2. Confirm orientation of x and y before proceeding.\n"
     ]
    },
    {
     "name": "stderr",
     "output_type": "stream",
     "text": [
      "Epoch 1/1:   0%|          | 18/70048 [00:13<13:47:24,  1.41it/s, Batch Loss=2e+3]"
     ]
    },
    {
     "name": "stdout",
     "output_type": "stream",
     "text": [
      "WARNING, this dataset has not been verified with PARCv2. Confirm orientation of x and y before proceeding.\n",
      "WARNING, this dataset has not been verified with PARCv2. Confirm orientation of x and y before proceeding.\n"
     ]
    },
    {
     "name": "stderr",
     "output_type": "stream",
     "text": [
      "Epoch 1/1:   0%|          | 19/70048 [00:14<13:50:38,  1.41it/s, Batch Loss=2e+3]"
     ]
    },
    {
     "name": "stdout",
     "output_type": "stream",
     "text": [
      "WARNING, this dataset has not been verified with PARCv2. Confirm orientation of x and y before proceeding.\n",
      "WARNING, this dataset has not been verified with PARCv2. Confirm orientation of x and y before proceeding.\n"
     ]
    },
    {
     "name": "stderr",
     "output_type": "stream",
     "text": [
      "Epoch 1/1:   0%|          | 20/70048 [00:15<13:49:03,  1.41it/s, Batch Loss=2e+3]"
     ]
    },
    {
     "name": "stdout",
     "output_type": "stream",
     "text": [
      "WARNING, this dataset has not been verified with PARCv2. Confirm orientation of x and y before proceeding.\n",
      "WARNING, this dataset has not been verified with PARCv2. Confirm orientation of x and y before proceeding.\n"
     ]
    },
    {
     "name": "stderr",
     "output_type": "stream",
     "text": [
      "Epoch 1/1:   0%|          | 21/70048 [00:15<13:53:09,  1.40it/s, Batch Loss=2e+3]"
     ]
    },
    {
     "name": "stdout",
     "output_type": "stream",
     "text": [
      "WARNING, this dataset has not been verified with PARCv2. Confirm orientation of x and y before proceeding.\n",
      "WARNING, this dataset has not been verified with PARCv2. Confirm orientation of x and y before proceeding.\n"
     ]
    },
    {
     "name": "stderr",
     "output_type": "stream",
     "text": [
      "Epoch 1/1:   0%|          | 22/70048 [00:16<13:50:57,  1.40it/s, Batch Loss=2e+3]"
     ]
    },
    {
     "name": "stdout",
     "output_type": "stream",
     "text": [
      "WARNING, this dataset has not been verified with PARCv2. Confirm orientation of x and y before proceeding.\n",
      "WARNING, this dataset has not been verified with PARCv2. Confirm orientation of x and y before proceeding.\n"
     ]
    },
    {
     "name": "stderr",
     "output_type": "stream",
     "text": [
      "Epoch 1/1:   0%|          | 23/70048 [00:17<13:50:23,  1.41it/s, Batch Loss=2e+3]"
     ]
    },
    {
     "name": "stdout",
     "output_type": "stream",
     "text": [
      "WARNING, this dataset has not been verified with PARCv2. Confirm orientation of x and y before proceeding.\n",
      "WARNING, this dataset has not been verified with PARCv2. Confirm orientation of x and y before proceeding.\n"
     ]
    },
    {
     "name": "stderr",
     "output_type": "stream",
     "text": [
      "Epoch 1/1:   0%|          | 24/70048 [00:18<13:48:46,  1.41it/s, Batch Loss=2e+3]"
     ]
    },
    {
     "name": "stdout",
     "output_type": "stream",
     "text": [
      "WARNING, this dataset has not been verified with PARCv2. Confirm orientation of x and y before proceeding.\n",
      "WARNING, this dataset has not been verified with PARCv2. Confirm orientation of x and y before proceeding.\n"
     ]
    },
    {
     "name": "stderr",
     "output_type": "stream",
     "text": [
      "Epoch 1/1:   0%|          | 25/70048 [00:18<13:50:36,  1.41it/s, Batch Loss=2e+3]"
     ]
    },
    {
     "name": "stdout",
     "output_type": "stream",
     "text": [
      "WARNING, this dataset has not been verified with PARCv2. Confirm orientation of x and y before proceeding.\n",
      "WARNING, this dataset has not been verified with PARCv2. Confirm orientation of x and y before proceeding.\n"
     ]
    },
    {
     "name": "stderr",
     "output_type": "stream",
     "text": [
      "Epoch 1/1:   0%|          | 26/70048 [00:19<13:49:06,  1.41it/s, Batch Loss=2e+3]"
     ]
    },
    {
     "name": "stdout",
     "output_type": "stream",
     "text": [
      "WARNING, this dataset has not been verified with PARCv2. Confirm orientation of x and y before proceeding.\n",
      "WARNING, this dataset has not been verified with PARCv2. Confirm orientation of x and y before proceeding.\n"
     ]
    },
    {
     "name": "stderr",
     "output_type": "stream",
     "text": [
      "Epoch 1/1:   0%|          | 27/70048 [00:20<13:51:30,  1.40it/s, Batch Loss=2e+3]"
     ]
    },
    {
     "name": "stdout",
     "output_type": "stream",
     "text": [
      "WARNING, this dataset has not been verified with PARCv2. Confirm orientation of x and y before proceeding.\n",
      "WARNING, this dataset has not been verified with PARCv2. Confirm orientation of x and y before proceeding.\n"
     ]
    },
    {
     "name": "stderr",
     "output_type": "stream",
     "text": [
      "Epoch 1/1:   0%|          | 28/70048 [00:20<13:49:31,  1.41it/s, Batch Loss=2e+3]"
     ]
    },
    {
     "name": "stdout",
     "output_type": "stream",
     "text": [
      "WARNING, this dataset has not been verified with PARCv2. Confirm orientation of x and y before proceeding.\n",
      "WARNING, this dataset has not been verified with PARCv2. Confirm orientation of x and y before proceeding.\n"
     ]
    },
    {
     "name": "stderr",
     "output_type": "stream",
     "text": [
      "Epoch 1/1:   0%|          | 29/70048 [00:21<13:49:23,  1.41it/s, Batch Loss=2e+3]"
     ]
    },
    {
     "name": "stdout",
     "output_type": "stream",
     "text": [
      "WARNING, this dataset has not been verified with PARCv2. Confirm orientation of x and y before proceeding.\n",
      "WARNING, this dataset has not been verified with PARCv2. Confirm orientation of x and y before proceeding.\n"
     ]
    },
    {
     "name": "stderr",
     "output_type": "stream",
     "text": [
      "Epoch 1/1:   0%|          | 30/70048 [00:22<13:48:13,  1.41it/s, Batch Loss=2e+3]"
     ]
    },
    {
     "name": "stdout",
     "output_type": "stream",
     "text": [
      "WARNING, this dataset has not been verified with PARCv2. Confirm orientation of x and y before proceeding.\n",
      "WARNING, this dataset has not been verified with PARCv2. Confirm orientation of x and y before proceeding.\n"
     ]
    },
    {
     "name": "stderr",
     "output_type": "stream",
     "text": [
      "Epoch 1/1:   0%|          | 31/70048 [00:23<13:48:33,  1.41it/s, Batch Loss=2e+3]"
     ]
    },
    {
     "name": "stdout",
     "output_type": "stream",
     "text": [
      "WARNING, this dataset has not been verified with PARCv2. Confirm orientation of x and y before proceeding.\n",
      "WARNING, this dataset has not been verified with PARCv2. Confirm orientation of x and y before proceeding.\n"
     ]
    },
    {
     "name": "stderr",
     "output_type": "stream",
     "text": [
      "Epoch 1/1:   0%|          | 32/70048 [00:23<13:47:37,  1.41it/s, Batch Loss=2e+3]"
     ]
    },
    {
     "name": "stdout",
     "output_type": "stream",
     "text": [
      "WARNING, this dataset has not been verified with PARCv2. Confirm orientation of x and y before proceeding.\n",
      "WARNING, this dataset has not been verified with PARCv2. Confirm orientation of x and y before proceeding.\n"
     ]
    },
    {
     "name": "stderr",
     "output_type": "stream",
     "text": [
      "Epoch 1/1:   0%|          | 33/70048 [00:24<13:48:02,  1.41it/s, Batch Loss=2e+3]"
     ]
    },
    {
     "name": "stdout",
     "output_type": "stream",
     "text": [
      "WARNING, this dataset has not been verified with PARCv2. Confirm orientation of x and y before proceeding.\n",
      "WARNING, this dataset has not been verified with PARCv2. Confirm orientation of x and y before proceeding.\n"
     ]
    },
    {
     "name": "stderr",
     "output_type": "stream",
     "text": [
      "Epoch 1/1:   0%|          | 34/70048 [00:25<13:51:53,  1.40it/s, Batch Loss=2e+3]"
     ]
    },
    {
     "name": "stdout",
     "output_type": "stream",
     "text": [
      "WARNING, this dataset has not been verified with PARCv2. Confirm orientation of x and y before proceeding.\n",
      "WARNING, this dataset has not been verified with PARCv2. Confirm orientation of x and y before proceeding.\n"
     ]
    },
    {
     "name": "stderr",
     "output_type": "stream",
     "text": [
      "Epoch 1/1:   0%|          | 35/70048 [00:25<13:51:02,  1.40it/s, Batch Loss=2e+3]"
     ]
    },
    {
     "name": "stdout",
     "output_type": "stream",
     "text": [
      "WARNING, this dataset has not been verified with PARCv2. Confirm orientation of x and y before proceeding.\n",
      "WARNING, this dataset has not been verified with PARCv2. Confirm orientation of x and y before proceeding.\n"
     ]
    },
    {
     "name": "stderr",
     "output_type": "stream",
     "text": [
      "Epoch 1/1:   0%|          | 36/70048 [00:26<13:49:20,  1.41it/s, Batch Loss=2e+3]"
     ]
    },
    {
     "name": "stdout",
     "output_type": "stream",
     "text": [
      "WARNING, this dataset has not been verified with PARCv2. Confirm orientation of x and y before proceeding.\n",
      "WARNING, this dataset has not been verified with PARCv2. Confirm orientation of x and y before proceeding.\n"
     ]
    },
    {
     "name": "stderr",
     "output_type": "stream",
     "text": [
      "Epoch 1/1:   0%|          | 37/70048 [00:27<13:49:20,  1.41it/s, Batch Loss=2e+3]"
     ]
    },
    {
     "name": "stdout",
     "output_type": "stream",
     "text": [
      "WARNING, this dataset has not been verified with PARCv2. Confirm orientation of x and y before proceeding.\n",
      "WARNING, this dataset has not been verified with PARCv2. Confirm orientation of x and y before proceeding.\n"
     ]
    },
    {
     "name": "stderr",
     "output_type": "stream",
     "text": [
      "Epoch 1/1:   0%|          | 38/70048 [00:28<13:48:17,  1.41it/s, Batch Loss=2e+3]"
     ]
    },
    {
     "name": "stdout",
     "output_type": "stream",
     "text": [
      "WARNING, this dataset has not been verified with PARCv2. Confirm orientation of x and y before proceeding.\n",
      "WARNING, this dataset has not been verified with PARCv2. Confirm orientation of x and y before proceeding.\n"
     ]
    },
    {
     "name": "stderr",
     "output_type": "stream",
     "text": [
      "Epoch 1/1:   0%|          | 39/70048 [00:28<13:48:35,  1.41it/s, Batch Loss=2e+3]"
     ]
    },
    {
     "name": "stdout",
     "output_type": "stream",
     "text": [
      "WARNING, this dataset has not been verified with PARCv2. Confirm orientation of x and y before proceeding.\n",
      "WARNING, this dataset has not been verified with PARCv2. Confirm orientation of x and y before proceeding.\n"
     ]
    },
    {
     "name": "stderr",
     "output_type": "stream",
     "text": [
      "Epoch 1/1:   0%|          | 40/70048 [00:29<13:47:32,  1.41it/s, Batch Loss=2e+3]"
     ]
    },
    {
     "name": "stdout",
     "output_type": "stream",
     "text": [
      "WARNING, this dataset has not been verified with PARCv2. Confirm orientation of x and y before proceeding.\n",
      "WARNING, this dataset has not been verified with PARCv2. Confirm orientation of x and y before proceeding.\n"
     ]
    },
    {
     "name": "stderr",
     "output_type": "stream",
     "text": [
      "Epoch 1/1:   0%|          | 41/70048 [00:30<13:47:58,  1.41it/s, Batch Loss=2e+3]"
     ]
    },
    {
     "name": "stdout",
     "output_type": "stream",
     "text": [
      "WARNING, this dataset has not been verified with PARCv2. Confirm orientation of x and y before proceeding.\n",
      "WARNING, this dataset has not been verified with PARCv2. Confirm orientation of x and y before proceeding.\n"
     ]
    },
    {
     "name": "stderr",
     "output_type": "stream",
     "text": [
      "Epoch 1/1:   0%|          | 42/70048 [00:30<13:47:26,  1.41it/s, Batch Loss=2e+3]"
     ]
    },
    {
     "name": "stdout",
     "output_type": "stream",
     "text": [
      "WARNING, this dataset has not been verified with PARCv2. Confirm orientation of x and y before proceeding.\n",
      "WARNING, this dataset has not been verified with PARCv2. Confirm orientation of x and y before proceeding.\n"
     ]
    },
    {
     "name": "stderr",
     "output_type": "stream",
     "text": [
      "Epoch 1/1:   0%|          | 43/70048 [00:31<13:48:40,  1.41it/s, Batch Loss=2e+3]"
     ]
    },
    {
     "name": "stdout",
     "output_type": "stream",
     "text": [
      "WARNING, this dataset has not been verified with PARCv2. Confirm orientation of x and y before proceeding.\n",
      "WARNING, this dataset has not been verified with PARCv2. Confirm orientation of x and y before proceeding.\n"
     ]
    },
    {
     "name": "stderr",
     "output_type": "stream",
     "text": [
      "Epoch 1/1:   0%|          | 44/70048 [00:32<13:47:32,  1.41it/s, Batch Loss=2e+3]"
     ]
    },
    {
     "name": "stdout",
     "output_type": "stream",
     "text": [
      "WARNING, this dataset has not been verified with PARCv2. Confirm orientation of x and y before proceeding.\n",
      "WARNING, this dataset has not been verified with PARCv2. Confirm orientation of x and y before proceeding.\n"
     ]
    },
    {
     "name": "stderr",
     "output_type": "stream",
     "text": [
      "Epoch 1/1:   0%|          | 45/70048 [00:33<13:51:39,  1.40it/s, Batch Loss=2e+3]"
     ]
    },
    {
     "name": "stdout",
     "output_type": "stream",
     "text": [
      "WARNING, this dataset has not been verified with PARCv2. Confirm orientation of x and y before proceeding.\n",
      "WARNING, this dataset has not been verified with PARCv2. Confirm orientation of x and y before proceeding.\n"
     ]
    },
    {
     "name": "stderr",
     "output_type": "stream",
     "text": [
      "Epoch 1/1:   0%|          | 46/70048 [00:33<13:49:49,  1.41it/s, Batch Loss=2e+3]"
     ]
    },
    {
     "name": "stdout",
     "output_type": "stream",
     "text": [
      "WARNING, this dataset has not been verified with PARCv2. Confirm orientation of x and y before proceeding.\n",
      "WARNING, this dataset has not been verified with PARCv2. Confirm orientation of x and y before proceeding.\n"
     ]
    },
    {
     "name": "stderr",
     "output_type": "stream",
     "text": [
      "Epoch 1/1:   0%|          | 47/70048 [00:34<13:49:44,  1.41it/s, Batch Loss=2e+3]"
     ]
    },
    {
     "name": "stdout",
     "output_type": "stream",
     "text": [
      "WARNING, this dataset has not been verified with PARCv2. Confirm orientation of x and y before proceeding.\n",
      "WARNING, this dataset has not been verified with PARCv2. Confirm orientation of x and y before proceeding.\n"
     ]
    },
    {
     "name": "stderr",
     "output_type": "stream",
     "text": [
      "Epoch 1/1:   0%|          | 48/70048 [00:35<13:48:20,  1.41it/s, Batch Loss=2e+3]"
     ]
    },
    {
     "name": "stdout",
     "output_type": "stream",
     "text": [
      "WARNING, this dataset has not been verified with PARCv2. Confirm orientation of x and y before proceeding.\n",
      "WARNING, this dataset has not been verified with PARCv2. Confirm orientation of x and y before proceeding.\n"
     ]
    },
    {
     "name": "stderr",
     "output_type": "stream",
     "text": [
      "Epoch 1/1:   0%|          | 49/70048 [00:35<13:48:35,  1.41it/s, Batch Loss=2e+3]"
     ]
    },
    {
     "name": "stdout",
     "output_type": "stream",
     "text": [
      "WARNING, this dataset has not been verified with PARCv2. Confirm orientation of x and y before proceeding.\n",
      "WARNING, this dataset has not been verified with PARCv2. Confirm orientation of x and y before proceeding.\n"
     ]
    },
    {
     "name": "stderr",
     "output_type": "stream",
     "text": [
      "Epoch 1/1:   0%|          | 50/70048 [00:36<13:47:36,  1.41it/s, Batch Loss=2e+3]"
     ]
    },
    {
     "name": "stdout",
     "output_type": "stream",
     "text": [
      "WARNING, this dataset has not been verified with PARCv2. Confirm orientation of x and y before proceeding.\n",
      "WARNING, this dataset has not been verified with PARCv2. Confirm orientation of x and y before proceeding.\n"
     ]
    },
    {
     "name": "stderr",
     "output_type": "stream",
     "text": [
      "Epoch 1/1:   0%|          | 51/70048 [00:37<13:47:55,  1.41it/s, Batch Loss=2e+3]"
     ]
    },
    {
     "name": "stdout",
     "output_type": "stream",
     "text": [
      "WARNING, this dataset has not been verified with PARCv2. Confirm orientation of x and y before proceeding.\n",
      "WARNING, this dataset has not been verified with PARCv2. Confirm orientation of x and y before proceeding.\n"
     ]
    },
    {
     "name": "stderr",
     "output_type": "stream",
     "text": [
      "Epoch 1/1:   0%|          | 52/70048 [00:37<13:47:07,  1.41it/s, Batch Loss=2e+3]"
     ]
    },
    {
     "name": "stdout",
     "output_type": "stream",
     "text": [
      "WARNING, this dataset has not been verified with PARCv2. Confirm orientation of x and y before proceeding.\n",
      "WARNING, this dataset has not been verified with PARCv2. Confirm orientation of x and y before proceeding.\n"
     ]
    },
    {
     "name": "stderr",
     "output_type": "stream",
     "text": [
      "Epoch 1/1:   0%|          | 53/70048 [00:38<13:47:44,  1.41it/s, Batch Loss=2e+3]"
     ]
    },
    {
     "name": "stdout",
     "output_type": "stream",
     "text": [
      "WARNING, this dataset has not been verified with PARCv2. Confirm orientation of x and y before proceeding.\n",
      "WARNING, this dataset has not been verified with PARCv2. Confirm orientation of x and y before proceeding.\n"
     ]
    },
    {
     "name": "stderr",
     "output_type": "stream",
     "text": [
      "Epoch 1/1:   0%|          | 54/70048 [00:39<13:46:57,  1.41it/s, Batch Loss=2e+3]"
     ]
    },
    {
     "name": "stdout",
     "output_type": "stream",
     "text": [
      "WARNING, this dataset has not been verified with PARCv2. Confirm orientation of x and y before proceeding.\n",
      "WARNING, this dataset has not been verified with PARCv2. Confirm orientation of x and y before proceeding.\n"
     ]
    },
    {
     "name": "stderr",
     "output_type": "stream",
     "text": [
      "Epoch 1/1:   0%|          | 55/70048 [00:40<13:47:30,  1.41it/s, Batch Loss=2e+3]"
     ]
    },
    {
     "name": "stdout",
     "output_type": "stream",
     "text": [
      "WARNING, this dataset has not been verified with PARCv2. Confirm orientation of x and y before proceeding.\n",
      "WARNING, this dataset has not been verified with PARCv2. Confirm orientation of x and y before proceeding.\n"
     ]
    },
    {
     "name": "stderr",
     "output_type": "stream",
     "text": [
      "Epoch 1/1:   0%|          | 56/70048 [00:40<13:46:41,  1.41it/s, Batch Loss=2e+3]"
     ]
    },
    {
     "name": "stdout",
     "output_type": "stream",
     "text": [
      "WARNING, this dataset has not been verified with PARCv2. Confirm orientation of x and y before proceeding.\n",
      "WARNING, this dataset has not been verified with PARCv2. Confirm orientation of x and y before proceeding.\n"
     ]
    },
    {
     "name": "stderr",
     "output_type": "stream",
     "text": [
      "Epoch 1/1:   0%|          | 57/70048 [00:41<13:50:12,  1.41it/s, Batch Loss=2e+3]"
     ]
    },
    {
     "name": "stdout",
     "output_type": "stream",
     "text": [
      "WARNING, this dataset has not been verified with PARCv2. Confirm orientation of x and y before proceeding.\n",
      "WARNING, this dataset has not been verified with PARCv2. Confirm orientation of x and y before proceeding.\n"
     ]
    },
    {
     "name": "stderr",
     "output_type": "stream",
     "text": [
      "Epoch 1/1:   0%|          | 58/70048 [00:42<13:48:18,  1.41it/s, Batch Loss=2e+3]"
     ]
    },
    {
     "name": "stdout",
     "output_type": "stream",
     "text": [
      "WARNING, this dataset has not been verified with PARCv2. Confirm orientation of x and y before proceeding.\n",
      "WARNING, this dataset has not been verified with PARCv2. Confirm orientation of x and y before proceeding.\n"
     ]
    },
    {
     "name": "stderr",
     "output_type": "stream",
     "text": [
      "Epoch 1/1:   0%|          | 59/70048 [00:42<14:00:01,  1.39it/s, Batch Loss=2e+3]"
     ]
    },
    {
     "name": "stdout",
     "output_type": "stream",
     "text": [
      "WARNING, this dataset has not been verified with PARCv2. Confirm orientation of x and y before proceeding.\n",
      "WARNING, this dataset has not been verified with PARCv2. Confirm orientation of x and y before proceeding.\n"
     ]
    },
    {
     "name": "stderr",
     "output_type": "stream",
     "text": [
      "Epoch 1/1:   0%|          | 60/70048 [00:43<13:55:10,  1.40it/s, Batch Loss=2e+3]"
     ]
    },
    {
     "name": "stdout",
     "output_type": "stream",
     "text": [
      "WARNING, this dataset has not been verified with PARCv2. Confirm orientation of x and y before proceeding.\n",
      "WARNING, this dataset has not been verified with PARCv2. Confirm orientation of x and y before proceeding.\n"
     ]
    },
    {
     "name": "stderr",
     "output_type": "stream",
     "text": [
      "Epoch 1/1:   0%|          | 61/70048 [00:44<13:53:26,  1.40it/s, Batch Loss=2e+3]"
     ]
    },
    {
     "name": "stdout",
     "output_type": "stream",
     "text": [
      "WARNING, this dataset has not been verified with PARCv2. Confirm orientation of x and y before proceeding.\n",
      "WARNING, this dataset has not been verified with PARCv2. Confirm orientation of x and y before proceeding.\n"
     ]
    },
    {
     "name": "stderr",
     "output_type": "stream",
     "text": [
      "Epoch 1/1:   0%|          | 62/70048 [00:45<13:51:11,  1.40it/s, Batch Loss=2e+3]"
     ]
    },
    {
     "name": "stdout",
     "output_type": "stream",
     "text": [
      "WARNING, this dataset has not been verified with PARCv2. Confirm orientation of x and y before proceeding.\n",
      "WARNING, this dataset has not been verified with PARCv2. Confirm orientation of x and y before proceeding.\n"
     ]
    },
    {
     "name": "stderr",
     "output_type": "stream",
     "text": [
      "Epoch 1/1:   0%|          | 63/70048 [00:45<13:50:36,  1.40it/s, Batch Loss=2e+3]"
     ]
    },
    {
     "name": "stdout",
     "output_type": "stream",
     "text": [
      "WARNING, this dataset has not been verified with PARCv2. Confirm orientation of x and y before proceeding.\n",
      "WARNING, this dataset has not been verified with PARCv2. Confirm orientation of x and y before proceeding.\n"
     ]
    },
    {
     "name": "stderr",
     "output_type": "stream",
     "text": [
      "Epoch 1/1:   0%|          | 64/70048 [00:46<13:51:34,  1.40it/s, Batch Loss=2e+3]"
     ]
    },
    {
     "name": "stdout",
     "output_type": "stream",
     "text": [
      "WARNING, this dataset has not been verified with PARCv2. Confirm orientation of x and y before proceeding.\n",
      "WARNING, this dataset has not been verified with PARCv2. Confirm orientation of x and y before proceeding.\n"
     ]
    },
    {
     "name": "stderr",
     "output_type": "stream",
     "text": [
      "Epoch 1/1:   0%|          | 65/70048 [00:47<13:51:38,  1.40it/s, Batch Loss=2e+3]"
     ]
    },
    {
     "name": "stdout",
     "output_type": "stream",
     "text": [
      "WARNING, this dataset has not been verified with PARCv2. Confirm orientation of x and y before proceeding.\n",
      "WARNING, this dataset has not been verified with PARCv2. Confirm orientation of x and y before proceeding.\n"
     ]
    },
    {
     "name": "stderr",
     "output_type": "stream",
     "text": [
      "Epoch 1/1:   0%|          | 66/70048 [00:47<13:49:44,  1.41it/s, Batch Loss=2e+3]"
     ]
    },
    {
     "name": "stdout",
     "output_type": "stream",
     "text": [
      "WARNING, this dataset has not been verified with PARCv2. Confirm orientation of x and y before proceeding.\n",
      "WARNING, this dataset has not been verified with PARCv2. Confirm orientation of x and y before proceeding.\n"
     ]
    },
    {
     "name": "stderr",
     "output_type": "stream",
     "text": [
      "Epoch 1/1:   0%|          | 67/70048 [00:48<13:49:30,  1.41it/s, Batch Loss=2e+3]"
     ]
    },
    {
     "name": "stdout",
     "output_type": "stream",
     "text": [
      "WARNING, this dataset has not been verified with PARCv2. Confirm orientation of x and y before proceeding.\n",
      "WARNING, this dataset has not been verified with PARCv2. Confirm orientation of x and y before proceeding.\n"
     ]
    },
    {
     "name": "stderr",
     "output_type": "stream",
     "text": [
      "Epoch 1/1:   0%|          | 68/70048 [00:49<13:48:52,  1.41it/s, Batch Loss=2e+3]"
     ]
    },
    {
     "name": "stdout",
     "output_type": "stream",
     "text": [
      "WARNING, this dataset has not been verified with PARCv2. Confirm orientation of x and y before proceeding.\n",
      "WARNING, this dataset has not been verified with PARCv2. Confirm orientation of x and y before proceeding.\n"
     ]
    },
    {
     "name": "stderr",
     "output_type": "stream",
     "text": [
      "Epoch 1/1:   0%|          | 69/70048 [00:50<13:48:55,  1.41it/s, Batch Loss=2e+3]"
     ]
    },
    {
     "name": "stdout",
     "output_type": "stream",
     "text": [
      "WARNING, this dataset has not been verified with PARCv2. Confirm orientation of x and y before proceeding.\n",
      "WARNING, this dataset has not been verified with PARCv2. Confirm orientation of x and y before proceeding.\n"
     ]
    },
    {
     "name": "stderr",
     "output_type": "stream",
     "text": [
      "Epoch 1/1:   0%|          | 70/70048 [00:50<13:47:44,  1.41it/s, Batch Loss=2e+3]"
     ]
    },
    {
     "name": "stdout",
     "output_type": "stream",
     "text": [
      "WARNING, this dataset has not been verified with PARCv2. Confirm orientation of x and y before proceeding.\n",
      "WARNING, this dataset has not been verified with PARCv2. Confirm orientation of x and y before proceeding.\n"
     ]
    },
    {
     "name": "stderr",
     "output_type": "stream",
     "text": [
      "Epoch 1/1:   0%|          | 71/70048 [00:51<13:48:23,  1.41it/s, Batch Loss=2e+3]"
     ]
    },
    {
     "name": "stdout",
     "output_type": "stream",
     "text": [
      "WARNING, this dataset has not been verified with PARCv2. Confirm orientation of x and y before proceeding.\n",
      "WARNING, this dataset has not been verified with PARCv2. Confirm orientation of x and y before proceeding.\n"
     ]
    },
    {
     "name": "stderr",
     "output_type": "stream",
     "text": [
      "Epoch 1/1:   0%|          | 72/70048 [00:52<13:47:41,  1.41it/s, Batch Loss=2e+3]"
     ]
    },
    {
     "name": "stdout",
     "output_type": "stream",
     "text": [
      "WARNING, this dataset has not been verified with PARCv2. Confirm orientation of x and y before proceeding.\n",
      "WARNING, this dataset has not been verified with PARCv2. Confirm orientation of x and y before proceeding.\n"
     ]
    },
    {
     "name": "stderr",
     "output_type": "stream",
     "text": [
      "Epoch 1/1:   0%|          | 73/70048 [00:52<13:48:10,  1.41it/s, Batch Loss=2e+3]"
     ]
    },
    {
     "name": "stdout",
     "output_type": "stream",
     "text": [
      "WARNING, this dataset has not been verified with PARCv2. Confirm orientation of x and y before proceeding.\n",
      "WARNING, this dataset has not been verified with PARCv2. Confirm orientation of x and y before proceeding.\n"
     ]
    },
    {
     "name": "stderr",
     "output_type": "stream",
     "text": [
      "Epoch 1/1:   0%|          | 74/70048 [00:53<13:47:30,  1.41it/s, Batch Loss=2e+3]"
     ]
    },
    {
     "name": "stdout",
     "output_type": "stream",
     "text": [
      "WARNING, this dataset has not been verified with PARCv2. Confirm orientation of x and y before proceeding.\n",
      "WARNING, this dataset has not been verified with PARCv2. Confirm orientation of x and y before proceeding.\n"
     ]
    },
    {
     "name": "stderr",
     "output_type": "stream",
     "text": [
      "Epoch 1/1:   0%|          | 75/70048 [00:54<13:48:04,  1.41it/s, Batch Loss=2e+3]"
     ]
    },
    {
     "name": "stdout",
     "output_type": "stream",
     "text": [
      "WARNING, this dataset has not been verified with PARCv2. Confirm orientation of x and y before proceeding.\n",
      "WARNING, this dataset has not been verified with PARCv2. Confirm orientation of x and y before proceeding.\n"
     ]
    },
    {
     "name": "stderr",
     "output_type": "stream",
     "text": [
      "Epoch 1/1:   0%|          | 76/70048 [00:55<13:47:21,  1.41it/s, Batch Loss=2e+3]"
     ]
    },
    {
     "name": "stdout",
     "output_type": "stream",
     "text": [
      "WARNING, this dataset has not been verified with PARCv2. Confirm orientation of x and y before proceeding.\n",
      "WARNING, this dataset has not been verified with PARCv2. Confirm orientation of x and y before proceeding.\n"
     ]
    },
    {
     "name": "stderr",
     "output_type": "stream",
     "text": [
      "Epoch 1/1:   0%|          | 77/70048 [00:55<13:47:55,  1.41it/s, Batch Loss=2e+3]"
     ]
    },
    {
     "name": "stdout",
     "output_type": "stream",
     "text": [
      "WARNING, this dataset has not been verified with PARCv2. Confirm orientation of x and y before proceeding.\n",
      "WARNING, this dataset has not been verified with PARCv2. Confirm orientation of x and y before proceeding.\n"
     ]
    },
    {
     "name": "stderr",
     "output_type": "stream",
     "text": [
      "Epoch 1/1:   0%|          | 78/70048 [00:56<13:47:02,  1.41it/s, Batch Loss=2e+3]"
     ]
    },
    {
     "name": "stdout",
     "output_type": "stream",
     "text": [
      "WARNING, this dataset has not been verified with PARCv2. Confirm orientation of x and y before proceeding.\n",
      "WARNING, this dataset has not been verified with PARCv2. Confirm orientation of x and y before proceeding.\n"
     ]
    },
    {
     "name": "stderr",
     "output_type": "stream",
     "text": [
      "Epoch 1/1:   0%|          | 79/70048 [00:57<13:47:49,  1.41it/s, Batch Loss=2e+3]"
     ]
    },
    {
     "name": "stdout",
     "output_type": "stream",
     "text": [
      "WARNING, this dataset has not been verified with PARCv2. Confirm orientation of x and y before proceeding.\n",
      "WARNING, this dataset has not been verified with PARCv2. Confirm orientation of x and y before proceeding.\n"
     ]
    },
    {
     "name": "stderr",
     "output_type": "stream",
     "text": [
      "Epoch 1/1:   0%|          | 80/70048 [00:57<13:46:59,  1.41it/s, Batch Loss=2e+3]"
     ]
    },
    {
     "name": "stdout",
     "output_type": "stream",
     "text": [
      "WARNING, this dataset has not been verified with PARCv2. Confirm orientation of x and y before proceeding.\n",
      "WARNING, this dataset has not been verified with PARCv2. Confirm orientation of x and y before proceeding.\n"
     ]
    },
    {
     "name": "stderr",
     "output_type": "stream",
     "text": [
      "Epoch 1/1:   0%|          | 81/70048 [00:58<13:47:38,  1.41it/s, Batch Loss=2e+3]"
     ]
    },
    {
     "name": "stdout",
     "output_type": "stream",
     "text": [
      "WARNING, this dataset has not been verified with PARCv2. Confirm orientation of x and y before proceeding.\n",
      "WARNING, this dataset has not been verified with PARCv2. Confirm orientation of x and y before proceeding.\n"
     ]
    },
    {
     "name": "stderr",
     "output_type": "stream",
     "text": [
      "Epoch 1/1:   0%|          | 82/70048 [00:59<13:47:08,  1.41it/s, Batch Loss=2e+3]"
     ]
    },
    {
     "name": "stdout",
     "output_type": "stream",
     "text": [
      "WARNING, this dataset has not been verified with PARCv2. Confirm orientation of x and y before proceeding.\n",
      "WARNING, this dataset has not been verified with PARCv2. Confirm orientation of x and y before proceeding.\n"
     ]
    },
    {
     "name": "stderr",
     "output_type": "stream",
     "text": [
      "Epoch 1/1:   0%|          | 83/70048 [01:00<13:49:59,  1.40it/s, Batch Loss=2e+3]"
     ]
    },
    {
     "name": "stdout",
     "output_type": "stream",
     "text": [
      "WARNING, this dataset has not been verified with PARCv2. Confirm orientation of x and y before proceeding.\n",
      "WARNING, this dataset has not been verified with PARCv2. Confirm orientation of x and y before proceeding.\n"
     ]
    },
    {
     "name": "stderr",
     "output_type": "stream",
     "text": [
      "Epoch 1/1:   0%|          | 84/70048 [01:00<13:48:33,  1.41it/s, Batch Loss=2e+3]"
     ]
    },
    {
     "name": "stdout",
     "output_type": "stream",
     "text": [
      "WARNING, this dataset has not been verified with PARCv2. Confirm orientation of x and y before proceeding.\n",
      "WARNING, this dataset has not been verified with PARCv2. Confirm orientation of x and y before proceeding.\n"
     ]
    },
    {
     "name": "stderr",
     "output_type": "stream",
     "text": [
      "Epoch 1/1:   0%|          | 85/70048 [01:01<13:48:52,  1.41it/s, Batch Loss=2e+3]"
     ]
    },
    {
     "name": "stdout",
     "output_type": "stream",
     "text": [
      "WARNING, this dataset has not been verified with PARCv2. Confirm orientation of x and y before proceeding.\n",
      "WARNING, this dataset has not been verified with PARCv2. Confirm orientation of x and y before proceeding.\n"
     ]
    },
    {
     "name": "stderr",
     "output_type": "stream",
     "text": [
      "Epoch 1/1:   0%|          | 86/70048 [01:02<13:50:58,  1.40it/s, Batch Loss=2e+3]"
     ]
    },
    {
     "name": "stdout",
     "output_type": "stream",
     "text": [
      "WARNING, this dataset has not been verified with PARCv2. Confirm orientation of x and y before proceeding.\n",
      "WARNING, this dataset has not been verified with PARCv2. Confirm orientation of x and y before proceeding.\n"
     ]
    },
    {
     "name": "stderr",
     "output_type": "stream",
     "text": [
      "Epoch 1/1:   0%|          | 87/70048 [01:02<13:53:44,  1.40it/s, Batch Loss=2e+3]"
     ]
    },
    {
     "name": "stdout",
     "output_type": "stream",
     "text": [
      "WARNING, this dataset has not been verified with PARCv2. Confirm orientation of x and y before proceeding.\n",
      "WARNING, this dataset has not been verified with PARCv2. Confirm orientation of x and y before proceeding.\n"
     ]
    },
    {
     "name": "stderr",
     "output_type": "stream",
     "text": [
      "Epoch 1/1:   0%|          | 88/70048 [01:03<13:51:18,  1.40it/s, Batch Loss=2e+3]"
     ]
    },
    {
     "name": "stdout",
     "output_type": "stream",
     "text": [
      "WARNING, this dataset has not been verified with PARCv2. Confirm orientation of x and y before proceeding.\n",
      "WARNING, this dataset has not been verified with PARCv2. Confirm orientation of x and y before proceeding.\n"
     ]
    },
    {
     "name": "stderr",
     "output_type": "stream",
     "text": [
      "Epoch 1/1:   0%|          | 89/70048 [01:04<13:50:41,  1.40it/s, Batch Loss=2e+3]"
     ]
    },
    {
     "name": "stdout",
     "output_type": "stream",
     "text": [
      "WARNING, this dataset has not been verified with PARCv2. Confirm orientation of x and y before proceeding.\n",
      "WARNING, this dataset has not been verified with PARCv2. Confirm orientation of x and y before proceeding.\n"
     ]
    },
    {
     "name": "stderr",
     "output_type": "stream",
     "text": [
      "Epoch 1/1:   0%|          | 90/70048 [01:05<13:49:06,  1.41it/s, Batch Loss=2e+3]"
     ]
    },
    {
     "name": "stdout",
     "output_type": "stream",
     "text": [
      "WARNING, this dataset has not been verified with PARCv2. Confirm orientation of x and y before proceeding.\n",
      "WARNING, this dataset has not been verified with PARCv2. Confirm orientation of x and y before proceeding.\n"
     ]
    },
    {
     "name": "stderr",
     "output_type": "stream",
     "text": [
      "Epoch 1/1:   0%|          | 91/70048 [01:05<13:49:07,  1.41it/s, Batch Loss=2e+3]"
     ]
    },
    {
     "name": "stdout",
     "output_type": "stream",
     "text": [
      "WARNING, this dataset has not been verified with PARCv2. Confirm orientation of x and y before proceeding.\n",
      "WARNING, this dataset has not been verified with PARCv2. Confirm orientation of x and y before proceeding.\n"
     ]
    },
    {
     "name": "stderr",
     "output_type": "stream",
     "text": [
      "Epoch 1/1:   0%|          | 92/70048 [01:06<13:48:04,  1.41it/s, Batch Loss=2e+3]"
     ]
    },
    {
     "name": "stdout",
     "output_type": "stream",
     "text": [
      "WARNING, this dataset has not been verified with PARCv2. Confirm orientation of x and y before proceeding.\n",
      "WARNING, this dataset has not been verified with PARCv2. Confirm orientation of x and y before proceeding.\n"
     ]
    },
    {
     "name": "stderr",
     "output_type": "stream",
     "text": [
      "Epoch 1/1:   0%|          | 93/70048 [01:07<13:48:35,  1.41it/s, Batch Loss=2e+3]"
     ]
    },
    {
     "name": "stdout",
     "output_type": "stream",
     "text": [
      "WARNING, this dataset has not been verified with PARCv2. Confirm orientation of x and y before proceeding.\n",
      "WARNING, this dataset has not been verified with PARCv2. Confirm orientation of x and y before proceeding.\n"
     ]
    },
    {
     "name": "stderr",
     "output_type": "stream",
     "text": [
      "Epoch 1/1:   0%|          | 94/70048 [01:07<13:47:37,  1.41it/s, Batch Loss=2e+3]"
     ]
    },
    {
     "name": "stdout",
     "output_type": "stream",
     "text": [
      "WARNING, this dataset has not been verified with PARCv2. Confirm orientation of x and y before proceeding.\n",
      "WARNING, this dataset has not been verified with PARCv2. Confirm orientation of x and y before proceeding.\n"
     ]
    },
    {
     "name": "stderr",
     "output_type": "stream",
     "text": [
      "Epoch 1/1:   0%|          | 95/70048 [01:08<13:48:07,  1.41it/s, Batch Loss=2e+3]"
     ]
    },
    {
     "name": "stdout",
     "output_type": "stream",
     "text": [
      "WARNING, this dataset has not been verified with PARCv2. Confirm orientation of x and y before proceeding.\n",
      "WARNING, this dataset has not been verified with PARCv2. Confirm orientation of x and y before proceeding.\n"
     ]
    },
    {
     "name": "stderr",
     "output_type": "stream",
     "text": [
      "Epoch 1/1:   0%|          | 96/70048 [01:09<13:47:11,  1.41it/s, Batch Loss=2e+3]"
     ]
    },
    {
     "name": "stdout",
     "output_type": "stream",
     "text": [
      "WARNING, this dataset has not been verified with PARCv2. Confirm orientation of x and y before proceeding.\n",
      "WARNING, this dataset has not been verified with PARCv2. Confirm orientation of x and y before proceeding.\n"
     ]
    },
    {
     "name": "stderr",
     "output_type": "stream",
     "text": [
      "Epoch 1/1:   0%|          | 97/70048 [01:09<13:47:44,  1.41it/s, Batch Loss=2e+3]"
     ]
    },
    {
     "name": "stdout",
     "output_type": "stream",
     "text": [
      "WARNING, this dataset has not been verified with PARCv2. Confirm orientation of x and y before proceeding.\n",
      "WARNING, this dataset has not been verified with PARCv2. Confirm orientation of x and y before proceeding.\n"
     ]
    },
    {
     "name": "stderr",
     "output_type": "stream",
     "text": [
      "Epoch 1/1:   0%|          | 98/70048 [01:10<13:47:03,  1.41it/s, Batch Loss=2e+3]"
     ]
    },
    {
     "name": "stdout",
     "output_type": "stream",
     "text": [
      "WARNING, this dataset has not been verified with PARCv2. Confirm orientation of x and y before proceeding.\n",
      "WARNING, this dataset has not been verified with PARCv2. Confirm orientation of x and y before proceeding.\n"
     ]
    },
    {
     "name": "stderr",
     "output_type": "stream",
     "text": [
      "Epoch 1/1:   0%|          | 99/70048 [01:11<13:47:43,  1.41it/s, Batch Loss=2e+3]"
     ]
    },
    {
     "name": "stdout",
     "output_type": "stream",
     "text": [
      "WARNING, this dataset has not been verified with PARCv2. Confirm orientation of x and y before proceeding.\n",
      "WARNING, this dataset has not been verified with PARCv2. Confirm orientation of x and y before proceeding.\n"
     ]
    },
    {
     "name": "stderr",
     "output_type": "stream",
     "text": [
      "Epoch 1/1:   0%|          | 100/70048 [01:12<13:46:37,  1.41it/s, Batch Loss=2e+3]"
     ]
    },
    {
     "name": "stdout",
     "output_type": "stream",
     "text": [
      "WARNING, this dataset has not been verified with PARCv2. Confirm orientation of x and y before proceeding.\n",
      "WARNING, this dataset has not been verified with PARCv2. Confirm orientation of x and y before proceeding.\n"
     ]
    },
    {
     "name": "stderr",
     "output_type": "stream",
     "text": [
      "Epoch 1/1:   0%|          | 101/70048 [01:12<13:47:23,  1.41it/s, Batch Loss=2e+3]"
     ]
    },
    {
     "name": "stdout",
     "output_type": "stream",
     "text": [
      "WARNING, this dataset has not been verified with PARCv2. Confirm orientation of x and y before proceeding.\n",
      "WARNING, this dataset has not been verified with PARCv2. Confirm orientation of x and y before proceeding.\n"
     ]
    },
    {
     "name": "stderr",
     "output_type": "stream",
     "text": [
      "Epoch 1/1:   0%|          | 102/70048 [01:13<13:49:34,  1.41it/s, Batch Loss=2e+3]"
     ]
    },
    {
     "name": "stdout",
     "output_type": "stream",
     "text": [
      "WARNING, this dataset has not been verified with PARCv2. Confirm orientation of x and y before proceeding.\n",
      "WARNING, this dataset has not been verified with PARCv2. Confirm orientation of x and y before proceeding.\n"
     ]
    },
    {
     "name": "stderr",
     "output_type": "stream",
     "text": [
      "Epoch 1/1:   0%|          | 103/70048 [01:14<13:50:21,  1.40it/s, Batch Loss=2e+3]"
     ]
    },
    {
     "name": "stdout",
     "output_type": "stream",
     "text": [
      "WARNING, this dataset has not been verified with PARCv2. Confirm orientation of x and y before proceeding.\n",
      "WARNING, this dataset has not been verified with PARCv2. Confirm orientation of x and y before proceeding.\n"
     ]
    },
    {
     "name": "stderr",
     "output_type": "stream",
     "text": [
      "Epoch 1/1:   0%|          | 104/70048 [01:14<13:48:42,  1.41it/s, Batch Loss=2e+3]"
     ]
    },
    {
     "name": "stdout",
     "output_type": "stream",
     "text": [
      "WARNING, this dataset has not been verified with PARCv2. Confirm orientation of x and y before proceeding.\n",
      "WARNING, this dataset has not been verified with PARCv2. Confirm orientation of x and y before proceeding.\n"
     ]
    },
    {
     "name": "stderr",
     "output_type": "stream",
     "text": [
      "Epoch 1/1:   0%|          | 105/70048 [01:15<13:48:50,  1.41it/s, Batch Loss=2e+3]"
     ]
    },
    {
     "name": "stdout",
     "output_type": "stream",
     "text": [
      "WARNING, this dataset has not been verified with PARCv2. Confirm orientation of x and y before proceeding.\n",
      "WARNING, this dataset has not been verified with PARCv2. Confirm orientation of x and y before proceeding.\n"
     ]
    },
    {
     "name": "stderr",
     "output_type": "stream",
     "text": [
      "Epoch 1/1:   0%|          | 106/70048 [01:16<13:47:53,  1.41it/s, Batch Loss=2e+3]"
     ]
    },
    {
     "name": "stdout",
     "output_type": "stream",
     "text": [
      "WARNING, this dataset has not been verified with PARCv2. Confirm orientation of x and y before proceeding.\n",
      "WARNING, this dataset has not been verified with PARCv2. Confirm orientation of x and y before proceeding.\n"
     ]
    },
    {
     "name": "stderr",
     "output_type": "stream",
     "text": [
      "Epoch 1/1:   0%|          | 107/70048 [01:17<13:48:19,  1.41it/s, Batch Loss=2e+3]"
     ]
    },
    {
     "name": "stdout",
     "output_type": "stream",
     "text": [
      "WARNING, this dataset has not been verified with PARCv2. Confirm orientation of x and y before proceeding.\n",
      "WARNING, this dataset has not been verified with PARCv2. Confirm orientation of x and y before proceeding.\n"
     ]
    },
    {
     "name": "stderr",
     "output_type": "stream",
     "text": [
      "Epoch 1/1:   0%|          | 108/70048 [01:17<13:47:25,  1.41it/s, Batch Loss=2e+3]"
     ]
    },
    {
     "name": "stdout",
     "output_type": "stream",
     "text": [
      "WARNING, this dataset has not been verified with PARCv2. Confirm orientation of x and y before proceeding.\n",
      "WARNING, this dataset has not been verified with PARCv2. Confirm orientation of x and y before proceeding.\n"
     ]
    },
    {
     "name": "stderr",
     "output_type": "stream",
     "text": [
      "Epoch 1/1:   0%|          | 109/70048 [01:18<13:48:00,  1.41it/s, Batch Loss=2e+3]"
     ]
    },
    {
     "name": "stdout",
     "output_type": "stream",
     "text": [
      "WARNING, this dataset has not been verified with PARCv2. Confirm orientation of x and y before proceeding.\n",
      "WARNING, this dataset has not been verified with PARCv2. Confirm orientation of x and y before proceeding.\n"
     ]
    },
    {
     "name": "stderr",
     "output_type": "stream",
     "text": [
      "Epoch 1/1:   0%|          | 110/70048 [01:19<13:47:08,  1.41it/s, Batch Loss=2e+3]"
     ]
    },
    {
     "name": "stdout",
     "output_type": "stream",
     "text": [
      "WARNING, this dataset has not been verified with PARCv2. Confirm orientation of x and y before proceeding.\n",
      "WARNING, this dataset has not been verified with PARCv2. Confirm orientation of x and y before proceeding.\n"
     ]
    },
    {
     "name": "stderr",
     "output_type": "stream",
     "text": [
      "Epoch 1/1:   0%|          | 111/70048 [01:19<13:47:43,  1.41it/s, Batch Loss=2e+3]"
     ]
    },
    {
     "name": "stdout",
     "output_type": "stream",
     "text": [
      "WARNING, this dataset has not been verified with PARCv2. Confirm orientation of x and y before proceeding.\n",
      "WARNING, this dataset has not been verified with PARCv2. Confirm orientation of x and y before proceeding.\n"
     ]
    },
    {
     "name": "stderr",
     "output_type": "stream",
     "text": [
      "Epoch 1/1:   0%|          | 112/70048 [01:20<13:48:48,  1.41it/s, Batch Loss=2e+3]"
     ]
    },
    {
     "name": "stdout",
     "output_type": "stream",
     "text": [
      "WARNING, this dataset has not been verified with PARCv2. Confirm orientation of x and y before proceeding.\n",
      "WARNING, this dataset has not been verified with PARCv2. Confirm orientation of x and y before proceeding.\n"
     ]
    },
    {
     "name": "stderr",
     "output_type": "stream",
     "text": [
      "Epoch 1/1:   0%|          | 112/70048 [01:21<14:04:34,  1.38it/s, Batch Loss=2e+3]\n"
     ]
    },
    {
     "ename": "KeyboardInterrupt",
     "evalue": "",
     "output_type": "error",
     "traceback": [
      "\u001b[31m---------------------------------------------------------------------------\u001b[39m",
      "\u001b[31mKeyboardInterrupt\u001b[39m                         Traceback (most recent call last)",
      "\u001b[36mCell\u001b[39m\u001b[36m \u001b[39m\u001b[32mIn[8]\u001b[39m\u001b[32m, line 3\u001b[39m\n\u001b[32m      1\u001b[39m \u001b[38;5;28;01mfrom\u001b[39;00m\u001b[38;5;250m \u001b[39m\u001b[34;01mtrain\u001b[39;00m\u001b[38;5;250m \u001b[39m\u001b[38;5;28;01mimport\u001b[39;00m train_model\n\u001b[32m----> \u001b[39m\u001b[32m3\u001b[39m \u001b[43mtrain_model\u001b[49m\u001b[43m(\u001b[49m\n\u001b[32m      4\u001b[39m \u001b[43m    \u001b[49m\u001b[43mmodel\u001b[49m\u001b[43m,\u001b[49m\n\u001b[32m      5\u001b[39m \u001b[43m    \u001b[49m\u001b[43mtrain_loader\u001b[49m\u001b[43m,\u001b[49m\n\u001b[32m      6\u001b[39m \u001b[43m    \u001b[49m\u001b[43mcriterion\u001b[49m\u001b[43m,\u001b[49m\n\u001b[32m      7\u001b[39m \u001b[43m    \u001b[49m\u001b[43moptimizer\u001b[49m\u001b[43m,\u001b[49m\n\u001b[32m      8\u001b[39m \u001b[43m    \u001b[49m\u001b[43mnum_epochs\u001b[49m\u001b[43m=\u001b[49m\u001b[32;43m1\u001b[39;49m\u001b[43m,\u001b[49m\n\u001b[32m      9\u001b[39m \u001b[43m    \u001b[49m\u001b[43msave_dir\u001b[49m\u001b[43m=\u001b[49m\u001b[43mtrain_dir\u001b[49m\u001b[43m.\u001b[49m\u001b[43mparent\u001b[49m\u001b[43m,\u001b[49m\n\u001b[32m     10\u001b[39m \u001b[43m    \u001b[49m\u001b[43mapp\u001b[49m\u001b[43m=\u001b[49m\u001b[33;43m'\u001b[39;49m\u001b[33;43mns\u001b[39;49m\u001b[33;43m'\u001b[39;49m\u001b[43m,\u001b[49m\n\u001b[32m     11\u001b[39m \u001b[43m)\u001b[49m\n",
      "\u001b[36mFile \u001b[39m\u001b[32m/sfs/gpfs/tardis/home/wkt7ne/PARCtorch/PARCtorch/train.py:64\u001b[39m, in \u001b[36mtrain_model\u001b[39m\u001b[34m(model, train_loader, criterion, optimizer, num_epochs, save_dir, app)\u001b[39m\n\u001b[32m     61\u001b[39m     \u001b[38;5;28;01mraise\u001b[39;00m \u001b[38;5;167;01mValueError\u001b[39;00m(\u001b[33mf\u001b[39m\u001b[33m\"\u001b[39m\u001b[33mUnknown application type: \u001b[39m\u001b[38;5;132;01m{\u001b[39;00mapp\u001b[38;5;132;01m}\u001b[39;00m\u001b[33m\"\u001b[39m)\n\u001b[32m     63\u001b[39m \u001b[38;5;66;03m# Backward pass and optimize\u001b[39;00m\n\u001b[32m---> \u001b[39m\u001b[32m64\u001b[39m \u001b[43mloss\u001b[49m\u001b[43m.\u001b[49m\u001b[43mbackward\u001b[49m\u001b[43m(\u001b[49m\u001b[43m)\u001b[49m\n\u001b[32m     65\u001b[39m optimizer.step()\n\u001b[32m     67\u001b[39m \u001b[38;5;66;03m# Accumulate running loss\u001b[39;00m\n",
      "\u001b[36mFile \u001b[39m\u001b[32m/sfs/gpfs/tardis/home/wkt7ne/miniforge3/envs/parc/lib/python3.12/site-packages/torch/_tensor.py:581\u001b[39m, in \u001b[36mTensor.backward\u001b[39m\u001b[34m(self, gradient, retain_graph, create_graph, inputs)\u001b[39m\n\u001b[32m    571\u001b[39m \u001b[38;5;28;01mif\u001b[39;00m has_torch_function_unary(\u001b[38;5;28mself\u001b[39m):\n\u001b[32m    572\u001b[39m     \u001b[38;5;28;01mreturn\u001b[39;00m handle_torch_function(\n\u001b[32m    573\u001b[39m         Tensor.backward,\n\u001b[32m    574\u001b[39m         (\u001b[38;5;28mself\u001b[39m,),\n\u001b[32m   (...)\u001b[39m\u001b[32m    579\u001b[39m         inputs=inputs,\n\u001b[32m    580\u001b[39m     )\n\u001b[32m--> \u001b[39m\u001b[32m581\u001b[39m \u001b[43mtorch\u001b[49m\u001b[43m.\u001b[49m\u001b[43mautograd\u001b[49m\u001b[43m.\u001b[49m\u001b[43mbackward\u001b[49m\u001b[43m(\u001b[49m\n\u001b[32m    582\u001b[39m \u001b[43m    \u001b[49m\u001b[38;5;28;43mself\u001b[39;49m\u001b[43m,\u001b[49m\u001b[43m \u001b[49m\u001b[43mgradient\u001b[49m\u001b[43m,\u001b[49m\u001b[43m \u001b[49m\u001b[43mretain_graph\u001b[49m\u001b[43m,\u001b[49m\u001b[43m \u001b[49m\u001b[43mcreate_graph\u001b[49m\u001b[43m,\u001b[49m\u001b[43m \u001b[49m\u001b[43minputs\u001b[49m\u001b[43m=\u001b[49m\u001b[43minputs\u001b[49m\n\u001b[32m    583\u001b[39m \u001b[43m\u001b[49m\u001b[43m)\u001b[49m\n",
      "\u001b[36mFile \u001b[39m\u001b[32m/sfs/gpfs/tardis/home/wkt7ne/miniforge3/envs/parc/lib/python3.12/site-packages/torch/autograd/__init__.py:347\u001b[39m, in \u001b[36mbackward\u001b[39m\u001b[34m(tensors, grad_tensors, retain_graph, create_graph, grad_variables, inputs)\u001b[39m\n\u001b[32m    342\u001b[39m     retain_graph = create_graph\n\u001b[32m    344\u001b[39m \u001b[38;5;66;03m# The reason we repeat the same comment below is that\u001b[39;00m\n\u001b[32m    345\u001b[39m \u001b[38;5;66;03m# some Python versions print out the first line of a multi-line function\u001b[39;00m\n\u001b[32m    346\u001b[39m \u001b[38;5;66;03m# calls in the traceback and some print out the last line\u001b[39;00m\n\u001b[32m--> \u001b[39m\u001b[32m347\u001b[39m \u001b[43m_engine_run_backward\u001b[49m\u001b[43m(\u001b[49m\n\u001b[32m    348\u001b[39m \u001b[43m    \u001b[49m\u001b[43mtensors\u001b[49m\u001b[43m,\u001b[49m\n\u001b[32m    349\u001b[39m \u001b[43m    \u001b[49m\u001b[43mgrad_tensors_\u001b[49m\u001b[43m,\u001b[49m\n\u001b[32m    350\u001b[39m \u001b[43m    \u001b[49m\u001b[43mretain_graph\u001b[49m\u001b[43m,\u001b[49m\n\u001b[32m    351\u001b[39m \u001b[43m    \u001b[49m\u001b[43mcreate_graph\u001b[49m\u001b[43m,\u001b[49m\n\u001b[32m    352\u001b[39m \u001b[43m    \u001b[49m\u001b[43minputs\u001b[49m\u001b[43m,\u001b[49m\n\u001b[32m    353\u001b[39m \u001b[43m    \u001b[49m\u001b[43mallow_unreachable\u001b[49m\u001b[43m=\u001b[49m\u001b[38;5;28;43;01mTrue\u001b[39;49;00m\u001b[43m,\u001b[49m\n\u001b[32m    354\u001b[39m \u001b[43m    \u001b[49m\u001b[43maccumulate_grad\u001b[49m\u001b[43m=\u001b[49m\u001b[38;5;28;43;01mTrue\u001b[39;49;00m\u001b[43m,\u001b[49m\n\u001b[32m    355\u001b[39m \u001b[43m\u001b[49m\u001b[43m)\u001b[49m\n",
      "\u001b[36mFile \u001b[39m\u001b[32m/sfs/gpfs/tardis/home/wkt7ne/miniforge3/envs/parc/lib/python3.12/site-packages/torch/autograd/graph.py:825\u001b[39m, in \u001b[36m_engine_run_backward\u001b[39m\u001b[34m(t_outputs, *args, **kwargs)\u001b[39m\n\u001b[32m    823\u001b[39m     unregister_hooks = _register_logging_hooks_on_whole_graph(t_outputs)\n\u001b[32m    824\u001b[39m \u001b[38;5;28;01mtry\u001b[39;00m:\n\u001b[32m--> \u001b[39m\u001b[32m825\u001b[39m     \u001b[38;5;28;01mreturn\u001b[39;00m \u001b[43mVariable\u001b[49m\u001b[43m.\u001b[49m\u001b[43m_execution_engine\u001b[49m\u001b[43m.\u001b[49m\u001b[43mrun_backward\u001b[49m\u001b[43m(\u001b[49m\u001b[43m  \u001b[49m\u001b[38;5;66;43;03m# Calls into the C++ engine to run the backward pass\u001b[39;49;00m\n\u001b[32m    826\u001b[39m \u001b[43m        \u001b[49m\u001b[43mt_outputs\u001b[49m\u001b[43m,\u001b[49m\u001b[43m \u001b[49m\u001b[43m*\u001b[49m\u001b[43margs\u001b[49m\u001b[43m,\u001b[49m\u001b[43m \u001b[49m\u001b[43m*\u001b[49m\u001b[43m*\u001b[49m\u001b[43mkwargs\u001b[49m\n\u001b[32m    827\u001b[39m \u001b[43m    \u001b[49m\u001b[43m)\u001b[49m  \u001b[38;5;66;03m# Calls into the C++ engine to run the backward pass\u001b[39;00m\n\u001b[32m    828\u001b[39m \u001b[38;5;28;01mfinally\u001b[39;00m:\n\u001b[32m    829\u001b[39m     \u001b[38;5;28;01mif\u001b[39;00m attach_logging_hooks:\n",
      "\u001b[31mKeyboardInterrupt\u001b[39m: "
     ]
    }
   ],
   "source": [
    "from train import train_model\n",
    "\n",
    "train_model(\n",
    "    model,\n",
    "    train_loader,\n",
    "    criterion,\n",
    "    optimizer,\n",
    "    num_epochs=1,\n",
    "    save_dir=train_dir.parent,\n",
    "    app='ns',\n",
    ")"
   ]
  },
  {
   "cell_type": "markdown",
   "id": "c2340f81-e0b5-4fb0-bea5-6be83485e419",
   "metadata": {},
   "source": [
    "# Loading the Model"
   ]
  },
  {
   "cell_type": "code",
   "execution_count": 9,
   "id": "beea2464-fb89-4a7f-8c4c-dc2bf295b8dc",
   "metadata": {},
   "outputs": [
    {
     "ename": "FileNotFoundError",
     "evalue": "Model weights file not found at '/standard/sds_baek_energetic/data/physics/the_well/datasets/shear_flow/data/model.pth'",
     "output_type": "error",
     "traceback": [
      "\u001b[31m---------------------------------------------------------------------------\u001b[39m",
      "\u001b[31mFileNotFoundError\u001b[39m                         Traceback (most recent call last)",
      "\u001b[36mCell\u001b[39m\u001b[36m \u001b[39m\u001b[32mIn[9]\u001b[39m\u001b[32m, line 5\u001b[39m\n\u001b[32m      3\u001b[39m device = torch.device(\u001b[33m\"\u001b[39m\u001b[33mcuda\u001b[39m\u001b[33m\"\u001b[39m \u001b[38;5;28;01mif\u001b[39;00m torch.cuda.is_available() \u001b[38;5;28;01melse\u001b[39;00m \u001b[33m\"\u001b[39m\u001b[33mcpu\u001b[39m\u001b[33m\"\u001b[39m)\n\u001b[32m      4\u001b[39m model_weights_path = train_dir.parent / \u001b[33m\"\u001b[39m\u001b[33mmodel.pth\u001b[39m\u001b[33m\"\u001b[39m  \u001b[38;5;66;03m# Replace with your path\u001b[39;00m\n\u001b[32m----> \u001b[39m\u001b[32m5\u001b[39m model = \u001b[43mload_model_weights\u001b[49m\u001b[43m(\u001b[49m\u001b[43mmodel\u001b[49m\u001b[43m,\u001b[49m\u001b[43m \u001b[49m\u001b[43mmodel_weights_path\u001b[49m\u001b[43m,\u001b[49m\u001b[43m \u001b[49m\u001b[43mdevice\u001b[49m\u001b[43m)\u001b[49m\n",
      "\u001b[36mFile \u001b[39m\u001b[32m/sfs/gpfs/tardis/home/wkt7ne/PARCtorch/PARCtorch/utilities/load.py:18\u001b[39m, in \u001b[36mload_model_weights\u001b[39m\u001b[34m(model, weights_path, device)\u001b[39m\n\u001b[32m      6\u001b[39m \u001b[38;5;250m\u001b[39m\u001b[33;03m\"\"\"\u001b[39;00m\n\u001b[32m      7\u001b[39m \u001b[33;03mLoads the saved weights into the model.\u001b[39;00m\n\u001b[32m      8\u001b[39m \n\u001b[32m   (...)\u001b[39m\u001b[32m     15\u001b[39m \u001b[33;03m    model (torch.nn.Module): The model with loaded weights.\u001b[39;00m\n\u001b[32m     16\u001b[39m \u001b[33;03m\"\"\"\u001b[39;00m\n\u001b[32m     17\u001b[39m \u001b[38;5;28;01mif\u001b[39;00m \u001b[38;5;129;01mnot\u001b[39;00m os.path.isfile(weights_path):\n\u001b[32m---> \u001b[39m\u001b[32m18\u001b[39m     \u001b[38;5;28;01mraise\u001b[39;00m \u001b[38;5;167;01mFileNotFoundError\u001b[39;00m(\n\u001b[32m     19\u001b[39m         \u001b[33mf\u001b[39m\u001b[33m\"\u001b[39m\u001b[33mModel weights file not found at \u001b[39m\u001b[33m'\u001b[39m\u001b[38;5;132;01m{\u001b[39;00mweights_path\u001b[38;5;132;01m}\u001b[39;00m\u001b[33m'\u001b[39m\u001b[33m\"\u001b[39m\n\u001b[32m     20\u001b[39m     )\n\u001b[32m     22\u001b[39m \u001b[38;5;66;03m# Load the state dictionary\u001b[39;00m\n\u001b[32m     23\u001b[39m state_dict = torch.load(weights_path, map_location=device)\n",
      "\u001b[31mFileNotFoundError\u001b[39m: Model weights file not found at '/standard/sds_baek_energetic/data/physics/the_well/datasets/shear_flow/data/model.pth'"
     ]
    }
   ],
   "source": [
    "from PARCtorch.utilities.load import load_model_weights\n",
    "\n",
    "device = torch.device(\"cuda\" if torch.cuda.is_available() else \"cpu\")\n",
    "model_weights_path = train_dir.parent / \"model.pth\"  # Replace with your path\n",
    "model = load_model_weights(model, model_weights_path, device)"
   ]
  },
  {
   "cell_type": "markdown",
   "id": "3a1c76db-6285-4565-a57f-f7c500ff043b",
   "metadata": {},
   "source": [
    "# Creating the Sequence DataLoader"
   ]
  },
  {
   "cell_type": "code",
   "execution_count": 19,
   "id": "7ae4ceb5-22be-44a0-90b7-ff7095f7c4c7",
   "metadata": {},
   "outputs": [
    {
     "name": "stderr",
     "output_type": "stream",
     "text": [
      "Exception ignored in: <function GenericPhysicsDataset.__del__ at 0x7f42c6b85940>\n",
      "Traceback (most recent call last):\n",
      "  File \"/sfs/gpfs/tardis/home/wkt7ne/PARCtorch/PARCtorch/data/dataset.py\", line 339, in __del__\n",
      "    for memmap in self._memmap_cache.values():\n",
      "                  ^^^^^^^^^^^^^^^^^^\n",
      "AttributeError: 'WellDatasetInterface' object has no attribute '_memmap_cache'\n"
     ]
    }
   ],
   "source": [
    "# Initialize the dataset\n",
    "future_steps = 3\n",
    "seq_dataset = WellDatasetInterface(\n",
    "    well_dataset_args={\n",
    "        \"well_base_path\": \"/standard/sds_baek_energetic/data/physics/the_well/datasets\",\n",
    "        \"well_dataset_name\": \"shear_flow\",\n",
    "        \"well_split_name\": \"train\",\n",
    "        \"exclude_filters\": [\"shear_flow_Reynolds_5e5_Schmidt_1e0.hdf5\"]\n",
    "    },\n",
    "    future_steps=future_steps\n",
    ")\n",
    "# Create DataLoader for training dataset\n",
    "seq_loader = DataLoader(\n",
    "    seq_dataset,\n",
    "    batch_size=batch_size,\n",
    "    shuffle=False,\n",
    "    num_workers=1,\n",
    "    pin_memory=True, # Speeds up GPU transfers\n",
    "    collate_fn=initial_condition_collate_fn,\n",
    ")"
   ]
  },
  {
   "cell_type": "markdown",
   "id": "06474ccd-b36f-4010-9e28-4b11bcb56d00",
   "metadata": {},
   "source": [
    "# Loading Ground Truths"
   ]
  },
  {
   "cell_type": "code",
   "execution_count": 21,
   "id": "f9eacf93-f7f1-4152-a73d-f3655d94cbdf",
   "metadata": {},
   "outputs": [],
   "source": [
    "# Initialize the dataset\n",
    "future_steps = 3\n",
    "gt_dataset = WellDatasetInterface(\n",
    "    well_dataset_args={\n",
    "        \"well_base_path\": \"/standard/sds_baek_energetic/data/physics/the_well/datasets\",\n",
    "        \"well_dataset_name\": \"shear_flow\",\n",
    "        \"well_split_name\": \"test\",\n",
    "        \"exclude_filters\": [\"shear_flow_Reynolds_5e5_Schmidt_1e0.hdf5\"]\n",
    "    },\n",
    "    future_steps=future_steps\n",
    ")\n",
    "\n",
    "# Create DataLoader for training dataset\n",
    "gt_loader = DataLoader(\n",
    "    gt_dataset,\n",
    "    batch_size=batch_size,\n",
    "    shuffle=False,\n",
    "    num_workers=1,\n",
    "    pin_memory=True,\n",
    "    collate_fn=custom_collate_fn,\n",
    ")"
   ]
  },
  {
   "cell_type": "markdown",
   "id": "eae54e62-9c22-42c9-82e0-e32728ab23d0",
   "metadata": {},
   "source": [
    "# Visualizing Results"
   ]
  },
  {
   "cell_type": "code",
   "execution_count": 22,
   "id": "c054125c-228f-4e07-b063-4184a633e37b",
   "metadata": {
    "tags": []
   },
   "outputs": [
    {
     "name": "stdout",
     "output_type": "stream",
     "text": [
      "WARNING, this dataset has not been verified with PARCv2. Confirm orientation of x and y before proceeding.\n",
      "WARNING, this dataset has not been verified with PARCv2. Confirm orientation of x and y before proceeding.\n",
      "WARNING, this dataset has not been verified with PARCv2. Confirm orientation of x and y before proceeding.\n",
      "WARNING, this dataset has not been verified with PARCv2. Confirm orientation of x and y before proceeding.\n",
      "WARNING, this dataset has not been verified with PARCv2. Confirm orientation of x and y before proceeding.\n",
      "WARNING, this dataset has not been verified with PARCv2. Confirm orientation of x and y before proceeding.\n",
      "WARNING, this dataset has not been verified with PARCv2. Confirm orientation of x and y before proceeding.\n",
      "WARNING, this dataset has not been verified with PARCv2. Confirm orientation of x and y before proceeding.\n",
      "WARNING, this dataset has not been verified with PARCv2. Confirm orientation of x and y before proceeding.\n",
      "WARNING, this dataset has not been verified with PARCv2. Confirm orientation of x and y before proceeding.\n",
      "WARNING, this dataset has not been verified with PARCv2. Confirm orientation of x and y before proceeding.\n",
      "WARNING, this dataset has not been verified with PARCv2. Confirm orientation of x and y before proceeding.\n",
      "Predictions shape: torch.Size([3, 2, 6, 512, 256])\n",
      "Sample prediction for timestep 1: torch.Size([3, 6, 512, 256])\n",
      "GIF saved to comparison_batch0_velocity_x.gif\n",
      "GIF saved to comparison_batch0_velocity_y.gif\n",
      "GIF saved to comparison_batch0_tracer.gif\n",
      "GIF saved to comparison_batch0_pressure.gif\n",
      "GIF saved to comparison_batch0_channel 5.gif\n",
      "GIF saved to comparison_batch0_channel 6.gif\n"
     ]
    }
   ],
   "source": [
    "# Set the model to evaluation mode\n",
    "model.eval()\n",
    "\n",
    "channels = ['velocity_x', \n",
    "             'velocity_y', \n",
    "             'tracer', \n",
    "             'pressure',\n",
    "             'channel 5',\n",
    "             'channel 6',\n",
    "            ]\n",
    "cmaps = [\"seismic\"] * 6  \n",
    "\n",
    "# Iterate through both DataLoaders simultaneously\n",
    "for seq_batch, test_batch in zip(seq_loader, gt_loader):\n",
    "    # Extract data from initial condition loader\n",
    "    ic, t0, t1, _ = (\n",
    "        seq_batch  # Shape: [batch_size, channels, height, width], scalar, tensor, _\n",
    "    )\n",
    "\n",
    "    # Extract data from ground truth loader\n",
    "    gt_ic, gt_t0, gt_t1, ground_truth = (\n",
    "        test_batch  # ground_truth shape: [timesteps, batch_size, channels, height, width]\n",
    "    )\n",
    "\n",
    "    # Move data to GPU if available\n",
    "    device = torch.device(\"cuda\" if torch.cuda.is_available() else \"cpu\")\n",
    "    ic = ic.to(device)\n",
    "    t0 = t0.to(device)\n",
    "    t1 = t1.to(device)\n",
    "    ground_truth = ground_truth.to(device)\n",
    "\n",
    "    # Make predictions using the model\n",
    "    with torch.no_grad():\n",
    "        predictions = model(\n",
    "            ic, t0, t1\n",
    "        )  # Shape: [future_steps, batch_size, channels, height, width]\n",
    "\n",
    "    print(\"Predictions shape:\", predictions.shape)\n",
    "    print(\n",
    "        \"Sample prediction for timestep 1:\", predictions[:, 0, :, :, :].shape\n",
    "    )\n",
    "\n",
    "    # If you want to visualize more samples in the batch, loop through batch indices\n",
    "    # For example, to visualize all samples in the batch:\n",
    "    for batch_idx in range(ic.size(0)):\n",
    "        save_gifs_with_ground_truth(\n",
    "            predictions=predictions,\n",
    "            ground_truth=ground_truth,\n",
    "            channels=channels,\n",
    "            cmaps=cmaps,\n",
    "            filename_prefix=f\"comparison_batch{batch_idx}\",\n",
    "            interval=0.2,\n",
    "            batch_idx=batch_idx,\n",
    "        )\n",
    "        break\n",
    "\n",
    "    break  # Remove this if you want to process the entire dataset"
   ]
  }
 ],
 "metadata": {
  "kernelspec": {
   "display_name": "Python (parc)",
   "language": "python",
   "name": "parc"
  },
  "language_info": {
   "codemirror_mode": {
    "name": "ipython",
    "version": 3
   },
   "file_extension": ".py",
   "mimetype": "text/x-python",
   "name": "python",
   "nbconvert_exporter": "python",
   "pygments_lexer": "ipython3",
   "version": "3.12.10"
  }
 },
 "nbformat": 4,
 "nbformat_minor": 5
}
