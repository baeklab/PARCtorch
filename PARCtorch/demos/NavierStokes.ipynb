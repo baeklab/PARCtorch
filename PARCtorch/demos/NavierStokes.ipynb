{
 "cells": [
  {
   "cell_type": "markdown",
   "metadata": {},
   "source": [
    "<div style=\"display: flex; align-items: center;\">\n",
    "  <h1 style=\"font-size: 5em; margin-right: 20px;\">Physics Aware Recurrent Convolutional Neural Network: PARC</h1>\n",
    "  <div>\n",
    "    <img src=\"../misc/VIL_logo.png\" width=\"190\" alt=\"Image 1\" style=\"margin-right: 10px;\" />\n",
    "    <img src=\"../misc/uva.png\" width=\"180\" alt=\"Image 2\" style=\"margin-right: 10px;\" />\n",
    "    <img src=\"../misc/iowa.png\" width=\"150\" alt=\"Image 3\" />\n",
    "  </div>\n",
    "</div>\n",
    "\n",
    "<p>A customizable framework to embed physics in Deep Learning. PARC's formulation is inspired by Advection-Diffusion-Reaction processes and uses an Inductive Bias approach to constrain the Neural Network.</p>\n"
   ]
  },
  {
   "cell_type": "markdown",
   "metadata": {},
   "source": [
    "## Normalization\n",
    "\n",
    "It is assumed that you reviewed the README.md file in our data directory. This provides the format you must convert your data into before normalization (timesteps, channels, height, width). You can find converted data and model weights at: . Then we normalize our variables of interest (channels) between 0 and 1"
   ]
  },
  {
   "cell_type": "code",
   "execution_count": 9,
   "metadata": {
    "tags": []
   },
   "outputs": [],
   "source": [
    "import sys\n",
    "import os\n",
    "\n",
    "# Add the root directory (PARCTorch) to the system path\n",
    "sys.path.append(os.path.abspath(os.path.join(os.getcwd(), \"..\")))\n",
    "from data.normalization import compute_min_max"
   ]
  },
  {
   "cell_type": "code",
   "execution_count": 10,
   "metadata": {
    "tags": []
   },
   "outputs": [
    {
     "name": "stdout",
     "output_type": "stream",
     "text": [
      "Calculating channel-wise min and max values for normalization...\n",
      "Current working directory: /sfs/gpfs/tardis/home/jtb3sud/PARCtorch/PARCtorch/demos\n",
      "Total files to process: 36\n",
      "Processed 36/36 files.\n",
      "Channel-wise min values: [-255955.37392170238, 15.0, -2.757973022522283, -2.673700584310052]\n",
      "Channel-wise max values: [109451.57268441282, 10000.0, 4.036231420588235, 2.5842768709241444]\n",
      "Min and max values saved to '/sfs/gpfs/tardis/home/jtb3sud/PARCtorch/PARCtorch/data/ns_min_max.json'.\n"
     ]
    }
   ],
   "source": [
    "# Example usage\n",
    "data_dirs = [\n",
    "    \"/project/vil_baek/data/physics/PARCTorch/NavierStokes/train\",\n",
    "    \"/project/vil_baek/data/physics/PARCTorch/NavierStokes/test\",\n",
    "]\n",
    "output_file = \"../data/ns_min_max.json\"\n",
    "compute_min_max(data_dirs, output_file)"
   ]
  },
  {
   "cell_type": "markdown",
   "metadata": {},
   "source": [
    "## Create Data Loader for Training\n",
    "<p>The <strong>DataLoader</strong> in PyTorch is a crucial utility that facilitates efficient data handling for training and evaluating machine learning models. It abstracts the process of fetching, batching, and shuffling data, ensuring that the model is fed with properly formatted inputs in an optimal way. Specifically, it helps with:</p>\n",
    "\n",
    "<ul>\n",
    "    <li><strong>Batching:</strong> Splitting large datasets into smaller, manageable batches to avoid memory overload and enable parallel processing.</li>\n",
    "    <li><strong>Shuffling:</strong> Randomly ordering data to prevent the model from learning patterns related to the sequence of data (particularly important in training to reduce overfitting).</li>\n",
    "    <li><strong>Parallel Loading:</strong> It allows the data to be loaded asynchronously using multiple workers, speeding up the training process by loading the next batch while the current one is being processed by the model.</li>\n",
    "    <li><strong>Custom Collation:</strong> The <code>collate_fn</code> allows customization of how batches are combined, which is essential for complex datasets that require specific handling.</li>\n",
    "</ul>\n"
   ]
  },
  {
   "cell_type": "code",
   "execution_count": 11,
   "metadata": {
    "tags": []
   },
   "outputs": [
    {
     "name": "stderr",
     "output_type": "stream",
     "text": [
      "2024-11-13 12:52:05,882 [INFO] Starting data validation...\n",
      "2024-11-13 12:52:05,887 [INFO] Validating .npy files...\n",
      "Validating files: 100%|██████████| 28/28 [00:00<00:00, 321.76it/s]\n",
      "2024-11-13 12:52:05,979 [INFO] Data validation completed successfully.\n",
      "2024-11-13 12:52:05,981 [INFO] Preparing dataset samples...\n",
      "Listing samples: 100%|██████████| 28/28 [00:00<00:00, 577.70it/s]\n",
      "2024-11-13 12:52:06,034 [INFO] Total samples in dataset: 1064\n"
     ]
    }
   ],
   "source": [
    "# Now import the utilities\n",
    "from data.dataset import (\n",
    "    GenericPhysicsDataset,\n",
    "    custom_collate_fn,\n",
    "    InitialConditionDataset,\n",
    "    initial_condition_collate_fn,\n",
    ")\n",
    "from utilities.viz import visualize_channels, save_gifs_with_ground_truth\n",
    "import torch\n",
    "from torch.utils.data import DataLoader\n",
    "import logging\n",
    "\n",
    "# Set up logging\n",
    "logging.basicConfig(\n",
    "    level=logging.INFO, format=\"%(asctime)s [%(levelname)s] %(message)s\"\n",
    ")\n",
    "\n",
    "# Example configuration for HMX dataset\n",
    "data_dir_train = \"/project/vil_baek/data/physics/PARCTorch/NavierStokes/train\"  # Replace with your actual train directory path\n",
    "data_dir_test = \"/project/vil_baek/data/physics/PARCTorch/NavierStokes/test\"  # Replace with your actual test directory path\n",
    "future_steps = 1\n",
    "# Path to the min_max.json file\n",
    "min_max_path = os.path.join(\"..\", \"data\", \"ns_min_max.json\")  # Correct path\n",
    "batch_size = 8\n",
    "\n",
    "# Initialize the dataset\n",
    "train_dataset = GenericPhysicsDataset(\n",
    "    data_dirs=[data_dir_train],\n",
    "    future_steps=future_steps,\n",
    "    min_max_path=min_max_path,\n",
    ")\n",
    "\n",
    "# Create DataLoader for training dataset\n",
    "train_loader = DataLoader(\n",
    "    train_dataset,\n",
    "    batch_size=batch_size,\n",
    "    shuffle=False,\n",
    "    num_workers=1,\n",
    "    pin_memory=True,\n",
    "    collate_fn=custom_collate_fn,\n",
    ")"
   ]
  },
  {
   "cell_type": "markdown",
   "metadata": {},
   "source": [
    "<h2>Visualize the Data was Loaded Properly</h2>\n",
    "<p>Users may select a specific visualization scheme for various applications. If you are unsure how to visualize your data, you can explore various options: \n",
    "    <a href=\"https://matplotlib.org/stable/users/explain/colors/colormaps.html\" target=\"_blank\">https://matplotlib.org/stable/users/explain/colors/colormaps.html</a>\n",
    "</p>\n"
   ]
  },
  {
   "cell_type": "code",
   "execution_count": 12,
   "metadata": {
    "tags": []
   },
   "outputs": [
    {
     "name": "stdout",
     "output_type": "stream",
     "text": [
      "Channel Data Statistics:\n",
      "Channel 0: IC min=0.6993419528007507, IC max=0.7013699412345886\n",
      "  Step 1: min=0.6994906663894653, max=0.7014170289039612\n",
      "Channel 1: IC min=0.008512768894433975, IC max=0.008512768894433975\n",
      "  Step 1: min=0.008512768894433975, max=0.008512768894433975\n",
      "Channel 2: IC min=0.37832126021385193, IC max=0.649697482585907\n",
      "  Step 1: min=0.3333809971809387, max=0.6466608643531799\n",
      "Channel 3: IC min=0.3567461371421814, IC max=0.6603120565414429\n",
      "  Step 1: min=0.35497817397117615, max=0.6620773673057556\n"
     ]
    },
    {
     "data": {
      "image/png": "[encoded data removed]",
      "text/plain": [
       "<Figure size 2500x2000 with 16 Axes>"
      ]
     },
     "metadata": {},
     "output_type": "display_data"
    }
   ],
   "source": [
    "# Fetch a batch and visualize\n",
    "for batch in train_loader:\n",
    "    ic, t0, t1, target = batch\n",
    "    channel_names = [\n",
    "        \"Pressure (P)\",\n",
    "        \"Reynolds (R)\",\n",
    "        \"Velocity U\",\n",
    "        \"Velocity V\",\n",
    "    ]\n",
    "    custom_cmaps = [\"seismic\", \"seismic\", \"seismic\", \"seismic\"]\n",
    "\n",
    "    visualize_channels(\n",
    "        ic,\n",
    "        t0,\n",
    "        t1,\n",
    "        target,\n",
    "        channel_names=channel_names,\n",
    "        channel_cmaps=custom_cmaps,\n",
    "    )\n",
    "    break  # Visualize one batch for now"
   ]
  },
  {
   "cell_type": "markdown",
   "metadata": {},
   "source": [
    "<h2>Build Your PARC Model</h2>\n",
    "<p>In this section, we are constructing a <strong>PARCv2 model</strong>, which is designed to handle spatiotemporal data, such as fluid dynamics simulations. The model leverages various components, including <em>differentiators</em> and <em>integrators</em>, to solve physical equations like Navier-Stokes.</p>\n",
    "\n",
    "<p><strong>Key Components:</strong></p>\n",
    "<ul>\n",
    "    <li><strong>UNet:</strong> The UNet architecture is used for feature extraction, transforming the input data into a higher-dimensional representation. This helps the model capture complex patterns in the physical simulation data.</li>\n",
    "    <li><strong>FiniteDifference:</strong> This differentiator approximates the gradients (or derivatives) of the input data using a finite difference method, which is important for calculating advection and diffusion processes in fluid dynamics.</li>\n",
    "    <li><strong>Heun Integrator:</strong> Heun’s method is an improved version of Euler's method, used here to integrate the equations of motion more accurately over time.</li>\n",
    "    <li><strong>Differentiator:</strong> This module calculates the advection and diffusion terms based on specific channel indices, such as velocity in the x and y directions (u and v).</li>\n",
    "    <li><strong>Integrator:</strong> The integrator applies Heun’s method to combine the differentiated terms and solve the Poisson equation, ensuring the physical constraints of the system are respected.</li>\n",
    "</ul>\n",
    "\n",
    "<p>The model is then wrapped into the <strong>PARCv2</strong> class, which combines the differentiator, integrator, and loss function (<code>L1Loss</code>). Finally, an <code>Adam</code> optimizer is initialized to train the model by adjusting its parameters to minimize the error between predictions and ground truth data.</p>\n",
    "\n",
    "<p>This setup allows the model to learn how to predict future states in complex physical systems by embedding domain-specific knowledge.</p>\n"
   ]
  },
  {
   "cell_type": "code",
   "execution_count": 13,
   "metadata": {
    "tags": []
   },
   "outputs": [],
   "source": [
    "import sys\n",
    "\n",
    "sys.path.append(\"../../\")"
   ]
  },
  {
   "cell_type": "code",
   "execution_count": 14,
   "metadata": {
    "tags": []
   },
   "outputs": [],
   "source": [
    "from PARCtorch.PARCv2 import PARCv2\n",
    "from PARCtorch.differentiator.differentiator import Differentiator\n",
    "from PARCtorch.differentiator.finitedifference import FiniteDifference\n",
    "from PARCtorch.integrator.integrator import Integrator\n",
    "from PARCtorch.integrator.heun import Heun\n",
    "from PARCtorch.utilities.unet import UNet"
   ]
  },
  {
   "cell_type": "code",
   "execution_count": 15,
   "metadata": {
    "tags": []
   },
   "outputs": [],
   "source": [
    "from torch.optim import Adam"
   ]
  },
  {
   "cell_type": "code",
   "execution_count": 16,
   "metadata": {
    "tags": []
   },
   "outputs": [],
   "source": [
    "# Defining Navier-Stokes variables: \n",
    "# p = pressure, re = Reynolds number, u = velocity in x-direction, v = velocity in y-direction\n",
    "# Advection (Adv) and Diffusion (Dif) will be calculated on u, v\n",
    "# Poisson equation (Poi) will be calculated on pressure (p)\n",
    "\n",
    "n_fe_features = 128  # Number of features extracted by the UNet\n",
    "\n",
    "# Initialize the UNet architecture for feature extraction\n",
    "unet_ns = UNet(\n",
    "    [64, 64 * 2, 64 * 4, 64 * 8, 64 * 16],  # Channel dimensions at different levels of the UNet\n",
    "    4,  # Number of input channels: p, re, u, v\n",
    "    n_fe_features,  # Number of output features (feature extraction capacity)\n",
    "    up_block_use_concat=[False, True, False, True],  # Control whether to use concatenation in upsampling blocks\n",
    "    skip_connection_indices=[2, 0],  # Indices of skip connections for UNet (residual connections)\n",
    ")\n",
    "\n",
    "# Initialize finite difference method for numerical differentiation\n",
    "right_diff = FiniteDifference(padding_mode=\"replicate\").cuda()  # Use replication padding to handle boundary conditions\n",
    "\n",
    "# Initialize Heun's method for numerical integration\n",
    "heun_int = Heun().cuda()  # Heun's method is a second-order integrator (similar to improved Euler's method)\n",
    "\n",
    "# Create the Differentiator, responsible for calculating advection and diffusion\n",
    "diff_ns = Differentiator(\n",
    "    2,  # Number of state variables (p, re), with u and v as velocity channels (indices 2 and 3)\n",
    "    n_fe_features,  # Number of features returned by the feature extraction network\n",
    "    [2, 3],  # Channel indices for advection calculation (u, v)\n",
    "    [2, 3],  # Channel indices for diffusion calculation (u, v)\n",
    "    unet_ns,  # Feature extraction network (UNet used to extract features from the state variables)\n",
    "    \"constant\",  # Padding mode: constant padding (zeros at the boundary)\n",
    "    right_diff,  # Use finite difference method for gradient calculations\n",
    "    False # Random noise for Spade\n",
    ").cuda()\n",
    "\n",
    "# Create the Integrator, responsible for solving the Poisson equation and performing integration\n",
    "ns_int = Integrator(\n",
    "    True,  # Clip the input data between 0 and 1 to prevent extreme values\n",
    "    [(0, 2, 3, 1)],  # Calculate Poisson on indices u and v (2 and 3), output the result to p (index 0)\n",
    "    heun_int,  # Use Heun's method for integration of the Navier-Stokes equations\n",
    "    [None, None, None, None],  # No additional data-driven integrators for now\n",
    "    \"constant\",  # Padding mode: constant padding of zero at boundaries\n",
    "    right_diff,  # Finite difference method for handling derivatives\n",
    ").cuda()\n",
    "\n",
    "# Define the loss function (L1 Loss is typically used for regression tasks)\n",
    "criterion = torch.nn.L1Loss().cuda()\n",
    "\n",
    "# Initialize the PARCv2 model with the differentiator, integrator, and loss function\n",
    "model = PARCv2(diff_ns, ns_int, criterion).cuda()\n",
    "\n",
    "# Set up the optimizer (Adam is a popular choice for adaptive learning rate optimization)\n",
    "optimizer = Adam(model.parameters(), lr=1e-5)  # Learning rate set to 1e-5\n"
   ]
  },
  {
   "cell_type": "markdown",
   "metadata": {},
   "source": [
    "## Train the Model "
   ]
  },
  {
   "cell_type": "code",
   "execution_count": 17,
   "metadata": {
    "tags": []
   },
   "outputs": [
    {
     "name": "stderr",
     "output_type": "stream",
     "text": [
      "Epoch 1/250: 100%|██████████| 133/133 [00:28<00:00,  4.73it/s, Batch Loss=0.313]  "
     ]
    },
    {
     "name": "stdout",
     "output_type": "stream",
     "text": [
      "Epoch [1/250], Average Loss: 0.0792\n",
      "Model weights saved at ../../../weights/ns/model.pth\n"
     ]
    },
    {
     "name": "stderr",
     "output_type": "stream",
     "text": [
      "\n",
      "Epoch 2/250: 100%|██████████| 133/133 [00:26<00:00,  4.98it/s, Batch Loss=0.313]  "
     ]
    },
    {
     "name": "stdout",
     "output_type": "stream",
     "text": [
      "Epoch [2/250], Average Loss: 0.0735\n",
      "Model weights saved at ../../../weights/ns/model.pth\n"
     ]
    },
    {
     "name": "stderr",
     "output_type": "stream",
     "text": [
      "\n",
      "Epoch 3/250: 100%|██████████| 133/133 [00:26<00:00,  5.01it/s, Batch Loss=0.314]  "
     ]
    },
    {
     "name": "stdout",
     "output_type": "stream",
     "text": [
      "Epoch [3/250], Average Loss: 0.0739\n",
      "Model weights saved at ../../../weights/ns/model.pth\n"
     ]
    },
    {
     "name": "stderr",
     "output_type": "stream",
     "text": [
      "\n",
      "Epoch 4/250: 100%|██████████| 133/133 [00:26<00:00,  5.00it/s, Batch Loss=0.315]  "
     ]
    },
    {
     "name": "stdout",
     "output_type": "stream",
     "text": [
      "Epoch [4/250], Average Loss: 0.0738\n",
      "Model weights saved at ../../../weights/ns/model.pth\n"
     ]
    },
    {
     "name": "stderr",
     "output_type": "stream",
     "text": [
      "\n",
      "Epoch 5/250: 100%|██████████| 133/133 [00:26<00:00,  5.02it/s, Batch Loss=0.315]  "
     ]
    },
    {
     "name": "stdout",
     "output_type": "stream",
     "text": [
      "Epoch [5/250], Average Loss: 0.0735\n",
      "Model weights saved at ../../../weights/ns/model.pth\n"
     ]
    },
    {
     "name": "stderr",
     "output_type": "stream",
     "text": [
      "\n",
      "Epoch 6/250: 100%|██████████| 133/133 [00:26<00:00,  5.02it/s, Batch Loss=0.314]  "
     ]
    },
    {
     "name": "stdout",
     "output_type": "stream",
     "text": [
      "Epoch [6/250], Average Loss: 0.0732\n",
      "Model weights saved at ../../../weights/ns/model.pth\n"
     ]
    },
    {
     "name": "stderr",
     "output_type": "stream",
     "text": [
      "\n",
      "Epoch 7/250: 100%|██████████| 133/133 [00:26<00:00,  5.02it/s, Batch Loss=0.315]  "
     ]
    },
    {
     "name": "stdout",
     "output_type": "stream",
     "text": [
      "Epoch [7/250], Average Loss: 0.0733\n",
      "Model weights saved at ../../../weights/ns/model.pth\n"
     ]
    },
    {
     "name": "stderr",
     "output_type": "stream",
     "text": [
      "\n",
      "Epoch 8/250: 100%|██████████| 133/133 [00:26<00:00,  5.01it/s, Batch Loss=0.31]   "
     ]
    },
    {
     "name": "stdout",
     "output_type": "stream",
     "text": [
      "Epoch [8/250], Average Loss: 0.0714\n",
      "Model weights saved at ../../../weights/ns/model.pth\n"
     ]
    },
    {
     "name": "stderr",
     "output_type": "stream",
     "text": [
      "\n",
      "Epoch 9/250: 100%|██████████| 133/133 [00:26<00:00,  5.02it/s, Batch Loss=0.309]  "
     ]
    },
    {
     "name": "stdout",
     "output_type": "stream",
     "text": [
      "Epoch [9/250], Average Loss: 0.0707\n",
      "Model weights saved at ../../../weights/ns/model.pth\n"
     ]
    },
    {
     "name": "stderr",
     "output_type": "stream",
     "text": [
      "\n",
      "Epoch 10/250: 100%|██████████| 133/133 [00:26<00:00,  5.01it/s, Batch Loss=0.306]  "
     ]
    },
    {
     "name": "stdout",
     "output_type": "stream",
     "text": [
      "Epoch [10/250], Average Loss: 0.0691\n",
      "Model weights saved at ../../../weights/ns/model.pth\n"
     ]
    },
    {
     "name": "stderr",
     "output_type": "stream",
     "text": [
      "\n",
      "Epoch 11/250: 100%|██████████| 133/133 [00:26<00:00,  4.99it/s, Batch Loss=0.306]  "
     ]
    },
    {
     "name": "stdout",
     "output_type": "stream",
     "text": [
      "Epoch [11/250], Average Loss: 0.0690\n",
      "Model weights saved at ../../../weights/ns/model.pth\n"
     ]
    },
    {
     "name": "stderr",
     "output_type": "stream",
     "text": [
      "\n",
      "Epoch 12/250: 100%|██████████| 133/133 [00:26<00:00,  5.02it/s, Batch Loss=0.304]  "
     ]
    },
    {
     "name": "stdout",
     "output_type": "stream",
     "text": [
      "Epoch [12/250], Average Loss: 0.0680\n",
      "Model weights saved at ../../../weights/ns/model.pth\n"
     ]
    },
    {
     "name": "stderr",
     "output_type": "stream",
     "text": [
      "\n",
      "Epoch 13/250: 100%|██████████| 133/133 [00:26<00:00,  5.02it/s, Batch Loss=0.305]  "
     ]
    },
    {
     "name": "stdout",
     "output_type": "stream",
     "text": [
      "Epoch [13/250], Average Loss: 0.0681\n",
      "Model weights saved at ../../../weights/ns/model.pth\n"
     ]
    },
    {
     "name": "stderr",
     "output_type": "stream",
     "text": [
      "\n",
      "Epoch 14/250: 100%|██████████| 133/133 [00:26<00:00,  5.02it/s, Batch Loss=0.304]  "
     ]
    },
    {
     "name": "stdout",
     "output_type": "stream",
     "text": [
      "Epoch [14/250], Average Loss: 0.0675\n",
      "Model weights saved at ../../../weights/ns/model.pth\n"
     ]
    },
    {
     "name": "stderr",
     "output_type": "stream",
     "text": [
      "\n",
      "Epoch 15/250: 100%|██████████| 133/133 [00:26<00:00,  5.02it/s, Batch Loss=0.304]  "
     ]
    },
    {
     "name": "stdout",
     "output_type": "stream",
     "text": [
      "Epoch [15/250], Average Loss: 0.0675\n",
      "Model weights saved at ../../../weights/ns/model.pth\n"
     ]
    },
    {
     "name": "stderr",
     "output_type": "stream",
     "text": [
      "\n",
      "Epoch 16/250: 100%|██████████| 133/133 [00:26<00:00,  5.01it/s, Batch Loss=0.305]  "
     ]
    },
    {
     "name": "stdout",
     "output_type": "stream",
     "text": [
      "Epoch [16/250], Average Loss: 0.0674\n",
      "Model weights saved at ../../../weights/ns/model.pth\n"
     ]
    },
    {
     "name": "stderr",
     "output_type": "stream",
     "text": [
      "\n",
      "Epoch 17/250: 100%|██████████| 133/133 [00:26<00:00,  4.99it/s, Batch Loss=0.303]  "
     ]
    },
    {
     "name": "stdout",
     "output_type": "stream",
     "text": [
      "Epoch [17/250], Average Loss: 0.0669\n",
      "Model weights saved at ../../../weights/ns/model.pth\n"
     ]
    },
    {
     "name": "stderr",
     "output_type": "stream",
     "text": [
      "\n",
      "Epoch 18/250: 100%|██████████| 133/133 [00:26<00:00,  5.02it/s, Batch Loss=0.304]  "
     ]
    },
    {
     "name": "stdout",
     "output_type": "stream",
     "text": [
      "Epoch [18/250], Average Loss: 0.0673\n",
      "Model weights saved at ../../../weights/ns/model.pth\n"
     ]
    },
    {
     "name": "stderr",
     "output_type": "stream",
     "text": [
      "\n",
      "Epoch 19/250: 100%|██████████| 133/133 [00:26<00:00,  5.02it/s, Batch Loss=0.305]  "
     ]
    },
    {
     "name": "stdout",
     "output_type": "stream",
     "text": [
      "Epoch [19/250], Average Loss: 0.0671\n",
      "Model weights saved at ../../../weights/ns/model.pth\n"
     ]
    },
    {
     "name": "stderr",
     "output_type": "stream",
     "text": [
      "\n",
      "Epoch 20/250: 100%|██████████| 133/133 [00:26<00:00,  4.99it/s, Batch Loss=0.303]  "
     ]
    },
    {
     "name": "stdout",
     "output_type": "stream",
     "text": [
      "Epoch [20/250], Average Loss: 0.0665\n",
      "Model weights saved at ../../../weights/ns/model.pth\n"
     ]
    },
    {
     "name": "stderr",
     "output_type": "stream",
     "text": [
      "\n",
      "Epoch 21/250: 100%|██████████| 133/133 [00:26<00:00,  5.01it/s, Batch Loss=0.304]  "
     ]
    },
    {
     "name": "stdout",
     "output_type": "stream",
     "text": [
      "Epoch [21/250], Average Loss: 0.0670\n",
      "Model weights saved at ../../../weights/ns/model.pth\n"
     ]
    },
    {
     "name": "stderr",
     "output_type": "stream",
     "text": [
      "\n",
      "Epoch 22/250: 100%|██████████| 133/133 [00:26<00:00,  4.98it/s, Batch Loss=0.304]  "
     ]
    },
    {
     "name": "stdout",
     "output_type": "stream",
     "text": [
      "Epoch [22/250], Average Loss: 0.0666\n",
      "Model weights saved at ../../../weights/ns/model.pth\n"
     ]
    },
    {
     "name": "stderr",
     "output_type": "stream",
     "text": [
      "\n",
      "Epoch 23/250: 100%|██████████| 133/133 [00:26<00:00,  5.02it/s, Batch Loss=0.304]  "
     ]
    },
    {
     "name": "stdout",
     "output_type": "stream",
     "text": [
      "Epoch [23/250], Average Loss: 0.0668\n",
      "Model weights saved at ../../../weights/ns/model.pth\n"
     ]
    },
    {
     "name": "stderr",
     "output_type": "stream",
     "text": [
      "\n",
      "Epoch 24/250: 100%|██████████| 133/133 [00:26<00:00,  4.99it/s, Batch Loss=0.303]  "
     ]
    },
    {
     "name": "stdout",
     "output_type": "stream",
     "text": [
      "Epoch [24/250], Average Loss: 0.0662\n",
      "Model weights saved at ../../../weights/ns/model.pth\n"
     ]
    },
    {
     "name": "stderr",
     "output_type": "stream",
     "text": [
      "\n",
      "Epoch 25/250: 100%|██████████| 133/133 [00:26<00:00,  5.02it/s, Batch Loss=0.304]  "
     ]
    },
    {
     "name": "stdout",
     "output_type": "stream",
     "text": [
      "Epoch [25/250], Average Loss: 0.0667\n",
      "Model weights saved at ../../../weights/ns/model.pth\n"
     ]
    },
    {
     "name": "stderr",
     "output_type": "stream",
     "text": [
      "\n",
      "Epoch 26/250: 100%|██████████| 133/133 [00:26<00:00,  5.06it/s, Batch Loss=0.303]  "
     ]
    },
    {
     "name": "stdout",
     "output_type": "stream",
     "text": [
      "Epoch [26/250], Average Loss: 0.0661\n",
      "Model weights saved at ../../../weights/ns/model.pth\n"
     ]
    },
    {
     "name": "stderr",
     "output_type": "stream",
     "text": [
      "\n",
      "Epoch 27/250: 100%|██████████| 133/133 [00:26<00:00,  5.02it/s, Batch Loss=0.304]  "
     ]
    },
    {
     "name": "stdout",
     "output_type": "stream",
     "text": [
      "Epoch [27/250], Average Loss: 0.0665\n",
      "Model weights saved at ../../../weights/ns/model.pth\n"
     ]
    },
    {
     "name": "stderr",
     "output_type": "stream",
     "text": [
      "\n",
      "Epoch 28/250: 100%|██████████| 133/133 [00:26<00:00,  4.98it/s, Batch Loss=0.303]  "
     ]
    },
    {
     "name": "stdout",
     "output_type": "stream",
     "text": [
      "Epoch [28/250], Average Loss: 0.0659\n",
      "Model weights saved at ../../../weights/ns/model.pth\n"
     ]
    },
    {
     "name": "stderr",
     "output_type": "stream",
     "text": [
      "\n",
      "Epoch 29/250: 100%|██████████| 133/133 [00:26<00:00,  5.02it/s, Batch Loss=0.304]  "
     ]
    },
    {
     "name": "stdout",
     "output_type": "stream",
     "text": [
      "Epoch [29/250], Average Loss: 0.0663\n",
      "Model weights saved at ../../../weights/ns/model.pth\n"
     ]
    },
    {
     "name": "stderr",
     "output_type": "stream",
     "text": [
      "\n",
      "Epoch 30/250: 100%|██████████| 133/133 [00:26<00:00,  4.99it/s, Batch Loss=0.303] "
     ]
    },
    {
     "name": "stdout",
     "output_type": "stream",
     "text": [
      "Epoch [30/250], Average Loss: 0.0657\n",
      "Model weights saved at ../../../weights/ns/model.pth\n"
     ]
    },
    {
     "name": "stderr",
     "output_type": "stream",
     "text": [
      "\n",
      "Epoch 31/250: 100%|██████████| 133/133 [00:26<00:00,  5.02it/s, Batch Loss=0.304] "
     ]
    },
    {
     "name": "stdout",
     "output_type": "stream",
     "text": [
      "Epoch [31/250], Average Loss: 0.0661\n",
      "Model weights saved at ../../../weights/ns/model.pth\n"
     ]
    },
    {
     "name": "stderr",
     "output_type": "stream",
     "text": [
      "\n",
      "Epoch 32/250: 100%|██████████| 133/133 [00:26<00:00,  5.02it/s, Batch Loss=0.303]  "
     ]
    },
    {
     "name": "stdout",
     "output_type": "stream",
     "text": [
      "Epoch [32/250], Average Loss: 0.0657\n",
      "Model weights saved at ../../../weights/ns/model.pth\n"
     ]
    },
    {
     "name": "stderr",
     "output_type": "stream",
     "text": [
      "\n",
      "Epoch 33/250: 100%|██████████| 133/133 [00:26<00:00,  5.02it/s, Batch Loss=0.302]  "
     ]
    },
    {
     "name": "stdout",
     "output_type": "stream",
     "text": [
      "Epoch [33/250], Average Loss: 0.0657\n",
      "Model weights saved at ../../../weights/ns/model.pth\n"
     ]
    },
    {
     "name": "stderr",
     "output_type": "stream",
     "text": [
      "\n",
      "Epoch 34/250: 100%|██████████| 133/133 [00:26<00:00,  4.98it/s, Batch Loss=0.301]  "
     ]
    },
    {
     "name": "stdout",
     "output_type": "stream",
     "text": [
      "Epoch [34/250], Average Loss: 0.0653\n",
      "Model weights saved at ../../../weights/ns/model.pth\n"
     ]
    },
    {
     "name": "stderr",
     "output_type": "stream",
     "text": [
      "\n",
      "Epoch 35/250: 100%|██████████| 133/133 [00:26<00:00,  5.03it/s, Batch Loss=0.302]  "
     ]
    },
    {
     "name": "stdout",
     "output_type": "stream",
     "text": [
      "Epoch [35/250], Average Loss: 0.0654\n",
      "Model weights saved at ../../../weights/ns/model.pth\n"
     ]
    },
    {
     "name": "stderr",
     "output_type": "stream",
     "text": [
      "\n",
      "Epoch 36/250: 100%|██████████| 133/133 [00:26<00:00,  5.01it/s, Batch Loss=0.3]    "
     ]
    },
    {
     "name": "stdout",
     "output_type": "stream",
     "text": [
      "Epoch [36/250], Average Loss: 0.0646\n",
      "Model weights saved at ../../../weights/ns/model.pth\n"
     ]
    },
    {
     "name": "stderr",
     "output_type": "stream",
     "text": [
      "\n",
      "Epoch 37/250: 100%|██████████| 133/133 [00:26<00:00,  5.02it/s, Batch Loss=0.299]  "
     ]
    },
    {
     "name": "stdout",
     "output_type": "stream",
     "text": [
      "Epoch [37/250], Average Loss: 0.0644\n",
      "Model weights saved at ../../../weights/ns/model.pth\n"
     ]
    },
    {
     "name": "stderr",
     "output_type": "stream",
     "text": [
      "\n",
      "Epoch 38/250: 100%|██████████| 133/133 [00:26<00:00,  5.02it/s, Batch Loss=0.298]  "
     ]
    },
    {
     "name": "stdout",
     "output_type": "stream",
     "text": [
      "Epoch [38/250], Average Loss: 0.0639\n",
      "Model weights saved at ../../../weights/ns/model.pth\n"
     ]
    },
    {
     "name": "stderr",
     "output_type": "stream",
     "text": [
      "\n",
      "Epoch 39/250: 100%|██████████| 133/133 [00:26<00:00,  4.98it/s, Batch Loss=0.297]  "
     ]
    },
    {
     "name": "stdout",
     "output_type": "stream",
     "text": [
      "Epoch [39/250], Average Loss: 0.0637\n",
      "Model weights saved at ../../../weights/ns/model.pth\n"
     ]
    },
    {
     "name": "stderr",
     "output_type": "stream",
     "text": [
      "\n",
      "Epoch 40/250: 100%|██████████| 133/133 [00:26<00:00,  5.02it/s, Batch Loss=0.296]  "
     ]
    },
    {
     "name": "stdout",
     "output_type": "stream",
     "text": [
      "Epoch [40/250], Average Loss: 0.0633\n",
      "Model weights saved at ../../../weights/ns/model.pth\n"
     ]
    },
    {
     "name": "stderr",
     "output_type": "stream",
     "text": [
      "\n",
      "Epoch 41/250: 100%|██████████| 133/133 [00:26<00:00,  5.02it/s, Batch Loss=0.295]  "
     ]
    },
    {
     "name": "stdout",
     "output_type": "stream",
     "text": [
      "Epoch [41/250], Average Loss: 0.0630\n",
      "Model weights saved at ../../../weights/ns/model.pth\n"
     ]
    },
    {
     "name": "stderr",
     "output_type": "stream",
     "text": [
      "\n",
      "Epoch 42/250: 100%|██████████| 133/133 [00:26<00:00,  5.01it/s, Batch Loss=0.296] "
     ]
    },
    {
     "name": "stdout",
     "output_type": "stream",
     "text": [
      "Epoch [42/250], Average Loss: 0.0631\n",
      "Model weights saved at ../../../weights/ns/model.pth\n"
     ]
    },
    {
     "name": "stderr",
     "output_type": "stream",
     "text": [
      "\n",
      "Epoch 43/250: 100%|██████████| 133/133 [00:26<00:00,  4.99it/s, Batch Loss=0.295]  "
     ]
    },
    {
     "name": "stdout",
     "output_type": "stream",
     "text": [
      "Epoch [43/250], Average Loss: 0.0626\n",
      "Model weights saved at ../../../weights/ns/model.pth\n"
     ]
    },
    {
     "name": "stderr",
     "output_type": "stream",
     "text": [
      "\n",
      "Epoch 44/250: 100%|██████████| 133/133 [00:26<00:00,  5.02it/s, Batch Loss=0.295]  "
     ]
    },
    {
     "name": "stdout",
     "output_type": "stream",
     "text": [
      "Epoch [44/250], Average Loss: 0.0625\n",
      "Model weights saved at ../../../weights/ns/model.pth\n"
     ]
    },
    {
     "name": "stderr",
     "output_type": "stream",
     "text": [
      "\n",
      "Epoch 45/250: 100%|██████████| 133/133 [00:26<00:00,  5.01it/s, Batch Loss=0.294]  "
     ]
    },
    {
     "name": "stdout",
     "output_type": "stream",
     "text": [
      "Epoch [45/250], Average Loss: 0.0623\n",
      "Model weights saved at ../../../weights/ns/model.pth\n"
     ]
    },
    {
     "name": "stderr",
     "output_type": "stream",
     "text": [
      "\n",
      "Epoch 46/250: 100%|██████████| 133/133 [00:26<00:00,  5.02it/s, Batch Loss=0.294]  "
     ]
    },
    {
     "name": "stdout",
     "output_type": "stream",
     "text": [
      "Epoch [46/250], Average Loss: 0.0622\n",
      "Model weights saved at ../../../weights/ns/model.pth\n"
     ]
    },
    {
     "name": "stderr",
     "output_type": "stream",
     "text": [
      "\n",
      "Epoch 47/250: 100%|██████████| 133/133 [00:26<00:00,  4.98it/s, Batch Loss=0.293]  "
     ]
    },
    {
     "name": "stdout",
     "output_type": "stream",
     "text": [
      "Epoch [47/250], Average Loss: 0.0620\n",
      "Model weights saved at ../../../weights/ns/model.pth\n"
     ]
    },
    {
     "name": "stderr",
     "output_type": "stream",
     "text": [
      "\n",
      "Epoch 48/250: 100%|██████████| 133/133 [00:26<00:00,  5.01it/s, Batch Loss=0.293]  "
     ]
    },
    {
     "name": "stdout",
     "output_type": "stream",
     "text": [
      "Epoch [48/250], Average Loss: 0.0619\n",
      "Model weights saved at ../../../weights/ns/model.pth\n"
     ]
    },
    {
     "name": "stderr",
     "output_type": "stream",
     "text": [
      "\n",
      "Epoch 49/250: 100%|██████████| 133/133 [00:26<00:00,  4.99it/s, Batch Loss=0.293]  "
     ]
    },
    {
     "name": "stdout",
     "output_type": "stream",
     "text": [
      "Epoch [49/250], Average Loss: 0.0618\n",
      "Model weights saved at ../../../weights/ns/model.pth\n"
     ]
    },
    {
     "name": "stderr",
     "output_type": "stream",
     "text": [
      "\n",
      "Epoch 50/250: 100%|██████████| 133/133 [00:26<00:00,  4.99it/s, Batch Loss=0.292]  "
     ]
    },
    {
     "name": "stdout",
     "output_type": "stream",
     "text": [
      "Epoch [50/250], Average Loss: 0.0617\n",
      "Model weights saved at ../../../weights/ns/model.pth\n"
     ]
    },
    {
     "name": "stderr",
     "output_type": "stream",
     "text": [
      "\n",
      "Epoch 51/250: 100%|██████████| 133/133 [00:26<00:00,  4.99it/s, Batch Loss=0.293]  "
     ]
    },
    {
     "name": "stdout",
     "output_type": "stream",
     "text": [
      "Epoch [51/250], Average Loss: 0.0617\n",
      "Model weights saved at ../../../weights/ns/model.pth\n"
     ]
    },
    {
     "name": "stderr",
     "output_type": "stream",
     "text": [
      "\n",
      "Epoch 52/250: 100%|██████████| 133/133 [00:26<00:00,  5.01it/s, Batch Loss=0.292] "
     ]
    },
    {
     "name": "stdout",
     "output_type": "stream",
     "text": [
      "Epoch [52/250], Average Loss: 0.0615\n",
      "Model weights saved at ../../../weights/ns/model.pth\n"
     ]
    },
    {
     "name": "stderr",
     "output_type": "stream",
     "text": [
      "\n",
      "Epoch 53/250: 100%|██████████| 133/133 [00:26<00:00,  4.99it/s, Batch Loss=0.291]  "
     ]
    },
    {
     "name": "stdout",
     "output_type": "stream",
     "text": [
      "Epoch [53/250], Average Loss: 0.0614\n",
      "Model weights saved at ../../../weights/ns/model.pth\n"
     ]
    },
    {
     "name": "stderr",
     "output_type": "stream",
     "text": [
      "\n",
      "Epoch 54/250: 100%|██████████| 133/133 [00:26<00:00,  5.03it/s, Batch Loss=0.291]  "
     ]
    },
    {
     "name": "stdout",
     "output_type": "stream",
     "text": [
      "Epoch [54/250], Average Loss: 0.0612\n",
      "Model weights saved at ../../../weights/ns/model.pth\n"
     ]
    },
    {
     "name": "stderr",
     "output_type": "stream",
     "text": [
      "\n",
      "Epoch 55/250: 100%|██████████| 133/133 [00:26<00:00,  4.97it/s, Batch Loss=0.29]   "
     ]
    },
    {
     "name": "stdout",
     "output_type": "stream",
     "text": [
      "Epoch [55/250], Average Loss: 0.0611\n",
      "Model weights saved at ../../../weights/ns/model.pth\n"
     ]
    },
    {
     "name": "stderr",
     "output_type": "stream",
     "text": [
      "\n",
      "Epoch 56/250: 100%|██████████| 133/133 [00:26<00:00,  5.02it/s, Batch Loss=0.291]  "
     ]
    },
    {
     "name": "stdout",
     "output_type": "stream",
     "text": [
      "Epoch [56/250], Average Loss: 0.0613\n",
      "Model weights saved at ../../../weights/ns/model.pth\n"
     ]
    },
    {
     "name": "stderr",
     "output_type": "stream",
     "text": [
      "\n",
      "Epoch 57/250: 100%|██████████| 133/133 [00:26<00:00,  4.98it/s, Batch Loss=0.289]  "
     ]
    },
    {
     "name": "stdout",
     "output_type": "stream",
     "text": [
      "Epoch [57/250], Average Loss: 0.0610\n",
      "Model weights saved at ../../../weights/ns/model.pth\n"
     ]
    },
    {
     "name": "stderr",
     "output_type": "stream",
     "text": [
      "\n",
      "Epoch 58/250: 100%|██████████| 133/133 [00:26<00:00,  5.02it/s, Batch Loss=0.29]   "
     ]
    },
    {
     "name": "stdout",
     "output_type": "stream",
     "text": [
      "Epoch [58/250], Average Loss: 0.0611\n",
      "Model weights saved at ../../../weights/ns/model.pth\n"
     ]
    },
    {
     "name": "stderr",
     "output_type": "stream",
     "text": [
      "\n",
      "Epoch 59/250: 100%|██████████| 133/133 [00:26<00:00,  5.02it/s, Batch Loss=0.288]  "
     ]
    },
    {
     "name": "stdout",
     "output_type": "stream",
     "text": [
      "Epoch [59/250], Average Loss: 0.0606\n",
      "Model weights saved at ../../../weights/ns/model.pth\n"
     ]
    },
    {
     "name": "stderr",
     "output_type": "stream",
     "text": [
      "\n",
      "Epoch 60/250: 100%|██████████| 133/133 [00:26<00:00,  4.98it/s, Batch Loss=0.288]  "
     ]
    },
    {
     "name": "stdout",
     "output_type": "stream",
     "text": [
      "Epoch [60/250], Average Loss: 0.0606\n",
      "Model weights saved at ../../../weights/ns/model.pth\n"
     ]
    },
    {
     "name": "stderr",
     "output_type": "stream",
     "text": [
      "\n",
      "Epoch 61/250: 100%|██████████| 133/133 [00:26<00:00,  4.99it/s, Batch Loss=0.288]  "
     ]
    },
    {
     "name": "stdout",
     "output_type": "stream",
     "text": [
      "Epoch [61/250], Average Loss: 0.0608\n",
      "Model weights saved at ../../../weights/ns/model.pth\n"
     ]
    },
    {
     "name": "stderr",
     "output_type": "stream",
     "text": [
      "\n",
      "Epoch 62/250: 100%|██████████| 133/133 [00:26<00:00,  5.02it/s, Batch Loss=0.288]  "
     ]
    },
    {
     "name": "stdout",
     "output_type": "stream",
     "text": [
      "Epoch [62/250], Average Loss: 0.0603\n",
      "Model weights saved at ../../../weights/ns/model.pth\n"
     ]
    },
    {
     "name": "stderr",
     "output_type": "stream",
     "text": [
      "\n",
      "Epoch 63/250: 100%|██████████| 133/133 [00:26<00:00,  5.02it/s, Batch Loss=0.287]  "
     ]
    },
    {
     "name": "stdout",
     "output_type": "stream",
     "text": [
      "Epoch [63/250], Average Loss: 0.0605\n",
      "Model weights saved at ../../../weights/ns/model.pth\n"
     ]
    },
    {
     "name": "stderr",
     "output_type": "stream",
     "text": [
      "\n",
      "Epoch 64/250: 100%|██████████| 133/133 [00:26<00:00,  5.02it/s, Batch Loss=0.287]  "
     ]
    },
    {
     "name": "stdout",
     "output_type": "stream",
     "text": [
      "Epoch [64/250], Average Loss: 0.0601\n",
      "Model weights saved at ../../../weights/ns/model.pth\n"
     ]
    },
    {
     "name": "stderr",
     "output_type": "stream",
     "text": [
      "\n",
      "Epoch 65/250: 100%|██████████| 133/133 [00:26<00:00,  5.02it/s, Batch Loss=0.287]  "
     ]
    },
    {
     "name": "stdout",
     "output_type": "stream",
     "text": [
      "Epoch [65/250], Average Loss: 0.0603\n",
      "Model weights saved at ../../../weights/ns/model.pth\n"
     ]
    },
    {
     "name": "stderr",
     "output_type": "stream",
     "text": [
      "\n",
      "Epoch 66/250: 100%|██████████| 133/133 [00:26<00:00,  5.02it/s, Batch Loss=0.287]  "
     ]
    },
    {
     "name": "stdout",
     "output_type": "stream",
     "text": [
      "Epoch [66/250], Average Loss: 0.0599\n",
      "Model weights saved at ../../../weights/ns/model.pth\n"
     ]
    },
    {
     "name": "stderr",
     "output_type": "stream",
     "text": [
      "\n",
      "Epoch 67/250: 100%|██████████| 133/133 [00:26<00:00,  5.01it/s, Batch Loss=0.287]  "
     ]
    },
    {
     "name": "stdout",
     "output_type": "stream",
     "text": [
      "Epoch [67/250], Average Loss: 0.0599\n",
      "Model weights saved at ../../../weights/ns/model.pth\n"
     ]
    },
    {
     "name": "stderr",
     "output_type": "stream",
     "text": [
      "\n",
      "Epoch 68/250: 100%|██████████| 133/133 [00:26<00:00,  4.99it/s, Batch Loss=0.286]  "
     ]
    },
    {
     "name": "stdout",
     "output_type": "stream",
     "text": [
      "Epoch [68/250], Average Loss: 0.0597\n",
      "Model weights saved at ../../../weights/ns/model.pth\n"
     ]
    },
    {
     "name": "stderr",
     "output_type": "stream",
     "text": [
      "\n",
      "Epoch 69/250: 100%|██████████| 133/133 [00:26<00:00,  5.01it/s, Batch Loss=0.286]  "
     ]
    },
    {
     "name": "stdout",
     "output_type": "stream",
     "text": [
      "Epoch [69/250], Average Loss: 0.0600\n",
      "Model weights saved at ../../../weights/ns/model.pth\n"
     ]
    },
    {
     "name": "stderr",
     "output_type": "stream",
     "text": [
      "\n",
      "Epoch 70/250: 100%|██████████| 133/133 [00:26<00:00,  4.98it/s, Batch Loss=0.285]  "
     ]
    },
    {
     "name": "stdout",
     "output_type": "stream",
     "text": [
      "Epoch [70/250], Average Loss: 0.0595\n",
      "Model weights saved at ../../../weights/ns/model.pth\n"
     ]
    },
    {
     "name": "stderr",
     "output_type": "stream",
     "text": [
      "\n",
      "Epoch 71/250: 100%|██████████| 133/133 [00:26<00:00,  4.99it/s, Batch Loss=0.286]  "
     ]
    },
    {
     "name": "stdout",
     "output_type": "stream",
     "text": [
      "Epoch [71/250], Average Loss: 0.0598\n",
      "Model weights saved at ../../../weights/ns/model.pth\n"
     ]
    },
    {
     "name": "stderr",
     "output_type": "stream",
     "text": [
      "\n",
      "Epoch 72/250: 100%|██████████| 133/133 [00:26<00:00,  4.98it/s, Batch Loss=0.285]  "
     ]
    },
    {
     "name": "stdout",
     "output_type": "stream",
     "text": [
      "Epoch [72/250], Average Loss: 0.0593\n",
      "Model weights saved at ../../../weights/ns/model.pth\n"
     ]
    },
    {
     "name": "stderr",
     "output_type": "stream",
     "text": [
      "\n",
      "Epoch 73/250: 100%|██████████| 133/133 [00:26<00:00,  4.98it/s, Batch Loss=0.284]  "
     ]
    },
    {
     "name": "stdout",
     "output_type": "stream",
     "text": [
      "Epoch [73/250], Average Loss: 0.0591\n",
      "Model weights saved at ../../../weights/ns/model.pth\n"
     ]
    },
    {
     "name": "stderr",
     "output_type": "stream",
     "text": [
      "\n",
      "Epoch 74/250: 100%|██████████| 133/133 [00:26<00:00,  5.02it/s, Batch Loss=0.284]  "
     ]
    },
    {
     "name": "stdout",
     "output_type": "stream",
     "text": [
      "Epoch [74/250], Average Loss: 0.0592\n",
      "Model weights saved at ../../../weights/ns/model.pth\n"
     ]
    },
    {
     "name": "stderr",
     "output_type": "stream",
     "text": [
      "\n",
      "Epoch 75/250: 100%|██████████| 133/133 [00:26<00:00,  4.98it/s, Batch Loss=0.284]  "
     ]
    },
    {
     "name": "stdout",
     "output_type": "stream",
     "text": [
      "Epoch [75/250], Average Loss: 0.0588\n",
      "Model weights saved at ../../../weights/ns/model.pth\n"
     ]
    },
    {
     "name": "stderr",
     "output_type": "stream",
     "text": [
      "\n",
      "Epoch 76/250: 100%|██████████| 133/133 [00:26<00:00,  5.00it/s, Batch Loss=0.284]  "
     ]
    },
    {
     "name": "stdout",
     "output_type": "stream",
     "text": [
      "Epoch [76/250], Average Loss: 0.0591\n",
      "Model weights saved at ../../../weights/ns/model.pth\n"
     ]
    },
    {
     "name": "stderr",
     "output_type": "stream",
     "text": [
      "\n",
      "Epoch 77/250: 100%|██████████| 133/133 [00:26<00:00,  5.02it/s, Batch Loss=0.284]  "
     ]
    },
    {
     "name": "stdout",
     "output_type": "stream",
     "text": [
      "Epoch [77/250], Average Loss: 0.0586\n",
      "Model weights saved at ../../../weights/ns/model.pth\n"
     ]
    },
    {
     "name": "stderr",
     "output_type": "stream",
     "text": [
      "\n",
      "Epoch 78/250: 100%|██████████| 133/133 [00:26<00:00,  5.01it/s, Batch Loss=0.284]  "
     ]
    },
    {
     "name": "stdout",
     "output_type": "stream",
     "text": [
      "Epoch [78/250], Average Loss: 0.0583\n",
      "Model weights saved at ../../../weights/ns/model.pth\n"
     ]
    },
    {
     "name": "stderr",
     "output_type": "stream",
     "text": [
      "\n",
      "Epoch 79/250: 100%|██████████| 133/133 [00:26<00:00,  4.99it/s, Batch Loss=0.283] "
     ]
    },
    {
     "name": "stdout",
     "output_type": "stream",
     "text": [
      "Epoch [79/250], Average Loss: 0.0584\n",
      "Model weights saved at ../../../weights/ns/model.pth\n"
     ]
    },
    {
     "name": "stderr",
     "output_type": "stream",
     "text": [
      "\n",
      "Epoch 80/250: 100%|██████████| 133/133 [00:26<00:00,  5.02it/s, Batch Loss=0.283]  "
     ]
    },
    {
     "name": "stdout",
     "output_type": "stream",
     "text": [
      "Epoch [80/250], Average Loss: 0.0580\n",
      "Model weights saved at ../../../weights/ns/model.pth\n"
     ]
    },
    {
     "name": "stderr",
     "output_type": "stream",
     "text": [
      "\n",
      "Epoch 81/250: 100%|██████████| 133/133 [00:26<00:00,  5.01it/s, Batch Loss=0.283] "
     ]
    },
    {
     "name": "stdout",
     "output_type": "stream",
     "text": [
      "Epoch [81/250], Average Loss: 0.0580\n",
      "Model weights saved at ../../../weights/ns/model.pth\n"
     ]
    },
    {
     "name": "stderr",
     "output_type": "stream",
     "text": [
      "\n",
      "Epoch 82/250: 100%|██████████| 133/133 [00:26<00:00,  5.02it/s, Batch Loss=0.282] "
     ]
    },
    {
     "name": "stdout",
     "output_type": "stream",
     "text": [
      "Epoch [82/250], Average Loss: 0.0577\n",
      "Model weights saved at ../../../weights/ns/model.pth\n"
     ]
    },
    {
     "name": "stderr",
     "output_type": "stream",
     "text": [
      "\n",
      "Epoch 83/250: 100%|██████████| 133/133 [00:26<00:00,  5.01it/s, Batch Loss=0.282] "
     ]
    },
    {
     "name": "stdout",
     "output_type": "stream",
     "text": [
      "Epoch [83/250], Average Loss: 0.0579\n",
      "Model weights saved at ../../../weights/ns/model.pth\n"
     ]
    },
    {
     "name": "stderr",
     "output_type": "stream",
     "text": [
      "\n",
      "Epoch 84/250: 100%|██████████| 133/133 [00:26<00:00,  4.98it/s, Batch Loss=0.281] "
     ]
    },
    {
     "name": "stdout",
     "output_type": "stream",
     "text": [
      "Epoch [84/250], Average Loss: 0.0575\n",
      "Model weights saved at ../../../weights/ns/model.pth\n"
     ]
    },
    {
     "name": "stderr",
     "output_type": "stream",
     "text": [
      "\n",
      "Epoch 85/250: 100%|██████████| 133/133 [00:26<00:00,  5.02it/s, Batch Loss=0.281] "
     ]
    },
    {
     "name": "stdout",
     "output_type": "stream",
     "text": [
      "Epoch [85/250], Average Loss: 0.0577\n",
      "Model weights saved at ../../../weights/ns/model.pth\n"
     ]
    },
    {
     "name": "stderr",
     "output_type": "stream",
     "text": [
      "\n",
      "Epoch 86/250: 100%|██████████| 133/133 [00:26<00:00,  5.02it/s, Batch Loss=0.28]  "
     ]
    },
    {
     "name": "stdout",
     "output_type": "stream",
     "text": [
      "Epoch [86/250], Average Loss: 0.0573\n",
      "Model weights saved at ../../../weights/ns/model.pth\n"
     ]
    },
    {
     "name": "stderr",
     "output_type": "stream",
     "text": [
      "\n",
      "Epoch 87/250: 100%|██████████| 133/133 [00:26<00:00,  5.02it/s, Batch Loss=0.28]  "
     ]
    },
    {
     "name": "stdout",
     "output_type": "stream",
     "text": [
      "Epoch [87/250], Average Loss: 0.0572\n",
      "Model weights saved at ../../../weights/ns/model.pth\n"
     ]
    },
    {
     "name": "stderr",
     "output_type": "stream",
     "text": [
      "\n",
      "Epoch 88/250: 100%|██████████| 133/133 [00:26<00:00,  5.02it/s, Batch Loss=0.279] "
     ]
    },
    {
     "name": "stdout",
     "output_type": "stream",
     "text": [
      "Epoch [88/250], Average Loss: 0.0572\n",
      "Model weights saved at ../../../weights/ns/model.pth\n"
     ]
    },
    {
     "name": "stderr",
     "output_type": "stream",
     "text": [
      "\n",
      "Epoch 89/250: 100%|██████████| 133/133 [00:26<00:00,  5.02it/s, Batch Loss=0.279] "
     ]
    },
    {
     "name": "stdout",
     "output_type": "stream",
     "text": [
      "Epoch [89/250], Average Loss: 0.0572\n",
      "Model weights saved at ../../../weights/ns/model.pth\n"
     ]
    },
    {
     "name": "stderr",
     "output_type": "stream",
     "text": [
      "\n",
      "Epoch 90/250: 100%|██████████| 133/133 [00:26<00:00,  4.99it/s, Batch Loss=0.279] "
     ]
    },
    {
     "name": "stdout",
     "output_type": "stream",
     "text": [
      "Epoch [90/250], Average Loss: 0.0572\n",
      "Model weights saved at ../../../weights/ns/model.pth\n"
     ]
    },
    {
     "name": "stderr",
     "output_type": "stream",
     "text": [
      "\n",
      "Epoch 91/250: 100%|██████████| 133/133 [00:26<00:00,  5.02it/s, Batch Loss=0.278] "
     ]
    },
    {
     "name": "stdout",
     "output_type": "stream",
     "text": [
      "Epoch [91/250], Average Loss: 0.0570\n",
      "Model weights saved at ../../../weights/ns/model.pth\n"
     ]
    },
    {
     "name": "stderr",
     "output_type": "stream",
     "text": [
      "\n",
      "Epoch 92/250: 100%|██████████| 133/133 [00:26<00:00,  5.06it/s, Batch Loss=0.278] "
     ]
    },
    {
     "name": "stdout",
     "output_type": "stream",
     "text": [
      "Epoch [92/250], Average Loss: 0.0573\n",
      "Model weights saved at ../../../weights/ns/model.pth\n"
     ]
    },
    {
     "name": "stderr",
     "output_type": "stream",
     "text": [
      "\n",
      "Epoch 93/250: 100%|██████████| 133/133 [00:26<00:00,  5.02it/s, Batch Loss=0.277] "
     ]
    },
    {
     "name": "stdout",
     "output_type": "stream",
     "text": [
      "Epoch [93/250], Average Loss: 0.0569\n",
      "Model weights saved at ../../../weights/ns/model.pth\n"
     ]
    },
    {
     "name": "stderr",
     "output_type": "stream",
     "text": [
      "\n",
      "Epoch 94/250: 100%|██████████| 133/133 [00:26<00:00,  5.06it/s, Batch Loss=0.278] "
     ]
    },
    {
     "name": "stdout",
     "output_type": "stream",
     "text": [
      "Epoch [94/250], Average Loss: 0.0570\n",
      "Model weights saved at ../../../weights/ns/model.pth\n"
     ]
    },
    {
     "name": "stderr",
     "output_type": "stream",
     "text": [
      "\n",
      "Epoch 95/250: 100%|██████████| 133/133 [00:26<00:00,  5.02it/s, Batch Loss=0.277] "
     ]
    },
    {
     "name": "stdout",
     "output_type": "stream",
     "text": [
      "Epoch [95/250], Average Loss: 0.0568\n",
      "Model weights saved at ../../../weights/ns/model.pth\n"
     ]
    },
    {
     "name": "stderr",
     "output_type": "stream",
     "text": [
      "\n",
      "Epoch 96/250: 100%|██████████| 133/133 [00:26<00:00,  4.99it/s, Batch Loss=0.277] "
     ]
    },
    {
     "name": "stdout",
     "output_type": "stream",
     "text": [
      "Epoch [96/250], Average Loss: 0.0571\n",
      "Model weights saved at ../../../weights/ns/model.pth\n"
     ]
    },
    {
     "name": "stderr",
     "output_type": "stream",
     "text": [
      "\n",
      "Epoch 97/250: 100%|██████████| 133/133 [00:26<00:00,  5.02it/s, Batch Loss=0.277] "
     ]
    },
    {
     "name": "stdout",
     "output_type": "stream",
     "text": [
      "Epoch [97/250], Average Loss: 0.0566\n",
      "Model weights saved at ../../../weights/ns/model.pth\n"
     ]
    },
    {
     "name": "stderr",
     "output_type": "stream",
     "text": [
      "\n",
      "Epoch 98/250: 100%|██████████| 133/133 [00:26<00:00,  5.02it/s, Batch Loss=0.277] "
     ]
    },
    {
     "name": "stdout",
     "output_type": "stream",
     "text": [
      "Epoch [98/250], Average Loss: 0.0568\n",
      "Model weights saved at ../../../weights/ns/model.pth\n"
     ]
    },
    {
     "name": "stderr",
     "output_type": "stream",
     "text": [
      "\n",
      "Epoch 99/250: 100%|██████████| 133/133 [00:26<00:00,  4.99it/s, Batch Loss=0.276] "
     ]
    },
    {
     "name": "stdout",
     "output_type": "stream",
     "text": [
      "Epoch [99/250], Average Loss: 0.0566\n",
      "Model weights saved at ../../../weights/ns/model.pth\n"
     ]
    },
    {
     "name": "stderr",
     "output_type": "stream",
     "text": [
      "\n",
      "Epoch 100/250: 100%|██████████| 133/133 [00:26<00:00,  5.02it/s, Batch Loss=0.276] "
     ]
    },
    {
     "name": "stdout",
     "output_type": "stream",
     "text": [
      "Epoch [100/250], Average Loss: 0.0566\n",
      "Model weights saved at ../../../weights/ns/model.pth\n"
     ]
    },
    {
     "name": "stderr",
     "output_type": "stream",
     "text": [
      "\n",
      "Epoch 101/250: 100%|██████████| 133/133 [00:26<00:00,  5.02it/s, Batch Loss=0.276] "
     ]
    },
    {
     "name": "stdout",
     "output_type": "stream",
     "text": [
      "Epoch [101/250], Average Loss: 0.0565\n",
      "Model weights saved at ../../../weights/ns/model.pth\n"
     ]
    },
    {
     "name": "stderr",
     "output_type": "stream",
     "text": [
      "\n",
      "Epoch 102/250: 100%|██████████| 133/133 [00:26<00:00,  5.02it/s, Batch Loss=0.276] "
     ]
    },
    {
     "name": "stdout",
     "output_type": "stream",
     "text": [
      "Epoch [102/250], Average Loss: 0.0565\n",
      "Model weights saved at ../../../weights/ns/model.pth\n"
     ]
    },
    {
     "name": "stderr",
     "output_type": "stream",
     "text": [
      "\n",
      "Epoch 103/250: 100%|██████████| 133/133 [00:26<00:00,  5.04it/s, Batch Loss=0.275] "
     ]
    },
    {
     "name": "stdout",
     "output_type": "stream",
     "text": [
      "Epoch [103/250], Average Loss: 0.0563\n",
      "Model weights saved at ../../../weights/ns/model.pth\n"
     ]
    },
    {
     "name": "stderr",
     "output_type": "stream",
     "text": [
      "\n",
      "Epoch 104/250: 100%|██████████| 133/133 [00:26<00:00,  5.00it/s, Batch Loss=0.275] "
     ]
    },
    {
     "name": "stdout",
     "output_type": "stream",
     "text": [
      "Epoch [104/250], Average Loss: 0.0566\n",
      "Model weights saved at ../../../weights/ns/model.pth\n"
     ]
    },
    {
     "name": "stderr",
     "output_type": "stream",
     "text": [
      "\n",
      "Epoch 105/250: 100%|██████████| 133/133 [00:26<00:00,  5.02it/s, Batch Loss=0.275] "
     ]
    },
    {
     "name": "stdout",
     "output_type": "stream",
     "text": [
      "Epoch [105/250], Average Loss: 0.0562\n",
      "Model weights saved at ../../../weights/ns/model.pth\n"
     ]
    },
    {
     "name": "stderr",
     "output_type": "stream",
     "text": [
      "\n",
      "Epoch 106/250: 100%|██████████| 133/133 [00:26<00:00,  5.02it/s, Batch Loss=0.275] "
     ]
    },
    {
     "name": "stdout",
     "output_type": "stream",
     "text": [
      "Epoch [106/250], Average Loss: 0.0565\n",
      "Model weights saved at ../../../weights/ns/model.pth\n"
     ]
    },
    {
     "name": "stderr",
     "output_type": "stream",
     "text": [
      "\n",
      "Epoch 107/250: 100%|██████████| 133/133 [00:26<00:00,  5.02it/s, Batch Loss=0.274] \n"
     ]
    },
    {
     "name": "stdout",
     "output_type": "stream",
     "text": [
      "Epoch [107/250], Average Loss: 0.0561\n",
      "Model weights saved at ../../../weights/ns/model.pth\n"
     ]
    },
    {
     "name": "stderr",
     "output_type": "stream",
     "text": [
      "Epoch 108/250: 100%|██████████| 133/133 [00:26<00:00,  5.03it/s, Batch Loss=0.274] "
     ]
    },
    {
     "name": "stdout",
     "output_type": "stream",
     "text": [
      "Epoch [108/250], Average Loss: 0.0563\n",
      "Model weights saved at ../../../weights/ns/model.pth\n"
     ]
    },
    {
     "name": "stderr",
     "output_type": "stream",
     "text": [
      "\n",
      "Epoch 109/250: 100%|██████████| 133/133 [00:26<00:00,  5.03it/s, Batch Loss=0.274] "
     ]
    },
    {
     "name": "stdout",
     "output_type": "stream",
     "text": [
      "Epoch [109/250], Average Loss: 0.0560\n",
      "Model weights saved at ../../../weights/ns/model.pth\n"
     ]
    },
    {
     "name": "stderr",
     "output_type": "stream",
     "text": [
      "\n",
      "Epoch 110/250: 100%|██████████| 133/133 [00:26<00:00,  5.06it/s, Batch Loss=0.274] "
     ]
    },
    {
     "name": "stdout",
     "output_type": "stream",
     "text": [
      "Epoch [110/250], Average Loss: 0.0563\n",
      "Model weights saved at ../../../weights/ns/model.pth\n"
     ]
    },
    {
     "name": "stderr",
     "output_type": "stream",
     "text": [
      "\n",
      "Epoch 111/250: 100%|██████████| 133/133 [00:26<00:00,  4.99it/s, Batch Loss=0.273] "
     ]
    },
    {
     "name": "stdout",
     "output_type": "stream",
     "text": [
      "Epoch [111/250], Average Loss: 0.0560\n",
      "Model weights saved at ../../../weights/ns/model.pth\n"
     ]
    },
    {
     "name": "stderr",
     "output_type": "stream",
     "text": [
      "\n",
      "Epoch 112/250: 100%|██████████| 133/133 [00:26<00:00,  5.01it/s, Batch Loss=0.273] "
     ]
    },
    {
     "name": "stdout",
     "output_type": "stream",
     "text": [
      "Epoch [112/250], Average Loss: 0.0560\n",
      "Model weights saved at ../../../weights/ns/model.pth\n"
     ]
    },
    {
     "name": "stderr",
     "output_type": "stream",
     "text": [
      "\n",
      "Epoch 113/250: 100%|██████████| 133/133 [00:26<00:00,  4.98it/s, Batch Loss=0.272] "
     ]
    },
    {
     "name": "stdout",
     "output_type": "stream",
     "text": [
      "Epoch [113/250], Average Loss: 0.0557\n",
      "Model weights saved at ../../../weights/ns/model.pth\n"
     ]
    },
    {
     "name": "stderr",
     "output_type": "stream",
     "text": [
      "\n",
      "Epoch 114/250: 100%|██████████| 133/133 [00:26<00:00,  5.02it/s, Batch Loss=0.272] "
     ]
    },
    {
     "name": "stdout",
     "output_type": "stream",
     "text": [
      "Epoch [114/250], Average Loss: 0.0561\n",
      "Model weights saved at ../../../weights/ns/model.pth\n"
     ]
    },
    {
     "name": "stderr",
     "output_type": "stream",
     "text": [
      "\n",
      "Epoch 115/250: 100%|██████████| 133/133 [00:26<00:00,  4.99it/s, Batch Loss=0.271] "
     ]
    },
    {
     "name": "stdout",
     "output_type": "stream",
     "text": [
      "Epoch [115/250], Average Loss: 0.0556\n",
      "Model weights saved at ../../../weights/ns/model.pth\n"
     ]
    },
    {
     "name": "stderr",
     "output_type": "stream",
     "text": [
      "\n",
      "Epoch 116/250: 100%|██████████| 133/133 [00:26<00:00,  5.01it/s, Batch Loss=0.271] "
     ]
    },
    {
     "name": "stdout",
     "output_type": "stream",
     "text": [
      "Epoch [116/250], Average Loss: 0.0560\n",
      "Model weights saved at ../../../weights/ns/model.pth\n"
     ]
    },
    {
     "name": "stderr",
     "output_type": "stream",
     "text": [
      "\n",
      "Epoch 117/250: 100%|██████████| 133/133 [00:26<00:00,  4.98it/s, Batch Loss=0.27]  "
     ]
    },
    {
     "name": "stdout",
     "output_type": "stream",
     "text": [
      "Epoch [117/250], Average Loss: 0.0555\n",
      "Model weights saved at ../../../weights/ns/model.pth\n"
     ]
    },
    {
     "name": "stderr",
     "output_type": "stream",
     "text": [
      "\n",
      "Epoch 118/250: 100%|██████████| 133/133 [00:26<00:00,  4.98it/s, Batch Loss=0.27]  "
     ]
    },
    {
     "name": "stdout",
     "output_type": "stream",
     "text": [
      "Epoch [118/250], Average Loss: 0.0556\n",
      "Model weights saved at ../../../weights/ns/model.pth\n"
     ]
    },
    {
     "name": "stderr",
     "output_type": "stream",
     "text": [
      "\n",
      "Epoch 119/250: 100%|██████████| 133/133 [00:26<00:00,  4.99it/s, Batch Loss=0.269] "
     ]
    },
    {
     "name": "stdout",
     "output_type": "stream",
     "text": [
      "Epoch [119/250], Average Loss: 0.0554\n",
      "Model weights saved at ../../../weights/ns/model.pth\n"
     ]
    },
    {
     "name": "stderr",
     "output_type": "stream",
     "text": [
      "\n",
      "Epoch 120/250: 100%|██████████| 133/133 [00:26<00:00,  5.02it/s, Batch Loss=0.269] "
     ]
    },
    {
     "name": "stdout",
     "output_type": "stream",
     "text": [
      "Epoch [120/250], Average Loss: 0.0558\n",
      "Model weights saved at ../../../weights/ns/model.pth\n"
     ]
    },
    {
     "name": "stderr",
     "output_type": "stream",
     "text": [
      "\n",
      "Epoch 121/250: 100%|██████████| 133/133 [00:26<00:00,  5.02it/s, Batch Loss=0.268] "
     ]
    },
    {
     "name": "stdout",
     "output_type": "stream",
     "text": [
      "Epoch [121/250], Average Loss: 0.0553\n",
      "Model weights saved at ../../../weights/ns/model.pth\n"
     ]
    },
    {
     "name": "stderr",
     "output_type": "stream",
     "text": [
      "\n",
      "Epoch 122/250: 100%|██████████| 133/133 [00:26<00:00,  5.02it/s, Batch Loss=0.267] "
     ]
    },
    {
     "name": "stdout",
     "output_type": "stream",
     "text": [
      "Epoch [122/250], Average Loss: 0.0555\n",
      "Model weights saved at ../../../weights/ns/model.pth\n"
     ]
    },
    {
     "name": "stderr",
     "output_type": "stream",
     "text": [
      "\n",
      "Epoch 123/250: 100%|██████████| 133/133 [00:26<00:00,  5.02it/s, Batch Loss=0.266] "
     ]
    },
    {
     "name": "stdout",
     "output_type": "stream",
     "text": [
      "Epoch [123/250], Average Loss: 0.0551\n",
      "Model weights saved at ../../../weights/ns/model.pth\n"
     ]
    },
    {
     "name": "stderr",
     "output_type": "stream",
     "text": [
      "\n",
      "Epoch 124/250: 100%|██████████| 133/133 [00:26<00:00,  5.02it/s, Batch Loss=0.265] "
     ]
    },
    {
     "name": "stdout",
     "output_type": "stream",
     "text": [
      "Epoch [124/250], Average Loss: 0.0553\n",
      "Model weights saved at ../../../weights/ns/model.pth\n"
     ]
    },
    {
     "name": "stderr",
     "output_type": "stream",
     "text": [
      "\n",
      "Epoch 125/250: 100%|██████████| 133/133 [00:26<00:00,  5.03it/s, Batch Loss=0.263] "
     ]
    },
    {
     "name": "stdout",
     "output_type": "stream",
     "text": [
      "Epoch [125/250], Average Loss: 0.0550\n",
      "Model weights saved at ../../../weights/ns/model.pth\n"
     ]
    },
    {
     "name": "stderr",
     "output_type": "stream",
     "text": [
      "\n",
      "Epoch 126/250: 100%|██████████| 133/133 [00:26<00:00,  4.98it/s, Batch Loss=0.262] "
     ]
    },
    {
     "name": "stdout",
     "output_type": "stream",
     "text": [
      "Epoch [126/250], Average Loss: 0.0551\n",
      "Model weights saved at ../../../weights/ns/model.pth\n"
     ]
    },
    {
     "name": "stderr",
     "output_type": "stream",
     "text": [
      "\n",
      "Epoch 127/250: 100%|██████████| 133/133 [00:26<00:00,  4.98it/s, Batch Loss=0.26]  "
     ]
    },
    {
     "name": "stdout",
     "output_type": "stream",
     "text": [
      "Epoch [127/250], Average Loss: 0.0548\n",
      "Model weights saved at ../../../weights/ns/model.pth\n"
     ]
    },
    {
     "name": "stderr",
     "output_type": "stream",
     "text": [
      "\n",
      "Epoch 128/250: 100%|██████████| 133/133 [00:26<00:00,  4.99it/s, Batch Loss=0.258] "
     ]
    },
    {
     "name": "stdout",
     "output_type": "stream",
     "text": [
      "Epoch [128/250], Average Loss: 0.0550\n",
      "Model weights saved at ../../../weights/ns/model.pth\n"
     ]
    },
    {
     "name": "stderr",
     "output_type": "stream",
     "text": [
      "\n",
      "Epoch 129/250: 100%|██████████| 133/133 [00:26<00:00,  5.02it/s, Batch Loss=0.255] "
     ]
    },
    {
     "name": "stdout",
     "output_type": "stream",
     "text": [
      "Epoch [129/250], Average Loss: 0.0546\n",
      "Model weights saved at ../../../weights/ns/model.pth\n"
     ]
    },
    {
     "name": "stderr",
     "output_type": "stream",
     "text": [
      "\n",
      "Epoch 130/250: 100%|██████████| 133/133 [00:26<00:00,  5.03it/s, Batch Loss=0.251] "
     ]
    },
    {
     "name": "stdout",
     "output_type": "stream",
     "text": [
      "Epoch [130/250], Average Loss: 0.0545\n",
      "Model weights saved at ../../../weights/ns/model.pth\n"
     ]
    },
    {
     "name": "stderr",
     "output_type": "stream",
     "text": [
      "\n",
      "Epoch 131/250: 100%|██████████| 133/133 [00:26<00:00,  5.01it/s, Batch Loss=0.247] "
     ]
    },
    {
     "name": "stdout",
     "output_type": "stream",
     "text": [
      "Epoch [131/250], Average Loss: 0.0543\n",
      "Model weights saved at ../../../weights/ns/model.pth\n"
     ]
    },
    {
     "name": "stderr",
     "output_type": "stream",
     "text": [
      "\n",
      "Epoch 132/250: 100%|██████████| 133/133 [00:26<00:00,  4.98it/s, Batch Loss=0.242] "
     ]
    },
    {
     "name": "stdout",
     "output_type": "stream",
     "text": [
      "Epoch [132/250], Average Loss: 0.0543\n",
      "Model weights saved at ../../../weights/ns/model.pth\n"
     ]
    },
    {
     "name": "stderr",
     "output_type": "stream",
     "text": [
      "\n",
      "Epoch 133/250: 100%|██████████| 133/133 [00:26<00:00,  5.02it/s, Batch Loss=0.235] "
     ]
    },
    {
     "name": "stdout",
     "output_type": "stream",
     "text": [
      "Epoch [133/250], Average Loss: 0.0538\n",
      "Model weights saved at ../../../weights/ns/model.pth\n"
     ]
    },
    {
     "name": "stderr",
     "output_type": "stream",
     "text": [
      "\n",
      "Epoch 134/250: 100%|██████████| 133/133 [00:26<00:00,  5.01it/s, Batch Loss=0.228] "
     ]
    },
    {
     "name": "stdout",
     "output_type": "stream",
     "text": [
      "Epoch [134/250], Average Loss: 0.0537\n",
      "Model weights saved at ../../../weights/ns/model.pth\n"
     ]
    },
    {
     "name": "stderr",
     "output_type": "stream",
     "text": [
      "\n",
      "Epoch 135/250: 100%|██████████| 133/133 [00:26<00:00,  5.02it/s, Batch Loss=0.221]  "
     ]
    },
    {
     "name": "stdout",
     "output_type": "stream",
     "text": [
      "Epoch [135/250], Average Loss: 0.0531\n",
      "Model weights saved at ../../../weights/ns/model.pth\n"
     ]
    },
    {
     "name": "stderr",
     "output_type": "stream",
     "text": [
      "\n",
      "Epoch 136/250: 100%|██████████| 133/133 [00:26<00:00,  4.98it/s, Batch Loss=0.221]  "
     ]
    },
    {
     "name": "stdout",
     "output_type": "stream",
     "text": [
      "Epoch [136/250], Average Loss: 0.0530\n",
      "Model weights saved at ../../../weights/ns/model.pth\n"
     ]
    },
    {
     "name": "stderr",
     "output_type": "stream",
     "text": [
      "\n",
      "Epoch 137/250: 100%|██████████| 133/133 [00:26<00:00,  5.02it/s, Batch Loss=0.223]  "
     ]
    },
    {
     "name": "stdout",
     "output_type": "stream",
     "text": [
      "Epoch [137/250], Average Loss: 0.0527\n",
      "Model weights saved at ../../../weights/ns/model.pth\n"
     ]
    },
    {
     "name": "stderr",
     "output_type": "stream",
     "text": [
      "\n",
      "Epoch 138/250: 100%|██████████| 133/133 [00:26<00:00,  4.99it/s, Batch Loss=0.225]  "
     ]
    },
    {
     "name": "stdout",
     "output_type": "stream",
     "text": [
      "Epoch [138/250], Average Loss: 0.0527\n",
      "Model weights saved at ../../../weights/ns/model.pth\n"
     ]
    },
    {
     "name": "stderr",
     "output_type": "stream",
     "text": [
      "\n",
      "Epoch 139/250: 100%|██████████| 133/133 [00:26<00:00,  4.98it/s, Batch Loss=0.226]  "
     ]
    },
    {
     "name": "stdout",
     "output_type": "stream",
     "text": [
      "Epoch [139/250], Average Loss: 0.0521\n",
      "Model weights saved at ../../../weights/ns/model.pth\n"
     ]
    },
    {
     "name": "stderr",
     "output_type": "stream",
     "text": [
      "\n",
      "Epoch 140/250: 100%|██████████| 133/133 [00:26<00:00,  5.02it/s, Batch Loss=0.224]  "
     ]
    },
    {
     "name": "stdout",
     "output_type": "stream",
     "text": [
      "Epoch [140/250], Average Loss: 0.0519\n",
      "Model weights saved at ../../../weights/ns/model.pth\n"
     ]
    },
    {
     "name": "stderr",
     "output_type": "stream",
     "text": [
      "\n",
      "Epoch 141/250: 100%|██████████| 133/133 [00:26<00:00,  4.98it/s, Batch Loss=0.219]  "
     ]
    },
    {
     "name": "stdout",
     "output_type": "stream",
     "text": [
      "Epoch [141/250], Average Loss: 0.0511\n",
      "Model weights saved at ../../../weights/ns/model.pth\n"
     ]
    },
    {
     "name": "stderr",
     "output_type": "stream",
     "text": [
      "\n",
      "Epoch 142/250: 100%|██████████| 133/133 [00:26<00:00,  4.99it/s, Batch Loss=0.215]  "
     ]
    },
    {
     "name": "stdout",
     "output_type": "stream",
     "text": [
      "Epoch [142/250], Average Loss: 0.0506\n",
      "Model weights saved at ../../../weights/ns/model.pth\n"
     ]
    },
    {
     "name": "stderr",
     "output_type": "stream",
     "text": [
      "\n",
      "Epoch 143/250: 100%|██████████| 133/133 [00:26<00:00,  5.02it/s, Batch Loss=0.21]   "
     ]
    },
    {
     "name": "stdout",
     "output_type": "stream",
     "text": [
      "Epoch [143/250], Average Loss: 0.0503\n",
      "Model weights saved at ../../../weights/ns/model.pth\n"
     ]
    },
    {
     "name": "stderr",
     "output_type": "stream",
     "text": [
      "\n",
      "Epoch 144/250: 100%|██████████| 133/133 [00:26<00:00,  5.01it/s, Batch Loss=0.206]  "
     ]
    },
    {
     "name": "stdout",
     "output_type": "stream",
     "text": [
      "Epoch [144/250], Average Loss: 0.0496\n",
      "Model weights saved at ../../../weights/ns/model.pth\n"
     ]
    },
    {
     "name": "stderr",
     "output_type": "stream",
     "text": [
      "\n",
      "Epoch 145/250: 100%|██████████| 133/133 [00:26<00:00,  5.02it/s, Batch Loss=0.201]  "
     ]
    },
    {
     "name": "stdout",
     "output_type": "stream",
     "text": [
      "Epoch [145/250], Average Loss: 0.0492\n",
      "Model weights saved at ../../../weights/ns/model.pth\n"
     ]
    },
    {
     "name": "stderr",
     "output_type": "stream",
     "text": [
      "\n",
      "Epoch 146/250: 100%|██████████| 133/133 [00:26<00:00,  5.02it/s, Batch Loss=0.197]  "
     ]
    },
    {
     "name": "stdout",
     "output_type": "stream",
     "text": [
      "Epoch [146/250], Average Loss: 0.0490\n",
      "Model weights saved at ../../../weights/ns/model.pth\n"
     ]
    },
    {
     "name": "stderr",
     "output_type": "stream",
     "text": [
      "\n",
      "Epoch 147/250: 100%|██████████| 133/133 [00:26<00:00,  5.02it/s, Batch Loss=0.195]  "
     ]
    },
    {
     "name": "stdout",
     "output_type": "stream",
     "text": [
      "Epoch [147/250], Average Loss: 0.0485\n",
      "Model weights saved at ../../../weights/ns/model.pth\n"
     ]
    },
    {
     "name": "stderr",
     "output_type": "stream",
     "text": [
      "\n",
      "Epoch 148/250: 100%|██████████| 133/133 [00:26<00:00,  4.98it/s, Batch Loss=0.191]  "
     ]
    },
    {
     "name": "stdout",
     "output_type": "stream",
     "text": [
      "Epoch [148/250], Average Loss: 0.0481\n",
      "Model weights saved at ../../../weights/ns/model.pth\n"
     ]
    },
    {
     "name": "stderr",
     "output_type": "stream",
     "text": [
      "\n",
      "Epoch 149/250: 100%|██████████| 133/133 [00:26<00:00,  5.04it/s, Batch Loss=0.189]  "
     ]
    },
    {
     "name": "stdout",
     "output_type": "stream",
     "text": [
      "Epoch [149/250], Average Loss: 0.0480\n",
      "Model weights saved at ../../../weights/ns/model.pth\n"
     ]
    },
    {
     "name": "stderr",
     "output_type": "stream",
     "text": [
      "\n",
      "Epoch 150/250: 100%|██████████| 133/133 [00:26<00:00,  5.00it/s, Batch Loss=0.182]  "
     ]
    },
    {
     "name": "stdout",
     "output_type": "stream",
     "text": [
      "Epoch [150/250], Average Loss: 0.0472\n",
      "Model weights saved at ../../../weights/ns/model.pth\n"
     ]
    },
    {
     "name": "stderr",
     "output_type": "stream",
     "text": [
      "\n",
      "Epoch 151/250: 100%|██████████| 133/133 [00:26<00:00,  5.02it/s, Batch Loss=0.179]  "
     ]
    },
    {
     "name": "stdout",
     "output_type": "stream",
     "text": [
      "Epoch [151/250], Average Loss: 0.0472\n",
      "Model weights saved at ../../../weights/ns/model.pth\n"
     ]
    },
    {
     "name": "stderr",
     "output_type": "stream",
     "text": [
      "\n",
      "Epoch 152/250: 100%|██████████| 133/133 [00:26<00:00,  5.01it/s, Batch Loss=0.176]  "
     ]
    },
    {
     "name": "stdout",
     "output_type": "stream",
     "text": [
      "Epoch [152/250], Average Loss: 0.0465\n",
      "Model weights saved at ../../../weights/ns/model.pth\n"
     ]
    },
    {
     "name": "stderr",
     "output_type": "stream",
     "text": [
      "\n",
      "Epoch 153/250: 100%|██████████| 133/133 [00:26<00:00,  5.02it/s, Batch Loss=0.174]  "
     ]
    },
    {
     "name": "stdout",
     "output_type": "stream",
     "text": [
      "Epoch [153/250], Average Loss: 0.0465\n",
      "Model weights saved at ../../../weights/ns/model.pth\n"
     ]
    },
    {
     "name": "stderr",
     "output_type": "stream",
     "text": [
      "\n",
      "Epoch 154/250: 100%|██████████| 133/133 [00:26<00:00,  4.98it/s, Batch Loss=0.171]  "
     ]
    },
    {
     "name": "stdout",
     "output_type": "stream",
     "text": [
      "Epoch [154/250], Average Loss: 0.0464\n",
      "Model weights saved at ../../../weights/ns/model.pth\n"
     ]
    },
    {
     "name": "stderr",
     "output_type": "stream",
     "text": [
      "\n",
      "Epoch 155/250: 100%|██████████| 133/133 [00:26<00:00,  5.02it/s, Batch Loss=0.169]  "
     ]
    },
    {
     "name": "stdout",
     "output_type": "stream",
     "text": [
      "Epoch [155/250], Average Loss: 0.0460\n",
      "Model weights saved at ../../../weights/ns/model.pth\n"
     ]
    },
    {
     "name": "stderr",
     "output_type": "stream",
     "text": [
      "\n",
      "Epoch 156/250: 100%|██████████| 133/133 [00:26<00:00,  4.99it/s, Batch Loss=0.166]  "
     ]
    },
    {
     "name": "stdout",
     "output_type": "stream",
     "text": [
      "Epoch [156/250], Average Loss: 0.0459\n",
      "Model weights saved at ../../../weights/ns/model.pth\n"
     ]
    },
    {
     "name": "stderr",
     "output_type": "stream",
     "text": [
      "\n",
      "Epoch 157/250: 100%|██████████| 133/133 [00:26<00:00,  5.02it/s, Batch Loss=0.165]  "
     ]
    },
    {
     "name": "stdout",
     "output_type": "stream",
     "text": [
      "Epoch [157/250], Average Loss: 0.0457\n",
      "Model weights saved at ../../../weights/ns/model.pth\n"
     ]
    },
    {
     "name": "stderr",
     "output_type": "stream",
     "text": [
      "\n",
      "Epoch 158/250: 100%|██████████| 133/133 [00:26<00:00,  5.01it/s, Batch Loss=0.163] "
     ]
    },
    {
     "name": "stdout",
     "output_type": "stream",
     "text": [
      "Epoch [158/250], Average Loss: 0.0456\n",
      "Model weights saved at ../../../weights/ns/model.pth\n"
     ]
    },
    {
     "name": "stderr",
     "output_type": "stream",
     "text": [
      "\n",
      "Epoch 159/250: 100%|██████████| 133/133 [00:26<00:00,  4.99it/s, Batch Loss=0.161]  "
     ]
    },
    {
     "name": "stdout",
     "output_type": "stream",
     "text": [
      "Epoch [159/250], Average Loss: 0.0454\n",
      "Model weights saved at ../../../weights/ns/model.pth\n"
     ]
    },
    {
     "name": "stderr",
     "output_type": "stream",
     "text": [
      "\n",
      "Epoch 160/250: 100%|██████████| 133/133 [00:26<00:00,  5.02it/s, Batch Loss=0.16]  "
     ]
    },
    {
     "name": "stdout",
     "output_type": "stream",
     "text": [
      "Epoch [160/250], Average Loss: 0.0452\n",
      "Model weights saved at ../../../weights/ns/model.pth\n"
     ]
    },
    {
     "name": "stderr",
     "output_type": "stream",
     "text": [
      "\n",
      "Epoch 161/250: 100%|██████████| 133/133 [00:26<00:00,  5.02it/s, Batch Loss=0.159]  "
     ]
    },
    {
     "name": "stdout",
     "output_type": "stream",
     "text": [
      "Epoch [161/250], Average Loss: 0.0452\n",
      "Model weights saved at ../../../weights/ns/model.pth\n"
     ]
    },
    {
     "name": "stderr",
     "output_type": "stream",
     "text": [
      "\n",
      "Epoch 162/250: 100%|██████████| 133/133 [00:26<00:00,  4.98it/s, Batch Loss=0.157]  "
     ]
    },
    {
     "name": "stdout",
     "output_type": "stream",
     "text": [
      "Epoch [162/250], Average Loss: 0.0450\n",
      "Model weights saved at ../../../weights/ns/model.pth\n"
     ]
    },
    {
     "name": "stderr",
     "output_type": "stream",
     "text": [
      "\n",
      "Epoch 163/250: 100%|██████████| 133/133 [00:26<00:00,  4.98it/s, Batch Loss=0.156]  "
     ]
    },
    {
     "name": "stdout",
     "output_type": "stream",
     "text": [
      "Epoch [163/250], Average Loss: 0.0448\n",
      "Model weights saved at ../../../weights/ns/model.pth\n"
     ]
    },
    {
     "name": "stderr",
     "output_type": "stream",
     "text": [
      "\n",
      "Epoch 164/250: 100%|██████████| 133/133 [00:26<00:00,  5.05it/s, Batch Loss=0.155]  "
     ]
    },
    {
     "name": "stdout",
     "output_type": "stream",
     "text": [
      "Epoch [164/250], Average Loss: 0.0446\n",
      "Model weights saved at ../../../weights/ns/model.pth\n"
     ]
    },
    {
     "name": "stderr",
     "output_type": "stream",
     "text": [
      "\n",
      "Epoch 165/250: 100%|██████████| 133/133 [00:26<00:00,  4.99it/s, Batch Loss=0.154]  "
     ]
    },
    {
     "name": "stdout",
     "output_type": "stream",
     "text": [
      "Epoch [165/250], Average Loss: 0.0447\n",
      "Model weights saved at ../../../weights/ns/model.pth\n"
     ]
    },
    {
     "name": "stderr",
     "output_type": "stream",
     "text": [
      "\n",
      "Epoch 166/250: 100%|██████████| 133/133 [00:26<00:00,  5.02it/s, Batch Loss=0.153]  "
     ]
    },
    {
     "name": "stdout",
     "output_type": "stream",
     "text": [
      "Epoch [166/250], Average Loss: 0.0446\n",
      "Model weights saved at ../../../weights/ns/model.pth\n"
     ]
    },
    {
     "name": "stderr",
     "output_type": "stream",
     "text": [
      "\n",
      "Epoch 167/250: 100%|██████████| 133/133 [00:26<00:00,  5.02it/s, Batch Loss=0.152]  "
     ]
    },
    {
     "name": "stdout",
     "output_type": "stream",
     "text": [
      "Epoch [167/250], Average Loss: 0.0444\n",
      "Model weights saved at ../../../weights/ns/model.pth\n"
     ]
    },
    {
     "name": "stderr",
     "output_type": "stream",
     "text": [
      "\n",
      "Epoch 168/250: 100%|██████████| 133/133 [00:26<00:00,  4.99it/s, Batch Loss=0.152]  "
     ]
    },
    {
     "name": "stdout",
     "output_type": "stream",
     "text": [
      "Epoch [168/250], Average Loss: 0.0444\n",
      "Model weights saved at ../../../weights/ns/model.pth\n"
     ]
    },
    {
     "name": "stderr",
     "output_type": "stream",
     "text": [
      "\n",
      "Epoch 169/250: 100%|██████████| 133/133 [00:26<00:00,  5.02it/s, Batch Loss=0.151]  "
     ]
    },
    {
     "name": "stdout",
     "output_type": "stream",
     "text": [
      "Epoch [169/250], Average Loss: 0.0443\n",
      "Model weights saved at ../../../weights/ns/model.pth\n"
     ]
    },
    {
     "name": "stderr",
     "output_type": "stream",
     "text": [
      "\n",
      "Epoch 170/250: 100%|██████████| 133/133 [00:26<00:00,  5.01it/s, Batch Loss=0.15]   "
     ]
    },
    {
     "name": "stdout",
     "output_type": "stream",
     "text": [
      "Epoch [170/250], Average Loss: 0.0440\n",
      "Model weights saved at ../../../weights/ns/model.pth\n"
     ]
    },
    {
     "name": "stderr",
     "output_type": "stream",
     "text": [
      "\n",
      "Epoch 171/250: 100%|██████████| 133/133 [00:26<00:00,  4.98it/s, Batch Loss=0.149]  "
     ]
    },
    {
     "name": "stdout",
     "output_type": "stream",
     "text": [
      "Epoch [171/250], Average Loss: 0.0440\n",
      "Model weights saved at ../../../weights/ns/model.pth\n"
     ]
    },
    {
     "name": "stderr",
     "output_type": "stream",
     "text": [
      "\n",
      "Epoch 172/250: 100%|██████████| 133/133 [00:26<00:00,  5.02it/s, Batch Loss=0.148]  "
     ]
    },
    {
     "name": "stdout",
     "output_type": "stream",
     "text": [
      "Epoch [172/250], Average Loss: 0.0438\n",
      "Model weights saved at ../../../weights/ns/model.pth\n"
     ]
    },
    {
     "name": "stderr",
     "output_type": "stream",
     "text": [
      "\n",
      "Epoch 173/250: 100%|██████████| 133/133 [00:26<00:00,  5.02it/s, Batch Loss=0.148]  "
     ]
    },
    {
     "name": "stdout",
     "output_type": "stream",
     "text": [
      "Epoch [173/250], Average Loss: 0.0438\n",
      "Model weights saved at ../../../weights/ns/model.pth\n"
     ]
    },
    {
     "name": "stderr",
     "output_type": "stream",
     "text": [
      "\n",
      "Epoch 174/250: 100%|██████████| 133/133 [00:26<00:00,  5.02it/s, Batch Loss=0.147] "
     ]
    },
    {
     "name": "stdout",
     "output_type": "stream",
     "text": [
      "Epoch [174/250], Average Loss: 0.0436\n",
      "Model weights saved at ../../../weights/ns/model.pth\n"
     ]
    },
    {
     "name": "stderr",
     "output_type": "stream",
     "text": [
      "\n",
      "Epoch 175/250: 100%|██████████| 133/133 [00:26<00:00,  5.02it/s, Batch Loss=0.146]  "
     ]
    },
    {
     "name": "stdout",
     "output_type": "stream",
     "text": [
      "Epoch [175/250], Average Loss: 0.0435\n",
      "Model weights saved at ../../../weights/ns/model.pth\n"
     ]
    },
    {
     "name": "stderr",
     "output_type": "stream",
     "text": [
      "\n",
      "Epoch 176/250: 100%|██████████| 133/133 [00:26<00:00,  5.02it/s, Batch Loss=0.144]  "
     ]
    },
    {
     "name": "stdout",
     "output_type": "stream",
     "text": [
      "Epoch [176/250], Average Loss: 0.0433\n",
      "Model weights saved at ../../../weights/ns/model.pth\n"
     ]
    },
    {
     "name": "stderr",
     "output_type": "stream",
     "text": [
      "\n",
      "Epoch 177/250: 100%|██████████| 133/133 [00:26<00:00,  5.02it/s, Batch Loss=0.143]  "
     ]
    },
    {
     "name": "stdout",
     "output_type": "stream",
     "text": [
      "Epoch [177/250], Average Loss: 0.0432\n",
      "Model weights saved at ../../../weights/ns/model.pth\n"
     ]
    },
    {
     "name": "stderr",
     "output_type": "stream",
     "text": [
      "\n",
      "Epoch 178/250: 100%|██████████| 133/133 [00:26<00:00,  5.06it/s, Batch Loss=0.142]  "
     ]
    },
    {
     "name": "stdout",
     "output_type": "stream",
     "text": [
      "Epoch [178/250], Average Loss: 0.0430\n",
      "Model weights saved at ../../../weights/ns/model.pth\n"
     ]
    },
    {
     "name": "stderr",
     "output_type": "stream",
     "text": [
      "\n",
      "Epoch 179/250: 100%|██████████| 133/133 [00:26<00:00,  4.98it/s, Batch Loss=0.141]  "
     ]
    },
    {
     "name": "stdout",
     "output_type": "stream",
     "text": [
      "Epoch [179/250], Average Loss: 0.0429\n",
      "Model weights saved at ../../../weights/ns/model.pth\n"
     ]
    },
    {
     "name": "stderr",
     "output_type": "stream",
     "text": [
      "\n",
      "Epoch 180/250: 100%|██████████| 133/133 [00:26<00:00,  4.98it/s, Batch Loss=0.139]  "
     ]
    },
    {
     "name": "stdout",
     "output_type": "stream",
     "text": [
      "Epoch [180/250], Average Loss: 0.0430\n",
      "Model weights saved at ../../../weights/ns/model.pth\n"
     ]
    },
    {
     "name": "stderr",
     "output_type": "stream",
     "text": [
      "\n",
      "Epoch 181/250: 100%|██████████| 133/133 [00:26<00:00,  4.98it/s, Batch Loss=0.136]  "
     ]
    },
    {
     "name": "stdout",
     "output_type": "stream",
     "text": [
      "Epoch [181/250], Average Loss: 0.0424\n",
      "Model weights saved at ../../../weights/ns/model.pth\n"
     ]
    },
    {
     "name": "stderr",
     "output_type": "stream",
     "text": [
      "\n",
      "Epoch 182/250: 100%|██████████| 133/133 [00:26<00:00,  4.98it/s, Batch Loss=0.132]  "
     ]
    },
    {
     "name": "stdout",
     "output_type": "stream",
     "text": [
      "Epoch [182/250], Average Loss: 0.0421\n",
      "Model weights saved at ../../../weights/ns/model.pth\n"
     ]
    },
    {
     "name": "stderr",
     "output_type": "stream",
     "text": [
      "\n",
      "Epoch 183/250: 100%|██████████| 133/133 [00:26<00:00,  5.02it/s, Batch Loss=0.131]  "
     ]
    },
    {
     "name": "stdout",
     "output_type": "stream",
     "text": [
      "Epoch [183/250], Average Loss: 0.0421\n",
      "Model weights saved at ../../../weights/ns/model.pth\n"
     ]
    },
    {
     "name": "stderr",
     "output_type": "stream",
     "text": [
      "\n",
      "Epoch 184/250: 100%|██████████| 133/133 [00:26<00:00,  5.02it/s, Batch Loss=0.134]  "
     ]
    },
    {
     "name": "stdout",
     "output_type": "stream",
     "text": [
      "Epoch [184/250], Average Loss: 0.0418\n",
      "Model weights saved at ../../../weights/ns/model.pth\n"
     ]
    },
    {
     "name": "stderr",
     "output_type": "stream",
     "text": [
      "\n",
      "Epoch 185/250: 100%|██████████| 133/133 [00:26<00:00,  4.98it/s, Batch Loss=0.128]  "
     ]
    },
    {
     "name": "stdout",
     "output_type": "stream",
     "text": [
      "Epoch [185/250], Average Loss: 0.0415\n",
      "Model weights saved at ../../../weights/ns/model.pth\n"
     ]
    },
    {
     "name": "stderr",
     "output_type": "stream",
     "text": [
      "\n",
      "Epoch 186/250: 100%|██████████| 133/133 [00:26<00:00,  5.02it/s, Batch Loss=0.147]  "
     ]
    },
    {
     "name": "stdout",
     "output_type": "stream",
     "text": [
      "Epoch [186/250], Average Loss: 0.0423\n",
      "Model weights saved at ../../../weights/ns/model.pth\n"
     ]
    },
    {
     "name": "stderr",
     "output_type": "stream",
     "text": [
      "\n",
      "Epoch 187/250: 100%|██████████| 133/133 [00:26<00:00,  5.02it/s, Batch Loss=0.124]  "
     ]
    },
    {
     "name": "stdout",
     "output_type": "stream",
     "text": [
      "Epoch [187/250], Average Loss: 0.0414\n",
      "Model weights saved at ../../../weights/ns/model.pth\n"
     ]
    },
    {
     "name": "stderr",
     "output_type": "stream",
     "text": [
      "\n",
      "Epoch 188/250: 100%|██████████| 133/133 [00:26<00:00,  5.02it/s, Batch Loss=0.148]  "
     ]
    },
    {
     "name": "stdout",
     "output_type": "stream",
     "text": [
      "Epoch [188/250], Average Loss: 0.0422\n",
      "Model weights saved at ../../../weights/ns/model.pth\n"
     ]
    },
    {
     "name": "stderr",
     "output_type": "stream",
     "text": [
      "\n",
      "Epoch 189/250: 100%|██████████| 133/133 [00:26<00:00,  5.02it/s, Batch Loss=0.121]  "
     ]
    },
    {
     "name": "stdout",
     "output_type": "stream",
     "text": [
      "Epoch [189/250], Average Loss: 0.0412\n",
      "Model weights saved at ../../../weights/ns/model.pth\n"
     ]
    },
    {
     "name": "stderr",
     "output_type": "stream",
     "text": [
      "\n",
      "Epoch 190/250: 100%|██████████| 133/133 [00:26<00:00,  5.02it/s, Batch Loss=0.15]   "
     ]
    },
    {
     "name": "stdout",
     "output_type": "stream",
     "text": [
      "Epoch [190/250], Average Loss: 0.0422\n",
      "Model weights saved at ../../../weights/ns/model.pth\n"
     ]
    },
    {
     "name": "stderr",
     "output_type": "stream",
     "text": [
      "\n",
      "Epoch 191/250: 100%|██████████| 133/133 [00:26<00:00,  5.02it/s, Batch Loss=0.13]   "
     ]
    },
    {
     "name": "stdout",
     "output_type": "stream",
     "text": [
      "Epoch [191/250], Average Loss: 0.0415\n",
      "Model weights saved at ../../../weights/ns/model.pth\n"
     ]
    },
    {
     "name": "stderr",
     "output_type": "stream",
     "text": [
      "\n",
      "Epoch 192/250: 100%|██████████| 133/133 [00:26<00:00,  4.99it/s, Batch Loss=0.132]  "
     ]
    },
    {
     "name": "stdout",
     "output_type": "stream",
     "text": [
      "Epoch [192/250], Average Loss: 0.0410\n",
      "Model weights saved at ../../../weights/ns/model.pth\n"
     ]
    },
    {
     "name": "stderr",
     "output_type": "stream",
     "text": [
      "\n",
      "Epoch 193/250: 100%|██████████| 133/133 [00:26<00:00,  4.98it/s, Batch Loss=0.124]  "
     ]
    },
    {
     "name": "stdout",
     "output_type": "stream",
     "text": [
      "Epoch [193/250], Average Loss: 0.0408\n",
      "Model weights saved at ../../../weights/ns/model.pth\n"
     ]
    },
    {
     "name": "stderr",
     "output_type": "stream",
     "text": [
      "\n",
      "Epoch 194/250: 100%|██████████| 133/133 [00:26<00:00,  5.02it/s, Batch Loss=0.151]  "
     ]
    },
    {
     "name": "stdout",
     "output_type": "stream",
     "text": [
      "Epoch [194/250], Average Loss: 0.0418\n",
      "Model weights saved at ../../../weights/ns/model.pth\n"
     ]
    },
    {
     "name": "stderr",
     "output_type": "stream",
     "text": [
      "\n",
      "Epoch 195/250: 100%|██████████| 133/133 [00:26<00:00,  5.02it/s, Batch Loss=0.143]  "
     ]
    },
    {
     "name": "stdout",
     "output_type": "stream",
     "text": [
      "Epoch [195/250], Average Loss: 0.0418\n",
      "Model weights saved at ../../../weights/ns/model.pth\n"
     ]
    },
    {
     "name": "stderr",
     "output_type": "stream",
     "text": [
      "\n",
      "Epoch 196/250: 100%|██████████| 133/133 [00:26<00:00,  5.02it/s, Batch Loss=0.114] "
     ]
    },
    {
     "name": "stdout",
     "output_type": "stream",
     "text": [
      "Epoch [196/250], Average Loss: 0.0402\n",
      "Model weights saved at ../../../weights/ns/model.pth\n"
     ]
    },
    {
     "name": "stderr",
     "output_type": "stream",
     "text": [
      "\n",
      "Epoch 197/250: 100%|██████████| 133/133 [00:26<00:00,  4.99it/s, Batch Loss=0.153]  "
     ]
    },
    {
     "name": "stdout",
     "output_type": "stream",
     "text": [
      "Epoch [197/250], Average Loss: 0.0417\n",
      "Model weights saved at ../../../weights/ns/model.pth\n"
     ]
    },
    {
     "name": "stderr",
     "output_type": "stream",
     "text": [
      "\n",
      "Epoch 198/250: 100%|██████████| 133/133 [00:26<00:00,  5.00it/s, Batch Loss=0.151]  "
     ]
    },
    {
     "name": "stdout",
     "output_type": "stream",
     "text": [
      "Epoch [198/250], Average Loss: 0.0421\n",
      "Model weights saved at ../../../weights/ns/model.pth\n"
     ]
    },
    {
     "name": "stderr",
     "output_type": "stream",
     "text": [
      "\n",
      "Epoch 199/250: 100%|██████████| 133/133 [00:26<00:00,  5.04it/s, Batch Loss=0.151]  "
     ]
    },
    {
     "name": "stdout",
     "output_type": "stream",
     "text": [
      "Epoch [199/250], Average Loss: 0.0416\n",
      "Model weights saved at ../../../weights/ns/model.pth\n"
     ]
    },
    {
     "name": "stderr",
     "output_type": "stream",
     "text": [
      "\n",
      "Epoch 200/250: 100%|██████████| 133/133 [00:26<00:00,  4.99it/s, Batch Loss=0.151]  "
     ]
    },
    {
     "name": "stdout",
     "output_type": "stream",
     "text": [
      "Epoch [200/250], Average Loss: 0.0415\n",
      "Model weights saved at ../../../weights/ns/model.pth\n"
     ]
    },
    {
     "name": "stderr",
     "output_type": "stream",
     "text": [
      "\n",
      "Epoch 201/250: 100%|██████████| 133/133 [00:26<00:00,  5.03it/s, Batch Loss=0.153]  "
     ]
    },
    {
     "name": "stdout",
     "output_type": "stream",
     "text": [
      "Epoch [201/250], Average Loss: 0.0417\n",
      "Model weights saved at ../../../weights/ns/model.pth\n"
     ]
    },
    {
     "name": "stderr",
     "output_type": "stream",
     "text": [
      "\n",
      "Epoch 202/250: 100%|██████████| 133/133 [00:26<00:00,  5.02it/s, Batch Loss=0.15]   "
     ]
    },
    {
     "name": "stdout",
     "output_type": "stream",
     "text": [
      "Epoch [202/250], Average Loss: 0.0412\n",
      "Model weights saved at ../../../weights/ns/model.pth\n"
     ]
    },
    {
     "name": "stderr",
     "output_type": "stream",
     "text": [
      "\n",
      "Epoch 203/250: 100%|██████████| 133/133 [00:26<00:00,  5.01it/s, Batch Loss=0.151]  "
     ]
    },
    {
     "name": "stdout",
     "output_type": "stream",
     "text": [
      "Epoch [203/250], Average Loss: 0.0415\n",
      "Model weights saved at ../../../weights/ns/model.pth\n"
     ]
    },
    {
     "name": "stderr",
     "output_type": "stream",
     "text": [
      "\n",
      "Epoch 204/250: 100%|██████████| 133/133 [00:26<00:00,  4.98it/s, Batch Loss=0.148]  "
     ]
    },
    {
     "name": "stdout",
     "output_type": "stream",
     "text": [
      "Epoch [204/250], Average Loss: 0.0409\n",
      "Model weights saved at ../../../weights/ns/model.pth\n"
     ]
    },
    {
     "name": "stderr",
     "output_type": "stream",
     "text": [
      "\n",
      "Epoch 205/250: 100%|██████████| 133/133 [00:26<00:00,  4.98it/s, Batch Loss=0.151]  "
     ]
    },
    {
     "name": "stdout",
     "output_type": "stream",
     "text": [
      "Epoch [205/250], Average Loss: 0.0408\n",
      "Model weights saved at ../../../weights/ns/model.pth\n"
     ]
    },
    {
     "name": "stderr",
     "output_type": "stream",
     "text": [
      "\n",
      "Epoch 206/250: 100%|██████████| 133/133 [00:26<00:00,  4.98it/s, Batch Loss=0.152]  "
     ]
    },
    {
     "name": "stdout",
     "output_type": "stream",
     "text": [
      "Epoch [206/250], Average Loss: 0.0409\n",
      "Model weights saved at ../../../weights/ns/model.pth\n"
     ]
    },
    {
     "name": "stderr",
     "output_type": "stream",
     "text": [
      "\n",
      "Epoch 207/250: 100%|██████████| 133/133 [00:26<00:00,  4.98it/s, Batch Loss=0.148]  "
     ]
    },
    {
     "name": "stdout",
     "output_type": "stream",
     "text": [
      "Epoch [207/250], Average Loss: 0.0407\n",
      "Model weights saved at ../../../weights/ns/model.pth\n"
     ]
    },
    {
     "name": "stderr",
     "output_type": "stream",
     "text": [
      "\n",
      "Epoch 208/250: 100%|██████████| 133/133 [00:26<00:00,  4.98it/s, Batch Loss=0.146]  "
     ]
    },
    {
     "name": "stdout",
     "output_type": "stream",
     "text": [
      "Epoch [208/250], Average Loss: 0.0404\n",
      "Model weights saved at ../../../weights/ns/model.pth\n"
     ]
    },
    {
     "name": "stderr",
     "output_type": "stream",
     "text": [
      "\n",
      "Epoch 209/250: 100%|██████████| 133/133 [00:26<00:00,  4.98it/s, Batch Loss=0.15]   "
     ]
    },
    {
     "name": "stdout",
     "output_type": "stream",
     "text": [
      "Epoch [209/250], Average Loss: 0.0405\n",
      "Model weights saved at ../../../weights/ns/model.pth\n"
     ]
    },
    {
     "name": "stderr",
     "output_type": "stream",
     "text": [
      "\n",
      "Epoch 210/250: 100%|██████████| 133/133 [00:26<00:00,  5.02it/s, Batch Loss=0.145]  "
     ]
    },
    {
     "name": "stdout",
     "output_type": "stream",
     "text": [
      "Epoch [210/250], Average Loss: 0.0401\n",
      "Model weights saved at ../../../weights/ns/model.pth\n"
     ]
    },
    {
     "name": "stderr",
     "output_type": "stream",
     "text": [
      "\n",
      "Epoch 211/250: 100%|██████████| 133/133 [00:26<00:00,  4.99it/s, Batch Loss=0.148]  "
     ]
    },
    {
     "name": "stdout",
     "output_type": "stream",
     "text": [
      "Epoch [211/250], Average Loss: 0.0403\n",
      "Model weights saved at ../../../weights/ns/model.pth\n"
     ]
    },
    {
     "name": "stderr",
     "output_type": "stream",
     "text": [
      "\n",
      "Epoch 212/250: 100%|██████████| 133/133 [00:26<00:00,  5.02it/s, Batch Loss=0.141]  "
     ]
    },
    {
     "name": "stdout",
     "output_type": "stream",
     "text": [
      "Epoch [212/250], Average Loss: 0.0399\n",
      "Model weights saved at ../../../weights/ns/model.pth\n"
     ]
    },
    {
     "name": "stderr",
     "output_type": "stream",
     "text": [
      "\n",
      "Epoch 213/250: 100%|██████████| 133/133 [00:26<00:00,  5.02it/s, Batch Loss=0.144]  "
     ]
    },
    {
     "name": "stdout",
     "output_type": "stream",
     "text": [
      "Epoch [213/250], Average Loss: 0.0397\n",
      "Model weights saved at ../../../weights/ns/model.pth\n"
     ]
    },
    {
     "name": "stderr",
     "output_type": "stream",
     "text": [
      "\n",
      "Epoch 214/250: 100%|██████████| 133/133 [00:26<00:00,  4.99it/s, Batch Loss=0.144]  "
     ]
    },
    {
     "name": "stdout",
     "output_type": "stream",
     "text": [
      "Epoch [214/250], Average Loss: 0.0398\n",
      "Model weights saved at ../../../weights/ns/model.pth\n"
     ]
    },
    {
     "name": "stderr",
     "output_type": "stream",
     "text": [
      "\n",
      "Epoch 215/250: 100%|██████████| 133/133 [00:26<00:00,  5.02it/s, Batch Loss=0.149]  "
     ]
    },
    {
     "name": "stdout",
     "output_type": "stream",
     "text": [
      "Epoch [215/250], Average Loss: 0.0399\n",
      "Model weights saved at ../../../weights/ns/model.pth\n"
     ]
    },
    {
     "name": "stderr",
     "output_type": "stream",
     "text": [
      "\n",
      "Epoch 216/250: 100%|██████████| 133/133 [00:26<00:00,  5.00it/s, Batch Loss=0.14]   "
     ]
    },
    {
     "name": "stdout",
     "output_type": "stream",
     "text": [
      "Epoch [216/250], Average Loss: 0.0397\n",
      "Model weights saved at ../../../weights/ns/model.pth\n"
     ]
    },
    {
     "name": "stderr",
     "output_type": "stream",
     "text": [
      "\n",
      "Epoch 217/250: 100%|██████████| 133/133 [00:26<00:00,  5.04it/s, Batch Loss=0.143]  "
     ]
    },
    {
     "name": "stdout",
     "output_type": "stream",
     "text": [
      "Epoch [217/250], Average Loss: 0.0393\n",
      "Model weights saved at ../../../weights/ns/model.pth\n"
     ]
    },
    {
     "name": "stderr",
     "output_type": "stream",
     "text": [
      "\n",
      "Epoch 218/250: 100%|██████████| 133/133 [00:26<00:00,  4.98it/s, Batch Loss=0.14]   "
     ]
    },
    {
     "name": "stdout",
     "output_type": "stream",
     "text": [
      "Epoch [218/250], Average Loss: 0.0394\n",
      "Model weights saved at ../../../weights/ns/model.pth\n"
     ]
    },
    {
     "name": "stderr",
     "output_type": "stream",
     "text": [
      "\n",
      "Epoch 219/250: 100%|██████████| 133/133 [00:26<00:00,  5.01it/s, Batch Loss=0.136]  "
     ]
    },
    {
     "name": "stdout",
     "output_type": "stream",
     "text": [
      "Epoch [219/250], Average Loss: 0.0391\n",
      "Model weights saved at ../../../weights/ns/model.pth\n"
     ]
    },
    {
     "name": "stderr",
     "output_type": "stream",
     "text": [
      "\n",
      "Epoch 220/250: 100%|██████████| 133/133 [00:26<00:00,  4.99it/s, Batch Loss=0.137]  "
     ]
    },
    {
     "name": "stdout",
     "output_type": "stream",
     "text": [
      "Epoch [220/250], Average Loss: 0.0390\n",
      "Model weights saved at ../../../weights/ns/model.pth\n"
     ]
    },
    {
     "name": "stderr",
     "output_type": "stream",
     "text": [
      "\n",
      "Epoch 221/250: 100%|██████████| 133/133 [00:26<00:00,  5.02it/s, Batch Loss=0.139]  "
     ]
    },
    {
     "name": "stdout",
     "output_type": "stream",
     "text": [
      "Epoch [221/250], Average Loss: 0.0394\n",
      "Model weights saved at ../../../weights/ns/model.pth\n"
     ]
    },
    {
     "name": "stderr",
     "output_type": "stream",
     "text": [
      "\n",
      "Epoch 222/250: 100%|██████████| 133/133 [00:26<00:00,  5.01it/s, Batch Loss=0.137]  "
     ]
    },
    {
     "name": "stdout",
     "output_type": "stream",
     "text": [
      "Epoch [222/250], Average Loss: 0.0393\n",
      "Model weights saved at ../../../weights/ns/model.pth\n"
     ]
    },
    {
     "name": "stderr",
     "output_type": "stream",
     "text": [
      "\n",
      "Epoch 223/250: 100%|██████████| 133/133 [00:26<00:00,  5.02it/s, Batch Loss=0.134]  "
     ]
    },
    {
     "name": "stdout",
     "output_type": "stream",
     "text": [
      "Epoch [223/250], Average Loss: 0.0388\n",
      "Model weights saved at ../../../weights/ns/model.pth\n"
     ]
    },
    {
     "name": "stderr",
     "output_type": "stream",
     "text": [
      "\n",
      "Epoch 224/250: 100%|██████████| 133/133 [00:26<00:00,  4.99it/s, Batch Loss=0.142]  "
     ]
    },
    {
     "name": "stdout",
     "output_type": "stream",
     "text": [
      "Epoch [224/250], Average Loss: 0.0389\n",
      "Model weights saved at ../../../weights/ns/model.pth\n"
     ]
    },
    {
     "name": "stderr",
     "output_type": "stream",
     "text": [
      "\n",
      "Epoch 225/250: 100%|██████████| 133/133 [00:26<00:00,  5.01it/s, Batch Loss=0.142]  "
     ]
    },
    {
     "name": "stdout",
     "output_type": "stream",
     "text": [
      "Epoch [225/250], Average Loss: 0.0391\n",
      "Model weights saved at ../../../weights/ns/model.pth\n"
     ]
    },
    {
     "name": "stderr",
     "output_type": "stream",
     "text": [
      "\n",
      "Epoch 226/250: 100%|██████████| 133/133 [00:26<00:00,  4.99it/s, Batch Loss=0.138]  "
     ]
    },
    {
     "name": "stdout",
     "output_type": "stream",
     "text": [
      "Epoch [226/250], Average Loss: 0.0389\n",
      "Model weights saved at ../../../weights/ns/model.pth\n"
     ]
    },
    {
     "name": "stderr",
     "output_type": "stream",
     "text": [
      "\n",
      "Epoch 227/250: 100%|██████████| 133/133 [00:26<00:00,  5.02it/s, Batch Loss=0.135]  "
     ]
    },
    {
     "name": "stdout",
     "output_type": "stream",
     "text": [
      "Epoch [227/250], Average Loss: 0.0386\n",
      "Model weights saved at ../../../weights/ns/model.pth\n"
     ]
    },
    {
     "name": "stderr",
     "output_type": "stream",
     "text": [
      "\n",
      "Epoch 228/250: 100%|██████████| 133/133 [00:26<00:00,  5.02it/s, Batch Loss=0.133]  "
     ]
    },
    {
     "name": "stdout",
     "output_type": "stream",
     "text": [
      "Epoch [228/250], Average Loss: 0.0384\n",
      "Model weights saved at ../../../weights/ns/model.pth\n"
     ]
    },
    {
     "name": "stderr",
     "output_type": "stream",
     "text": [
      "\n",
      "Epoch 229/250: 100%|██████████| 133/133 [00:26<00:00,  5.02it/s, Batch Loss=0.142]  "
     ]
    },
    {
     "name": "stdout",
     "output_type": "stream",
     "text": [
      "Epoch [229/250], Average Loss: 0.0387\n",
      "Model weights saved at ../../../weights/ns/model.pth\n"
     ]
    },
    {
     "name": "stderr",
     "output_type": "stream",
     "text": [
      "\n",
      "Epoch 230/250: 100%|██████████| 133/133 [00:26<00:00,  4.98it/s, Batch Loss=0.139]  "
     ]
    },
    {
     "name": "stdout",
     "output_type": "stream",
     "text": [
      "Epoch [230/250], Average Loss: 0.0390\n",
      "Model weights saved at ../../../weights/ns/model.pth\n"
     ]
    },
    {
     "name": "stderr",
     "output_type": "stream",
     "text": [
      "\n",
      "Epoch 231/250: 100%|██████████| 133/133 [00:26<00:00,  5.06it/s, Batch Loss=0.138]  "
     ]
    },
    {
     "name": "stdout",
     "output_type": "stream",
     "text": [
      "Epoch [231/250], Average Loss: 0.0384\n",
      "Model weights saved at ../../../weights/ns/model.pth\n"
     ]
    },
    {
     "name": "stderr",
     "output_type": "stream",
     "text": [
      "\n",
      "Epoch 232/250: 100%|██████████| 133/133 [00:26<00:00,  4.98it/s, Batch Loss=0.131]  "
     ]
    },
    {
     "name": "stdout",
     "output_type": "stream",
     "text": [
      "Epoch [232/250], Average Loss: 0.0381\n",
      "Model weights saved at ../../../weights/ns/model.pth\n"
     ]
    },
    {
     "name": "stderr",
     "output_type": "stream",
     "text": [
      "\n",
      "Epoch 233/250: 100%|██████████| 133/133 [00:26<00:00,  5.01it/s, Batch Loss=0.141]  "
     ]
    },
    {
     "name": "stdout",
     "output_type": "stream",
     "text": [
      "Epoch [233/250], Average Loss: 0.0388\n",
      "Model weights saved at ../../../weights/ns/model.pth\n"
     ]
    },
    {
     "name": "stderr",
     "output_type": "stream",
     "text": [
      "\n",
      "Epoch 234/250: 100%|██████████| 133/133 [00:26<00:00,  4.98it/s, Batch Loss=0.14]   "
     ]
    },
    {
     "name": "stdout",
     "output_type": "stream",
     "text": [
      "Epoch [234/250], Average Loss: 0.0387\n",
      "Model weights saved at ../../../weights/ns/model.pth\n"
     ]
    },
    {
     "name": "stderr",
     "output_type": "stream",
     "text": [
      "\n",
      "Epoch 235/250: 100%|██████████| 133/133 [00:26<00:00,  4.98it/s, Batch Loss=0.137]  "
     ]
    },
    {
     "name": "stdout",
     "output_type": "stream",
     "text": [
      "Epoch [235/250], Average Loss: 0.0382\n",
      "Model weights saved at ../../../weights/ns/model.pth\n"
     ]
    },
    {
     "name": "stderr",
     "output_type": "stream",
     "text": [
      "\n",
      "Epoch 236/250: 100%|██████████| 133/133 [00:26<00:00,  4.98it/s, Batch Loss=0.134]  "
     ]
    },
    {
     "name": "stdout",
     "output_type": "stream",
     "text": [
      "Epoch [236/250], Average Loss: 0.0382\n",
      "Model weights saved at ../../../weights/ns/model.pth\n"
     ]
    },
    {
     "name": "stderr",
     "output_type": "stream",
     "text": [
      "\n",
      "Epoch 237/250: 100%|██████████| 133/133 [00:26<00:00,  4.98it/s, Batch Loss=0.135]  "
     ]
    },
    {
     "name": "stdout",
     "output_type": "stream",
     "text": [
      "Epoch [237/250], Average Loss: 0.0381\n",
      "Model weights saved at ../../../weights/ns/model.pth\n"
     ]
    },
    {
     "name": "stderr",
     "output_type": "stream",
     "text": [
      "\n",
      "Epoch 238/250: 100%|██████████| 133/133 [00:26<00:00,  4.98it/s, Batch Loss=0.136]  "
     ]
    },
    {
     "name": "stdout",
     "output_type": "stream",
     "text": [
      "Epoch [238/250], Average Loss: 0.0381\n",
      "Model weights saved at ../../../weights/ns/model.pth\n"
     ]
    },
    {
     "name": "stderr",
     "output_type": "stream",
     "text": [
      "\n",
      "Epoch 239/250: 100%|██████████| 133/133 [00:26<00:00,  5.02it/s, Batch Loss=0.139]  "
     ]
    },
    {
     "name": "stdout",
     "output_type": "stream",
     "text": [
      "Epoch [239/250], Average Loss: 0.0382\n",
      "Model weights saved at ../../../weights/ns/model.pth\n"
     ]
    },
    {
     "name": "stderr",
     "output_type": "stream",
     "text": [
      "\n",
      "Epoch 240/250: 100%|██████████| 133/133 [00:26<00:00,  4.98it/s, Batch Loss=0.13]   "
     ]
    },
    {
     "name": "stdout",
     "output_type": "stream",
     "text": [
      "Epoch [240/250], Average Loss: 0.0379\n",
      "Model weights saved at ../../../weights/ns/model.pth\n"
     ]
    },
    {
     "name": "stderr",
     "output_type": "stream",
     "text": [
      "\n",
      "Epoch 241/250: 100%|██████████| 133/133 [00:26<00:00,  4.98it/s, Batch Loss=0.138]  "
     ]
    },
    {
     "name": "stdout",
     "output_type": "stream",
     "text": [
      "Epoch [241/250], Average Loss: 0.0381\n",
      "Model weights saved at ../../../weights/ns/model.pth\n"
     ]
    },
    {
     "name": "stderr",
     "output_type": "stream",
     "text": [
      "\n",
      "Epoch 242/250: 100%|██████████| 133/133 [00:26<00:00,  4.98it/s, Batch Loss=0.139]  "
     ]
    },
    {
     "name": "stdout",
     "output_type": "stream",
     "text": [
      "Epoch [242/250], Average Loss: 0.0382\n",
      "Model weights saved at ../../../weights/ns/model.pth\n"
     ]
    },
    {
     "name": "stderr",
     "output_type": "stream",
     "text": [
      "\n",
      "Epoch 243/250: 100%|██████████| 133/133 [00:26<00:00,  4.98it/s, Batch Loss=0.132]  "
     ]
    },
    {
     "name": "stdout",
     "output_type": "stream",
     "text": [
      "Epoch [243/250], Average Loss: 0.0376\n",
      "Model weights saved at ../../../weights/ns/model.pth\n"
     ]
    },
    {
     "name": "stderr",
     "output_type": "stream",
     "text": [
      "\n",
      "Epoch 244/250: 100%|██████████| 133/133 [00:26<00:00,  4.99it/s, Batch Loss=0.136]  "
     ]
    },
    {
     "name": "stdout",
     "output_type": "stream",
     "text": [
      "Epoch [244/250], Average Loss: 0.0380\n",
      "Model weights saved at ../../../weights/ns/model.pth\n"
     ]
    },
    {
     "name": "stderr",
     "output_type": "stream",
     "text": [
      "\n",
      "Epoch 245/250: 100%|██████████| 133/133 [00:26<00:00,  4.98it/s, Batch Loss=0.134]  "
     ]
    },
    {
     "name": "stdout",
     "output_type": "stream",
     "text": [
      "Epoch [245/250], Average Loss: 0.0378\n",
      "Model weights saved at ../../../weights/ns/model.pth\n"
     ]
    },
    {
     "name": "stderr",
     "output_type": "stream",
     "text": [
      "\n",
      "Epoch 246/250: 100%|██████████| 133/133 [00:26<00:00,  4.98it/s, Batch Loss=0.133]  "
     ]
    },
    {
     "name": "stdout",
     "output_type": "stream",
     "text": [
      "Epoch [246/250], Average Loss: 0.0377\n",
      "Model weights saved at ../../../weights/ns/model.pth\n"
     ]
    },
    {
     "name": "stderr",
     "output_type": "stream",
     "text": [
      "\n",
      "Epoch 247/250: 100%|██████████| 133/133 [00:26<00:00,  5.06it/s, Batch Loss=0.134]  "
     ]
    },
    {
     "name": "stdout",
     "output_type": "stream",
     "text": [
      "Epoch [247/250], Average Loss: 0.0378\n",
      "Model weights saved at ../../../weights/ns/model.pth\n"
     ]
    },
    {
     "name": "stderr",
     "output_type": "stream",
     "text": [
      "\n",
      "Epoch 248/250: 100%|██████████| 133/133 [00:26<00:00,  5.02it/s, Batch Loss=0.135]  "
     ]
    },
    {
     "name": "stdout",
     "output_type": "stream",
     "text": [
      "Epoch [248/250], Average Loss: 0.0378\n",
      "Model weights saved at ../../../weights/ns/model.pth\n"
     ]
    },
    {
     "name": "stderr",
     "output_type": "stream",
     "text": [
      "\n",
      "Epoch 249/250: 100%|██████████| 133/133 [00:26<00:00,  5.04it/s, Batch Loss=0.138]  "
     ]
    },
    {
     "name": "stdout",
     "output_type": "stream",
     "text": [
      "Epoch [249/250], Average Loss: 0.0379\n",
      "Model weights saved at ../../../weights/ns/model.pth\n"
     ]
    },
    {
     "name": "stderr",
     "output_type": "stream",
     "text": [
      "\n",
      "Epoch 250/250: 100%|██████████| 133/133 [00:26<00:00,  5.07it/s, Batch Loss=0.132]  "
     ]
    },
    {
     "name": "stdout",
     "output_type": "stream",
     "text": [
      "Epoch [250/250], Average Loss: 0.0376\n",
      "Model weights saved at ../../../weights/ns/model.pth\n",
      "Training losses saved at ../../../weights/ns/training_losses.pkl\n"
     ]
    },
    {
     "name": "stderr",
     "output_type": "stream",
     "text": [
      "\n"
     ]
    }
   ],
   "source": [
    "from train import train_model\n",
    "\n",
    "# Example usage:\n",
    "train_model(\n",
    "    model,\n",
    "    train_loader,\n",
    "    criterion,\n",
    "    optimizer,\n",
    "    num_epochs=250,\n",
    "    save_dir=\"../../../weights/ns\",\n",
    "    app = \"ns\"\n",
    ")\n"
   ]
  },
  {
   "cell_type": "markdown",
   "metadata": {},
   "source": [
    "## Load the Model"
   ]
  },
  {
   "cell_type": "code",
   "execution_count": 14,
   "metadata": {
    "tags": []
   },
   "outputs": [
    {
     "name": "stdout",
     "output_type": "stream",
     "text": [
      "Loaded model weights from '/home/jtb3sud/hold/testnavier_stokes/model.pth'\n"
     ]
    }
   ],
   "source": [
    "from utilities.load import load_model_weights\n",
    "\n",
    "\n",
    "# Example Usage:\n",
    "device = torch.device(\"cuda\" if torch.cuda.is_available() else \"cpu\")\n",
    "model_weights_path = (\n",
    "    \"/home/jtb3sud/hold/testnavier_stokes/model.pth\"  # Replace with your path\n",
    ")\n",
    "model = load_model_weights(model, model_weights_path, device)"
   ]
  },
  {
   "cell_type": "markdown",
   "metadata": {},
   "source": [
    "## Create the Sequence DataLoader\n",
    "### This will contain the t=0 for each test file"
   ]
  },
  {
   "cell_type": "code",
   "execution_count": 11,
   "metadata": {
    "tags": []
   },
   "outputs": [
    {
     "name": "stderr",
     "output_type": "stream",
     "text": [
      "2024-10-16 14:39:15,051 [INFO] Starting data validation...\n",
      "2024-10-16 14:39:15,055 [INFO] Validating .npy files...\n",
      "Validating files: 100%|██████████| 8/8 [00:00<00:00, 336.25it/s]\n",
      "2024-10-16 14:39:15,083 [INFO] Data validation completed successfully.\n",
      "2024-10-16 14:39:15,084 [INFO] Validating timesteps in each file...\n",
      "Validating timesteps: 100%|██████████| 8/8 [00:00<00:00, 699.62it/s]\n"
     ]
    }
   ],
   "source": [
    "# Initialize the dataset\n",
    "future_steps = 10\n",
    "seq_dataset = InitialConditionDataset(\n",
    "    data_dirs=[data_dir_test],\n",
    "    future_steps=future_steps,\n",
    "    min_max_path=min_max_path,\n",
    ")\n",
    "\n",
    "# Create DataLoader for training dataset\n",
    "seq_loader = DataLoader(\n",
    "    seq_dataset,\n",
    "    batch_size=batch_size,\n",
    "    shuffle=False,\n",
    "    num_workers=1,\n",
    "    pin_memory=True,\n",
    "    collate_fn=initial_condition_collate_fn,\n",
    ")"
   ]
  },
  {
   "cell_type": "markdown",
   "metadata": {},
   "source": [
    "## Ground truth loader"
   ]
  },
  {
   "cell_type": "code",
   "execution_count": 12,
   "metadata": {
    "tags": []
   },
   "outputs": [
    {
     "name": "stderr",
     "output_type": "stream",
     "text": [
      "2024-10-16 14:39:15,103 [INFO] Starting data validation...\n",
      "2024-10-16 14:39:15,107 [INFO] Validating .npy files...\n",
      "Validating files: 100%|██████████| 8/8 [00:00<00:00, 630.11it/s]\n",
      "2024-10-16 14:39:15,124 [INFO] Data validation completed successfully.\n",
      "2024-10-16 14:39:15,125 [INFO] Preparing dataset samples...\n",
      "Listing samples: 100%|██████████| 8/8 [00:00<00:00, 761.79it/s]\n",
      "2024-10-16 14:39:15,139 [INFO] Total samples in dataset: 232\n"
     ]
    }
   ],
   "source": [
    "# Initialize the dataset\n",
    "gt_dataset = GenericPhysicsDataset(\n",
    "    data_dirs=[data_dir_test],\n",
    "    future_steps=future_steps,\n",
    "    min_max_path=min_max_path,\n",
    ")\n",
    "\n",
    "# Create DataLoader for training dataset\n",
    "gt_loader = DataLoader(\n",
    "    gt_dataset,\n",
    "    batch_size=batch_size,\n",
    "    shuffle=False,\n",
    "    num_workers=1,\n",
    "    pin_memory=True,\n",
    "    collate_fn=custom_collate_fn,\n",
    ")"
   ]
  },
  {
   "cell_type": "markdown",
   "metadata": {},
   "source": [
    "## Visualize the Results"
   ]
  },
  {
   "cell_type": "code",
   "execution_count": 13,
   "metadata": {
    "tags": []
   },
   "outputs": [
    {
     "name": "stdout",
     "output_type": "stream",
     "text": [
      "Predictions shape: torch.Size([10, 8, 4, 128, 256])\n",
      "Sample prediction for timestep 1: torch.Size([10, 4, 128, 256])\n",
      "GIF saved to comparison_batch0_pressure.gif\n",
      "GIF saved to comparison_batch0_Reynolds.gif\n",
      "GIF saved to comparison_batch0_u.gif\n",
      "GIF saved to comparison_batch0_v.gif\n"
     ]
    }
   ],
   "source": [
    "# Set the model to evaluation mode\n",
    "model.eval()\n",
    "\n",
    "# Define channel names and colormaps\n",
    "channels = [\"pressure\", \"Reynolds\", \"u\", \"v\"]  # Adjust as per your data\n",
    "cmaps = [\n",
    "    \"viridis\",\n",
    "    \"plasma\",\n",
    "    \"inferno\",\n",
    "    \"magma\",\n",
    "]  # Adjust as per your preference\n",
    "\n",
    "# Iterate through both DataLoaders simultaneously\n",
    "for seq_batch, test_batch in zip(seq_loader, gt_loader):\n",
    "    # Extract data from initial condition loader\n",
    "    ic, t0, t1, _ = (\n",
    "        seq_batch  # Shape: [batch_size, channels, height, width], scalar, tensor, _\n",
    "    )\n",
    "\n",
    "    # Extract data from ground truth loader\n",
    "    gt_ic, gt_t0, gt_t1, ground_truth = (\n",
    "        test_batch  # ground_truth shape: [timesteps, batch_size, channels, height, width]\n",
    "    )\n",
    "\n",
    "    # Move data to GPU if available\n",
    "    device = torch.device(\"cuda\" if torch.cuda.is_available() else \"cpu\")\n",
    "    ic = ic.to(device)\n",
    "    t0 = t0.to(device)\n",
    "    t1 = t1.to(device)\n",
    "    ground_truth = ground_truth.to(device)\n",
    "\n",
    "    # Make predictions using the model\n",
    "    with torch.no_grad():\n",
    "        predictions = model(\n",
    "            ic, t0, t1\n",
    "        )  # Shape: [future_steps, batch_size, channels, height, width]\n",
    "\n",
    "    print(\"Predictions shape:\", predictions.shape)\n",
    "    print(\n",
    "        \"Sample prediction for timestep 1:\", predictions[:, 0, :, :, :].shape\n",
    "    )\n",
    "\n",
    "    # If you want to visualize more samples in the batch, loop through batch indices\n",
    "    # For example, to visualize all samples in the batch:\n",
    "    for batch_idx in range(ic.size(0)):\n",
    "        save_gifs_with_ground_truth(\n",
    "            predictions=predictions,\n",
    "            ground_truth=ground_truth,\n",
    "            channels=channels,\n",
    "            cmaps=cmaps,\n",
    "            filename_prefix=f\"comparison_batch{batch_idx}\",\n",
    "            interval=0.2,\n",
    "            batch_idx=batch_idx,\n",
    "        )\n",
    "        break\n",
    "\n",
    "    break  # Remove this if you want to process the entire dataset"
   ]
  },
  {
   "cell_type": "code",
   "execution_count": null,
   "metadata": {},
   "outputs": [],
   "source": []
  },
  {
   "cell_type": "code",
   "execution_count": null,
   "metadata": {},
   "outputs": [],
   "source": []
  }
 ],
 "metadata": {
  "kernelspec": {
   "display_name": "PyTorch 2.4.0",
   "language": "python",
   "name": "pytorch-2.4.0"
  },
  "language_info": {
   "codemirror_mode": {
    "name": "ipython",
    "version": 3
   },
   "file_extension": ".py",
   "mimetype": "text/x-python",
   "name": "python",
   "nbconvert_exporter": "python",
   "pygments_lexer": "ipython3",
   "version": "3.10.12"
  }
 },
 "nbformat": 4,
 "nbformat_minor": 4
}
