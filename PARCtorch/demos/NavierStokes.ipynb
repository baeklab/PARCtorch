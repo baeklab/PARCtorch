{
 "cells": [
  {
   "cell_type": "markdown",
   "metadata": {},
   "source": [
    "<div style=\"display: flex; align-items: center;\">\n",
    "  <h1 style=\"font-size: 4.5em; margin-right: 15px;\">Physics Aware Recurrent Convolutional Neural Network (PARC): Navier-Stokes Demo</h1>\n",
    "  <div>\n",
    "    <img src=\"../misc/VIL_logo.png\" width=\"190\" alt=\"Image 1\" style=\"margin-right: 1px;\" />\n",
    "    <img src=\"../misc/uva.png\" width=\"190\" alt=\"Image 2\" style=\"margin-right: 1px;\" />\n",
    "    <img src=\"../misc/iowa.png\" width=\"190\" alt=\"Image 3\" />\n",
    "  </div>\n",
    "</div>\n",
    "<p>A customizable framework to embed physics in Deep Learning. PARC's formulation is inspired by Advection-Diffusion-Reaction processes and uses an Inductive Bias approach to constrain the Neural Network.</p>\n",
    "\n",
    "\n"
   ]
  },
  {
   "cell_type": "markdown",
   "metadata": {},
   "source": [
    "## Why PARC?\n",
    "<p>PARC brings together deep learning with first prinicples physics - its recurrent convolutional core is able to learn complex spatiotemporal patterns, while built-in biases (conservation laws & advection-diffusion operators) ensure every prediction is physically plausible. PARC is constructed in such a manner that is does not need to \"re-learn\" fundemental dynamics - allowing faster training with far less data.</p>\n",
    "\n",
    "<p>PINN (Physics-Informed Neural Networks) exists as an adjacent model to PARC. While PINN may preform decently on generics, it struggles with advection or chaotic/non-linear systems - net leading to higher computational cost. In such situations PARC is deemed the superior model with it being more scalable, efficient, and accurate than other physics-based models.</p>\n",
    "\n",
    "### Goal\n",
    "<p>The goal of this notebook is to walk you through the use cases of PARC via the Navier-Stokes equation. At the end of this notebook you will be presented with visualization in accordance to the equations representing conservation of momentum for fluids and fully describing fluid motion.</p>\n",
    "\n",
    "The notebook will guide you through from start to finish in preparing, training, and modeling a physics-based equation. The notebook will cover the following:\n",
    "\n",
    "- loading and preparinf data for Navier-Stokes\n",
    "- Using PARCv2 Model to learn and predict time evolution of $u(x,t)$\n",
    "- Evaluating the model's preformance and compare predicted resutls to ground truth\n",
    "\n",
    "### Internal General PARC PDE\n",
    "<p>Below is the general form of the partial differential equation that PARCv2 is learning - and its inital boundaries. In the case of the Navier-Stokes equations - we can describe the certain vairables to represent the nessearcy points in which PARC tries to model after the equation.</p>\n",
    "\n",
    "$$\n",
    "\\frac{\\partial X}{\\partial t} = f(X,\\mu) + \\epsilon\n",
    "$$\n",
    "\n",
    "- $X$ is the fields of interest - Temperature, Pressure, Reynolds, Velocities (U & V)\n",
    "- $μ$ is the microstructure\n",
    "\n",
    "\n",
    "### Setting Up\n",
    "<p>This document serves as a guide to training a PARC model for the Navier-Stokes equation. Here are the inital steps to take before you begin training your PARC model!<p>\n",
    "\n",
    "Download & Prepare Data:\n",
    "- Download the data from https://zenodo.org/records/13909869 and unzip it.\n",
    "- Extact the data and ensure that it placed in the following directory: PARCtorch/PARCtorch/data\n",
    "- If needed update the paths in the notebook accordlingly (for train_dir, test_dir)\n",
    "\n",
    "Install PARCtorch:\n",
    "- Ensure PARCtorch is installed in your Python Environemnt - view instructions on installation at: https://github.com/baeklab/PARCtorch\n",
    "- Note: Ensure to be in the same environemnt/kernel when continuing in this notebook.\n",
    "\n",
    "Happy Modeling!"
   ]
  },
  {
   "cell_type": "markdown",
   "metadata": {},
   "source": [
    "## Compute Data Normalization\n",
    "<p>In this first step we preform min-max normalization - <code>compute_min_max</code> is used to calculate all minimum and maximum values across all provided datasets. This is an important step as normalization improves the predictive accuracy of the model by making sure data falls within a standardized numerical range.</p>\n",
    "\n",
    "<p>After running this cell the file <strong>ns_min_max.json</strong> will contain parameters to consistently scale data during training and prediction.</p>"
   ]
  },
  {
   "cell_type": "code",
   "execution_count": null,
   "metadata": {},
   "outputs": [],
   "source": [
    "from pathlib import Path\n",
    "from PARCtorch.data.normalization import compute_min_max\n",
    "\n",
    "# Define data directories\n",
    "train_dir = Path(\"../data/navier_stokes/train\")\n",
    "test_dir = Path(\"../data/navier_stokes/test\")\n",
    "min_max_file = train_dir.parent / \"ns_min_max.json\"\n",
    "\n",
    "compute_min_max([train_dir, test_dir], min_max_file)"
   ]
  },
  {
   "cell_type": "markdown",
   "metadata": {},
   "source": [
    "## Data Loader for Training\n",
    "<p> We next create a <strong>DataLoader</strong> for training. The DataLoader in PyTorch is a crucial utility that facilitates efficient data handling for training and evaluating machine learning models. It abstracts the process of fetching, batching, and shuffling data, ensuring that the model is fed with properly formatted inputs in an optimal way. Specifically, it helps with:</p>\n",
    "\n",
    "<ul>\n",
    "    <li><strong>Batching:</strong> Splitting large datasets into smaller, manageable batches to avoid memory overload and enable parallel processing.</li>\n",
    "    <li><strong>Shuffling:</strong> Randomly ordering data to prevent the model from learning patterns related to the sequence of data (particularly important in training to reduce overfitting).</li>\n",
    "    <li><strong>Parallel Loading:</strong> It allows the data to be loaded asynchronously using multiple workers, speeding up the training process by loading the next batch while the current one is being processed by the model.</li>\n",
    "    <li><strong>Custom Collation:</strong> The <code>collate_fn</code> allows customization of how batches are combined, which is essential for complex datasets that require specific handling.</li>\n",
    "</ul>\n"
   ]
  },
  {
   "cell_type": "code",
   "execution_count": null,
   "metadata": {
    "tags": []
   },
   "outputs": [],
   "source": [
    "# Now import the utilities\n",
    "import torch\n",
    "from torch.utils.data import DataLoader\n",
    "\n",
    "# Now import the utilities\n",
    "from PARCtorch.data.dataset import (\n",
    "    GenericPhysicsDataset,\n",
    "    custom_collate_fn,\n",
    "    InitialConditionDataset,\n",
    "    initial_condition_collate_fn,\n",
    ")\n",
    "from PARCtorch.utilities.viz import (\n",
    "    visualize_channels,\n",
    "    save_gifs_with_ground_truth,\n",
    ")\n",
    "future_steps = 1\n",
    "batch_size = 8\n",
    "\n",
    "# Initialize the dataset\n",
    "train_dataset = GenericPhysicsDataset(\n",
    "    data_dirs=[train_dir],\n",
    "    future_steps=future_steps,\n",
    "    min_max_path=min_max_file,\n",
    ")\n",
    "\n",
    "# Create DataLoader for training dataset\n",
    "train_loader = DataLoader(\n",
    "    train_dataset,\n",
    "    batch_size=batch_size,\n",
    "    shuffle=False,\n",
    "    num_workers=1,\n",
    "    pin_memory=True,\n",
    "    collate_fn=custom_collate_fn,\n",
    ")"
   ]
  },
  {
   "cell_type": "markdown",
   "metadata": {},
   "source": [
    "## Visualize the Data - Check it was Loaded Properly\n",
    "<p> We are now going to visualize our data to verify if the correct data is loading and formatting. In the cell below we are iterating over the previously defined DataLoader and fetching one batch of data. The batch is then split up into the following variables:</p>\n",
    "\n",
    "<ul>\n",
    "    <li><code>ic</code>: Inital conditions - the initial state of the physical system</li>\n",
    "    <li><code>t0</code>: Starting time-step </li>\n",
    "    <li><code>t1</code>: Ending time-step </li>\n",
    "    <li><code>target</code>: Ground truth future states</li>\n",
    "</ul>\n",
    "\n",
    "\n"
   ]
  },
  {
   "cell_type": "code",
   "execution_count": null,
   "metadata": {},
   "outputs": [],
   "source": [
    "# Fetch a batch and visualize\n",
    "for batch in train_loader:\n",
    "    ic, t0, t1, target = batch\n",
    "    channel_names = [\n",
    "        \"Pressure (P)\",\n",
    "        \"Reynolds (R)\",\n",
    "        \"Velocity U\",\n",
    "        \"Velocity V\",\n",
    "    ]\n",
    "    custom_cmaps = [\"seismic\", \"seismic\", \"seismic\", \"seismic\"]\n",
    "\n",
    "    visualize_channels(\n",
    "        ic,\n",
    "        t0,\n",
    "        t1,\n",
    "        target,\n",
    "        channel_names=channel_names,\n",
    "        channel_cmaps=custom_cmaps,\n",
    "    )\n",
    "    break  # Visualize one batch for now"
   ]
  },
  {
   "cell_type": "markdown",
   "metadata": {},
   "source": [
    "<h2>Build Your PARC Model</h2>\n",
    "<p>In this section, we are constructing a <strong>PARCv2 model</strong>, which is designed to handle spatiotemporal data, such as fluid dynamics simulations. The model leverages various components, including <em>differentiators</em> and <em>integrators</em>, to solve physical equations like Navier-Stokes.</p>\n",
    "\n",
    "<p><strong>Key Components:</strong></p>\n",
    "<ul>\n",
    "    <li><strong>UNet:</strong> The UNet architecture is used for feature extraction, transforming the input data into a higher-dimensional representation. This helps the model capture complex patterns in the physical simulation data.</li>\n",
    "    <li><strong>FiniteDifference:</strong> This differentiator approximates the gradients (or derivatives) of the input data using a finite difference method, which is important for calculating advection and diffusion processes in fluid dynamics.</li>\n",
    "    <li><strong>Heun Integrator:</strong> Heun’s method is an improved version of Euler's method, used here to integrate the equations of motion more accurately over time.</li>\n",
    "    <li><strong>Differentiator:</strong> This module calculates the advection and diffusion terms based on specific channel indices, such as velocity in the x and y directions (u and v).</li>\n",
    "    <li><strong>Integrator:</strong> The integrator applies Heun’s method to combine the differentiated terms and solve the Poisson equation, ensuring the physical constraints of the system are respected.</li>\n",
    "</ul>\n",
    "\n",
    "<p>The model is then wrapped into the <strong>PARCv2</strong> class, which combines the differentiator, integrator, and loss function (<code>L1Loss</code>). Finally, an <code>Adam</code> optimizer is initialized to train the model by adjusting its parameters to minimize the error between predictions and ground truth data.</p>\n",
    "\n",
    "<p>This setup allows the model to learn how to predict future states in complex physical systems by embedding domain-specific knowledge.</p>\n"
   ]
  },
  {
   "cell_type": "code",
   "execution_count": 5,
   "metadata": {
    "tags": []
   },
   "outputs": [],
   "source": [
    "import sys\n",
    "\n",
    "sys.path.append(\"../../\")"
   ]
  },
  {
   "cell_type": "code",
   "execution_count": 6,
   "metadata": {
    "tags": []
   },
   "outputs": [],
   "source": [
    "from PARCtorch.PARCv2 import PARCv2\n",
    "from PARCtorch.differentiator.differentiator import ADRDifferentiator\n",
    "from PARCtorch.differentiator.finitedifference import FiniteDifference\n",
    "from PARCtorch.integrator.integrator import Integrator\n",
    "from PARCtorch.integrator.heun import Heun\n",
    "from PARCtorch.utilities.unet import UNet\n",
    "\n",
    "from torch.optim import Adam"
   ]
  },
  {
   "cell_type": "code",
   "execution_count": 7,
   "metadata": {
    "tags": []
   },
   "outputs": [],
   "source": [
    "# Defining Navier-Stokes variables:\n",
    "# p = pressure, re = Reynolds number, u = velocity in x-direction, v = velocity in y-direction\n",
    "# Advection (Adv) and Diffusion (Dif) will be calculated on u, v\n",
    "# Poisson equation (Poi) will be calculated on pressure (p)\n",
    "\n",
    "n_fe_features = 128  # Number of features extracted by the UNet\n",
    "\n",
    "# Initialize the UNet architecture for feature extraction\n",
    "unet_ns = UNet(\n",
    "    [64, 64 * 2, 64 * 4, 64 * 8, 64 * 16],  \n",
    "    4,  \n",
    "    n_fe_features,  \n",
    "    up_block_use_concat=[False, True, False, True],  \n",
    "    skip_connection_indices=[2, 0],  \n",
    ")\n",
    "\n",
    "# Initialize finite difference method for numerical differentiation\n",
    "right_diff = FiniteDifference(padding_mode=\"replicate\").cuda()  # Use replication padding to handle boundary conditions\n",
    "\n",
    "# Initialize Heun's method for numerical integration\n",
    "heun_int = Heun().cuda() \n",
    "\n",
    "# Create the Differentiator, responsible for calculating advection and diffusion\n",
    "diff_ns = ADRDifferentiator(\n",
    "    2,  \n",
    "    n_fe_features,  \n",
    "    [2, 3],  \n",
    "    [2, 3],  \n",
    "    unet_ns,  \n",
    "    \"constant\",  \n",
    "    right_diff,  \n",
    "    False \n",
    ").cuda()\n",
    "\n",
    "# Create the Integrator, responsible for solving the Poisson equation and performing integration\n",
    "ns_int = Integrator(\n",
    "    True,  \n",
    "    [(0, 2, 3, 1)],  \n",
    "    heun_int,  \n",
    "    [None, None, None, None],  \n",
    "    \"constant\",  \n",
    "    right_diff,  \n",
    ").cuda()\n",
    "\n",
    "# Define the loss function (L1 Loss is typically used for regression tasks)\n",
    "criterion = torch.nn.L1Loss().cuda()\n",
    "\n",
    "# Initialize the PARCv2 model with the differentiator, integrator, and loss function\n",
    "model = PARCv2(diff_ns, ns_int, criterion).cuda()\n",
    "\n",
    "# Set up the optimizer (Adam is a popular choice for adaptive learning rate optimization)\n",
    "optimizer = Adam(model.parameters(), lr=1e-5)  \n"
   ]
  },
  {
   "cell_type": "markdown",
   "metadata": {},
   "source": [
    "## Train the Model \n",
    "<p>Now, we will be training the PARC model using the training data and the paramaters we have setup above. Here we iterate over the dataset given by <code>train_loader</code> batch-by-batch and in each iteration we: </p>\n",
    "\n",
    "<ul>\n",
    "    <li>Compute model predictions</li>\n",
    "    <li>Calculate error loss between predictions and ground truth values via the <code>criterion</code> loss function </li>\n",
    "    <li>Update the model parameters based on error via the <code>optimizer</code></li>\n",
    "</ul>\n",
    "\n"
   ]
  },
  {
   "cell_type": "code",
   "execution_count": null,
   "metadata": {
    "tags": []
   },
   "outputs": [],
   "source": [
    "from PARCtorch.train import train_model\n",
    "\n",
    "# Example usage:\n",
    "train_model(\n",
    "    model,\n",
    "    train_loader,\n",
    "    criterion,\n",
    "    optimizer,\n",
    "    num_epochs=1,\n",
    "    save_dir=train_dir.parent,\n",
    "    app=\"ns\",\n",
    ")\n"
   ]
  },
  {
   "cell_type": "markdown",
   "metadata": {},
   "source": [
    "## Load the Model\n",
    "<p> Post training, we can now load the previously trained model weights into our PARC model for evalutation. Here, we locate the model weights and load them into the exisiting PARC model architecture in order to prep for visualization.</p>"
   ]
  },
  {
   "cell_type": "code",
   "execution_count": null,
   "metadata": {
    "tags": []
   },
   "outputs": [],
   "source": [
    "from PARCtorch.utilities.load import load_model_weights\n",
    "\n",
    "# Example Usage:\n",
    "device = torch.device(\"cuda\" if torch.cuda.is_available() else \"cpu\")\n",
    "model_weights_path = (\n",
    "    train_dir.parent / \"model.pth\"  # Replace with your path\n",
    ")\n",
    "model = load_model_weights(model, model_weights_path, device)"
   ]
  },
  {
   "cell_type": "markdown",
   "metadata": {},
   "source": [
    "## Sequence DataLoader\n",
    "<p>We now create a sequence DataLoader designed to test the dataset - providing the initial conditions as <code>t=0</code> for generating predictiond over multiple timesteps. Using <code>DataLoader</code> we wrap the dataset for efficent batching and processing.</p>\n",
    "\n",
    "<p>We also create the Initial Condition Dataset, which loades the initial state for the physical system, the previously computed normalization parameters, and prepares the dataset to be fed into the model. We also "
   ]
  },
  {
   "cell_type": "code",
   "execution_count": null,
   "metadata": {},
   "outputs": [],
   "source": [
    "# Initialize the dataset\n",
    "future_steps = 10\n",
    "seq_dataset = InitialConditionDataset(\n",
    "    data_dirs=[test_dir],\n",
    "    future_steps=future_steps,\n",
    "    min_max_path=min_max_file,\n",
    ")\n",
    "\n",
    "# Create DataLoader for training dataset\n",
    "seq_loader = DataLoader(\n",
    "    seq_dataset,\n",
    "    batch_size=batch_size,\n",
    "    shuffle=False,\n",
    "    num_workers=1,\n",
    "    pin_memory=True,\n",
    "    collate_fn=initial_condition_collate_fn,\n",
    ")"
   ]
  },
  {
   "cell_type": "markdown",
   "metadata": {},
   "source": [
    "## Ground Truth Loader\n",
    "<p>Here, we set up the Ground Truth Loader to provide a comparison of the actual future states of the system against the models predictions. Similar set up to previous <code>DataLoader</code> setups in this notebook.</p>"
   ]
  },
  {
   "cell_type": "code",
   "execution_count": null,
   "metadata": {
    "tags": []
   },
   "outputs": [],
   "source": [
    "# Initialize the dataset\n",
    "gt_dataset = GenericPhysicsDataset(\n",
    "    data_dirs=[test_dir],\n",
    "    future_steps=future_steps,\n",
    "    min_max_path=min_max_file,\n",
    ")\n",
    "\n",
    "# Create DataLoader for training dataset\n",
    "gt_loader = DataLoader(\n",
    "    gt_dataset,\n",
    "    batch_size=batch_size,\n",
    "    shuffle=False,\n",
    "    num_workers=1,\n",
    "    pin_memory=True,\n",
    "    collate_fn=custom_collate_fn,\n",
    ")"
   ]
  },
  {
   "cell_type": "markdown",
   "metadata": {},
   "source": [
    "## Visualize the Results\n",
    "<p> We now finially visualize our results. Here, we run inferences using thr trained PARC model's predictions against the ground truth. Visualization gifs of the predictions and ground truth are outputted - just runs on the first batch for demo.</p>"
   ]
  },
  {
   "cell_type": "code",
   "execution_count": null,
   "metadata": {
    "tags": []
   },
   "outputs": [],
   "source": [
    "# Set the model to evaluation mode\n",
    "model.eval()\n",
    "\n",
    "# Define channel names and colormaps\n",
    "channels = [\"pressure\", \"Reynolds\", \"u\", \"v\"]  # Adjust as per your data\n",
    "cmaps = [\n",
    "    \"viridis\",\n",
    "    \"plasma\",\n",
    "    \"inferno\",\n",
    "    \"magma\",\n",
    "]  # Adjust as per your preference\n",
    "\n",
    "# Iterate through both DataLoaders simultaneously\n",
    "for seq_batch, test_batch in zip(seq_loader, gt_loader):\n",
    "    # Extract data from initial condition loader\n",
    "    ic, t0, t1, _ = (\n",
    "        seq_batch  # Shape: [batch_size, channels, height, width], scalar, tensor, _\n",
    "    )\n",
    "\n",
    "    # Extract data from ground truth loader\n",
    "    gt_ic, gt_t0, gt_t1, ground_truth = (\n",
    "        test_batch  # ground_truth shape: [timesteps, batch_size, channels, height, width]\n",
    "    )\n",
    "\n",
    "    # Move data to GPU if available\n",
    "    device = torch.device(\"cuda\" if torch.cuda.is_available() else \"cpu\")\n",
    "    ic = ic.to(device)\n",
    "    t0 = t0.to(device)\n",
    "    t1 = t1.to(device)\n",
    "    ground_truth = ground_truth.to(device)\n",
    "\n",
    "    # Make predictions using the model\n",
    "    with torch.no_grad():\n",
    "        predictions = model(\n",
    "            ic, t0, t1\n",
    "        )  # Shape: [future_steps, batch_size, channels, height, width]\n",
    "\n",
    "    print(\"Predictions shape:\", predictions.shape)\n",
    "    print(\n",
    "        \"Sample prediction for timestep 1:\", predictions[:, 0, :, :, :].shape\n",
    "    )\n",
    "\n",
    "    # If you want to visualize more samples in the batch, loop through batch indices\n",
    "    # For example, to visualize all samples in the batch:\n",
    "    for batch_idx in range(ic.size(0)):\n",
    "        save_gifs_with_ground_truth(\n",
    "            predictions=predictions,\n",
    "            ground_truth=ground_truth,\n",
    "            channels=channels,\n",
    "            cmaps=cmaps,\n",
    "            filename_prefix=f\"comparison_batch{batch_idx}\",\n",
    "            interval=0.2,\n",
    "            batch_idx=batch_idx,\n",
    "        )\n",
    "        break\n",
    "\n",
    "    break  # Remove this if you want to process the entire dataset"
   ]
  }
 ],
 "metadata": {
  "kernelspec": {
   "display_name": "Python 3 (ipykernel)",
   "language": "python",
   "name": "python3"
  },
  "language_info": {
   "codemirror_mode": {
    "name": "ipython",
    "version": 3
   },
   "file_extension": ".py",
   "mimetype": "text/x-python",
   "name": "python",
   "nbconvert_exporter": "python",
   "pygments_lexer": "ipython3",
   "version": "3.13.2"
  }
 },
 "nbformat": 4,
 "nbformat_minor": 4
}
