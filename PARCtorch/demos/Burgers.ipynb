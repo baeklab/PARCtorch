{
 "cells": [
  {
   "cell_type": "markdown",
   "id": "f092708b-9bef-4f4e-b5c7-9140ae1293b4",
   "metadata": {
    "id": "f092708b-9bef-4f4e-b5c7-9140ae1293b4"
   },
   "source": [
    "<div style=\"display: flex; align-items: center;\">\n",
    "    <h1 style=\"font-size: 3em; margin-right: 15px;\">\n",
    "        Physics Aware Recurrent Convolutional Neural Network (PARC): Burgers Equation Demo\n",
    "    </h1>\n",
    "    <div>\n",
    "        <img src=\"../misc/VIL_logo.png\" width=\"120\" alt=\"Image 1\" style=\"margin-right: 5px;\" />\n",
    "        <img src=\"../misc/uva.png\" width=\"120\" alt=\"Image 2\" style=\"margin-right: 5px;\" />\n",
    "        <img src=\"../misc/iowa.png\" width=\"120\" alt=\"Image 3\" />\n",
    "    </div>\n",
    "</div>\n",
    "\n",
    "<p>\n",
    "A customizable framework to embed physics in Deep Learning.\n",
    "PARC's formulation is inspired by Advection-Diffusion-Reaction processes and uses an Inductive Bias approach to constrain the Neural Network.\n",
    "</p>\n"
   ]
  },
  {
   "cell_type": "markdown",
   "id": "b1f21d2e-9f86-44eb-bab1-e9a3f655a177",
   "metadata": {
    "tags": []
   },
   "source": [
    "## PARC's internal general form of Partial Differential Equation\n",
    "Below is the general form of the partial differential equation that PARCv2 is learning - and its initial boundaries. In the case of the Burgers equation, we can describe the certain variables to represent the necessary points in which PARC tries to model after the equation\n",
    "$$\n",
    "\\frac{\\partial X}{\\partial t} = f(X, \\mu) + \\epsilon\n",
    "$$\n",
    "\n",
    "- $X$ is the fields of interest - Temperature, Pressure, Reynolds, Velocities (U & V), for Burgers equation it could be a single scalar field such as fluid velocity $u(x, t)$\n",
    "- $μ$ is the microstructure - the fixed parameters or material properties that influence the dynamics of the equation but does not change in time"
   ]
  },
  {
   "cell_type": "markdown",
   "id": "13425e0d",
   "metadata": {},
   "source": [
    "## Modeling Burgers' Equation with PARC\n",
    "\n",
    "This example notebook aims to demonstrate a live-action of predicting the time evolution of a single-dimension velocity field of the viscous Burgers' equation using the PARC Neural Network. The goal is to model the nonlinear transport and diffusion dynamics in a spatial and time context with learned approximateions of the physics-based derivatives instead of using traditional numerical approach (i.e. finite difference)\n",
    "\n",
    "The notebook will guide you through from start to finish in preparing, training, and modeling the physics-based equation's prediction results. The notebook primarily covers three sections:\n",
    "- loading and preparing the data for Burgers' Equation\n",
    "- Using the PARC Model to learn and predict the time evolution of $u(x, t)$\n",
    "- Evaluating the model's performance and compare predicted results to ground truth"
   ]
  },
  {
   "cell_type": "markdown",
   "id": "fb0f9d1b",
   "metadata": {},
   "source": [
    "## What is the Burger's Equation?"
   ]
  },
  {
   "cell_type": "markdown",
   "id": "91724b00",
   "metadata": {},
   "source": [
    "The Burgers' Equation is a fundamental partial differential equation (PDE) that is used to model the combined effects of nonlinear advection and viscous diffusion. It was first introduced as a simplified model of the Navier-Stokes equations (the governing equations for fluid motion) with fewer variable complexities (i.e. no pressure variables). It became one of the earliest equations used to model shock wave formation, turbulence, and nonlinear wave behavior in fluid dynamics. "
   ]
  },
  {
   "cell_type": "markdown",
   "id": "01214762",
   "metadata": {},
   "source": [
    "$$\n",
    "\\frac{\\partial u}{\\partial t} + u \\frac{\\partial u}{\\partial x} = \\nu \\frac{\\partial^2 u}{\\partial x^2}\n",
    "$$"
   ]
  },
  {
   "cell_type": "markdown",
   "id": "0d303ff9",
   "metadata": {},
   "source": [
    "Decomposition of the equation variables:\n",
    "- $u(x, t)$ describes the velocity field, also the variable that we are trying to predict\n",
    "- <b>$x$</b> is the spatial coordinate, which represents the spatial location of the point we are trying to measure\n",
    "- <b>$t$</b> is the time variable\n",
    "- <b>$v$</b> is the viscosity coefficient, which measures the resistance to a fluid's flow"
   ]
  },
  {
   "cell_type": "markdown",
   "id": "48150a3f",
   "metadata": {},
   "source": [
    "Overall, the task here is to predict the velocity at location <b>$x$</b> and time <b>$t$</b>, where <b>$\\frac{\\partial u}{\\partial x}$</b> describes how quickly velocity <b>$u$</b> changes across space (measurement for self-advection, as velocity <b>$u$</b> is multiplied by its own derivative), and the second order partial derivative <b>$\\frac{\\partial^2 u}{\\partial x^2}$</b> measures the curvature of the velocity <b>$u$</b> in the space, it measures how sharply the change in velocity occurs."
   ]
  },
  {
   "cell_type": "markdown",
   "id": "26799a2b",
   "metadata": {},
   "source": [
    "## Why PARC?\n",
    "- As mentioned above, the PARC Neural Network excels on top of traditional numerical solvers like Finite difference methods, as it elimnates the need to manually approximates a continuous differential equation by observing the slope values amongst a hypothetically constructed evenly-spaced grid points,.\n",
    "\n",
    "- While PINN has also been a predominant neural network solver for physics-based partial differential equations, it often struggle to balance the loss terms and may require an extensive volume of iterations to satisfy all physics contraints while minimizing the loss. Meanwhile, PARC is capable of learning the derivative terms, in this case advection and diffusion, directly from the data using Convolutional Neural Network (CNN) differentiators, and predicts forward in time the next value of the target variable by using a learned integrator. \n",
    "\n",
    "- To sum up, PARC is more scalable for long-term time evolution predictions, it excels both in efficiency and accuracy than traditional numeric methods and PINNs."
   ]
  },
  {
   "cell_type": "markdown",
   "id": "da093c03",
   "metadata": {},
   "source": [
    "## Goals of this notebook\n",
    "At the end of this notebook, you will be able to model fluid dynamics via the Burgers' equation to simulate wave propagation, shock formation, and even traffic flow modeling with the computational power of the Parc neural network, happy modeling!"
   ]
  },
  {
   "cell_type": "markdown",
   "id": "2579dc6f",
   "metadata": {},
   "source": [
    "## Setting Up\n",
    "\n",
    "This document serves as a guide to training a PARC model for the Burgers equation. Here are the initial steps to take before you begin training your PARC model!\n",
    "\n",
    "Download & Prepare Data:\n",
    "- Download the data from https://zenodo.org/records/13909869 and unzip it.\n",
    "- Extract the downloaded data and ensure that it is placed in the following directory: `PARCtorch/PARCtorch/data`\n",
    "- Make sure that the file paths at `train_dir` and `test_dir` point to the correct paths to your training and testing data, e.g. `../data/train` or `../data/test`\n",
    "\n",
    "Install PARCtorch:\n",
    "- Ensure PARCtorch is installed in your Python Environment, you could view the installation instructions [here](https://github.com/baeklab/PARCtorch/tree/main#installation)\n",
    "- After the installation, install all the relevant dependencies with `!pip install -r requirements.txt` (The versions of your dependencies need to be <b>consistent</b> with our requirements, or else the script might not run!)\n",
    "- Optional (only if the script doesn't run): add the root directory to the system's path so that "
   ]
  },
  {
   "cell_type": "code",
   "execution_count": 1,
   "id": "e0ef732b-66cd-4ccc-a79f-efccff45f026",
   "metadata": {},
   "outputs": [],
   "source": [
    "import sys\n",
    "import os\n",
    " \n",
    "# Add the root directory (PARCTorch) to the system path\n",
    "sys.path.append(os.path.abspath(os.path.join(os.getcwd(), \"..\")))"
   ]
  },
  {
   "cell_type": "markdown",
   "id": "0c0a7eac-b3ee-4031-be81-d417d526c5d7",
   "metadata": {
    "id": "0c0a7eac-b3ee-4031-be81-d417d526c5d7"
   },
   "source": [
    "## Compute Data Normalization\n",
    "When training any neural network, we must ensure that all variables are transformed onto a comparable numerical scale to prevent one variable from dominating the learning process. \n",
    "\n",
    "Hence, for the first step of the training we will be computing the **minimum** and **maximum** values of each variable so that they could be rescaled later. The `compute_min_max` function will store the min and max values of each varaibles in the file **b_min_max.json** for access during training and prediction"
   ]
  },
  {
   "cell_type": "code",
   "execution_count": 2,
   "id": "da2df96f-4ce0-4162-8017-cac7ff1b81cd",
   "metadata": {
    "id": "da2df96f-4ce0-4162-8017-cac7ff1b81cd",
    "tags": []
   },
   "outputs": [],
   "source": [
    "from pathlib import Path\n",
    "\n",
    "from PARCtorch.data.normalization import compute_min_max"
   ]
  },
  {
   "cell_type": "code",
   "execution_count": 3,
   "id": "1eb4142b-a8d3-44d8-be0d-be6faaaee8cc",
   "metadata": {
    "colab": {
     "base_uri": "https://localhost:8080/"
    },
    "id": "1eb4142b-a8d3-44d8-be0d-be6faaaee8cc",
    "outputId": "9be6a488-5a27-42f1-e83c-8a2c0bb04d83",
    "tags": []
   },
   "outputs": [
    {
     "name": "stdout",
     "output_type": "stream",
     "text": [
      "Calculating channel-wise min and max values for normalization...\n",
      "Current working directory: /sfs/gpfs/tardis/home/wkt7ne/PARCtorch/PARCtorch/demos\n",
      "Total files to process: 478\n",
      "Processed 100/478 files.\n",
      "Processed 200/478 files.\n",
      "Processed 300/478 files.\n",
      "Processed 400/478 files.\n",
      "Processed 478/478 files.\n",
      "Channel-wise min values: [np.float64(100.0), np.float64(2.1418748489818493e-15), np.float64(2.1418748489818493e-15)]\n",
      "Channel-wise max values: [np.float64(15000.0), np.float64(0.9956901262849367), np.float64(0.9956901262849367)]\n",
      "Min and max values saved to '/sfs/gpfs/tardis/home/wkt7ne/PARCtorch/PARCtorch/data/b_min_max.json'.\n"
     ]
    }
   ],
   "source": [
    "# Define data directories\n",
    "train_dir = Path(\"../data/train\")\n",
    "test_dir = Path(\"../data/test\")\n",
    "min_max_file = train_dir.parent / \"b_min_max.json\"\n",
    "\n",
    "compute_min_max([train_dir, test_dir],  # paths to access the directories containing your training and testing datasets\n",
    "                min_max_file)           # path where all of the computed min-max values used for normalization will be stored "
   ]
  },
  {
   "cell_type": "markdown",
   "id": "4cd2e0d3-54a8-46dd-ab19-c582b8552f44",
   "metadata": {
    "id": "4cd2e0d3-54a8-46dd-ab19-c582b8552f44"
   },
   "source": [
    "## Loading Training Data\n",
    "In this step we will be preparing the training data pipeline to feed data into the system for model training. \n",
    "\n",
    "The `GenericPhysicsDataset` function first reads normalized fluid-simulation data and package them into a sequence of snapshots, where each sample of the snapshot contains the state at time $t$ and the future steps frames we want the model to predict. \n",
    "\n",
    "We then utilizes PyTorch's `DataLoader` to abstract the complexity of the given data through batching, shuffling, and parallel data loading so that it is easier to manage and process data during model training. Its parameters are:\n",
    "- **Batching** `batch_size`: Splitting large datasets into smaller, manageable batches to avoid memory overload and enable parallel processing.\n",
    "- **Shuffling** `shuffle=True/False`: Randomly ordering data to prevent the model from learning patterns related to the sequence of data (particularly important in training to reduce overfitting).\n",
    "- **Parallel Loading** `pin_memory=True/False`:  It allows the data to be loaded asynchronously using multiple workers, speeding up the training process by loading the next batch while the current one is being processed by the model.\n",
    "- **Custom Collation** `collate_fn=custom_collate_fn`: allows customization of how batches are combined, which is essential for complex datasets that require specific handling.\n",
    "\n"
   ]
  },
  {
   "cell_type": "code",
   "execution_count": 4,
   "id": "715ce636-5cb4-42e7-b3d8-5d37873a8bc0",
   "metadata": {
    "colab": {
     "base_uri": "https://localhost:8080/"
    },
    "id": "715ce636-5cb4-42e7-b3d8-5d37873a8bc0",
    "outputId": "6e2296c9-e9a7-4602-9c95-f9b0fed71072",
    "tags": []
   },
   "outputs": [
    {
     "name": "stderr",
     "output_type": "stream",
     "text": [
      "2025-05-19 23:55:09,333 [INFO] Starting data validation...\n",
      "2025-05-19 23:55:09,335 [INFO] Validating .npy files...\n",
      "Validating files: 100%|██████████| 100/100 [00:00<00:00, 509.34it/s]\n",
      "2025-05-19 23:55:09,572 [INFO] Data validation completed successfully.\n",
      "2025-05-19 23:55:09,574 [INFO] Preparing dataset samples...\n",
      "Listing samples: 100%|██████████| 100/100 [00:00<00:00, 436.10it/s]\n",
      "2025-05-19 23:55:09,806 [INFO] Total samples in dataset: 10000\n"
     ]
    }
   ],
   "source": [
    "import logging\n",
    "import torch\n",
    "from torch.utils.data import DataLoader\n",
    "\n",
    "# Now import the utilities\n",
    "from PARCtorch.data.dataset import (\n",
    "    GenericPhysicsDataset,\n",
    "    custom_collate_fn,\n",
    "    InitialConditionDataset,\n",
    "    initial_condition_collate_fn,\n",
    ")\n",
    "from PARCtorch.utilities.viz import (\n",
    "    visualize_channels,\n",
    "    save_gifs_with_ground_truth,\n",
    ")\n",
    "\n",
    "# Set up logging\n",
    "logging.basicConfig(\n",
    "    level=logging.INFO, format=\"%(asctime)s [%(levelname)s] %(message)s\"\n",
    ")\n",
    "\n",
    "future_steps = 1\n",
    "# Path to the min_max.json file\n",
    "batch_size = 4\n",
    "\n",
    "# Initialize the dataset\n",
    "train_dataset = GenericPhysicsDataset(\n",
    "    data_dirs=[train_dir],      # loading in training data\n",
    "    future_steps=future_steps,  # number of times to predict \n",
    "    min_max_path=min_max_file,  # path to the min/max file with the stored normalized values\n",
    ")\n",
    "\n",
    "# Create DataLoader for training dataset\n",
    "train_loader = DataLoader(\n",
    "    train_dataset,                  # the training data set that the model will be trained on\n",
    "    batch_size=batch_size,          # number of samples processed together\n",
    "    shuffle=False,                  # whether to shuffle the order of the samples (chosen not to randomize)\n",
    "    num_workers=1,                  # number of parallel subprocess to load the data (chose single)\n",
    "    collate_fn=custom_collate_fn,   # return a list of tuples (batch) of initial condition values\n",
    ")"
   ]
  },
  {
   "cell_type": "markdown",
   "id": "319773f7-8e60-4f10-a714-3a3dfaf10b7e",
   "metadata": {
    "id": "319773f7-8e60-4f10-a714-3a3dfaf10b7e"
   },
   "source": [
    "## Visualizing the Data - Sanity-Check\n",
    "\n",
    "This step is a sanity-check on one of the batches to ensure that our previous two steps - **normalization** and **data loading** were carried out correctly. \n",
    "\n",
    "To do so, we will be plotting out the:\n",
    "- **Initial Condition** `ic`: The initial physical state of the system at time $t_0$ - the input to the model\n",
    "- **Time Stamp** `t0`: The time stamp corresponding to the initial condition\n",
    "- **Target Timestamp** `t1`: The target time stamp that we are trying to predict with PARC\n",
    "- **Ground Truth** `target`: The ground truth data at time $t_1$, representing what the model is suppoesd to output at the predicted outcome at the future time stamp\n",
    "- `channel_names`: labels for each channel, i.e. `Reynolds, u, v`\n",
    "- `channel_cmaps`: list of colormaps for each channel"
   ]
  },
  {
   "cell_type": "code",
   "execution_count": 5,
   "id": "b54893cd-113f-4c03-8749-04c9c4a07999",
   "metadata": {
    "colab": {
     "base_uri": "https://localhost:8080/",
     "height": 1000
    },
    "id": "b54893cd-113f-4c03-8749-04c9c4a07999",
    "outputId": "51a5ac96-3c25-4bfd-b48a-d8fc2bdb3ffb",
    "tags": []
   },
   "outputs": [
    {
     "name": "stdout",
     "output_type": "stream",
     "text": [
      "Channel Data Statistics:\n",
      "Channel 0: IC min=0.6644295454025269, IC max=0.6644295454025269\n",
      "  Step 1: min=0.6644295454025269, max=0.6644295454025269\n",
      "Channel 1: IC min=7.64794982899275e-09, IC max=0.4998920261859894\n",
      "  Step 1: min=7.64794982899275e-09, max=0.49605339765548706\n",
      "Channel 2: IC min=7.64794982899275e-09, IC max=0.4998920261859894\n",
      "  Step 1: min=7.64794982899275e-09, max=0.49605339765548706\n"
     ]
    },
    {
     "data": {
      "image/png": "[encoded data removed]",
      "text/plain": [
       "<Figure size 2500x2000 with 12 Axes>"
      ]
     },
     "metadata": {},
     "output_type": "display_data"
    }
   ],
   "source": [
    "# Fetch a batch and visualize\n",
    "for batch in train_loader:\n",
    "    ic, t0, t1, target = batch\n",
    "    channel_names = [\"Reynolds (R)\", \"Velocity U\", \"Velocity V\"]\n",
    "    custom_cmaps = [\"seismic\", \"seismic\", \"seismic\"]\n",
    "\n",
    "    visualize_channels(\n",
    "        ic = ic,                            # Initial condition\n",
    "        t0 = t0,                            # Time value corresponding to the initial condition\n",
    "        t1 = t1,                            # Time value for the target variable\n",
    "        target = target,                        # Ground tuth data for the state at time t1\n",
    "        channel_names=channel_names,   # Names for each variable/channel\n",
    "        channel_cmaps=custom_cmaps,    # Color map to use for each channel\n",
    "    )\n",
    "    break  # Visualize one batch for now"
   ]
  },
  {
   "cell_type": "markdown",
   "id": "098a2414-34b4-44be-9490-69e4fe9298f6",
   "metadata": {
    "id": "098a2414-34b4-44be-9490-69e4fe9298f6"
   },
   "source": [
    "## Building up the PARC Model\n",
    "\n",
    "This is the part where we construct the core building blocks of the PARCv2 model to predict the physics behind fluid dynamics - Burgers Equation. \n",
    "\n",
    "PARC is made up of **several** major components:\n",
    "- **U-Net**: The UNet architecture is used for feature extraction, transforming the input data into a higher-dimensional representation. This helps the model capture complex patterns in the physical simulation data.\n",
    "    - `block_dimensions`: the number of feature maps in each encoder layer\n",
    "    - `in_channels`: Number of input channels (Reynolds, $u$, $v$)\n",
    "    - `out_channels`: Number of output channels\n",
    "    - `kernel_size`: Size of the convolutional kernels\n",
    "    - `padding_mode`: Padding mode for convolutional layers\n",
    "    - `up_block_use_concat`: Determines whether the decoder layers concatenate encoder outputs\n",
    "    - `skip_connection_indices`: Specifies which encoder layers to connect to the decoder\n",
    "    \n",
    "- **Finite Difference**: This differentiator approximates the gradients (or derivatives) of the input data using a finite difference method, which is important for calculating advection and diffusion processes in fluid dynamics.\n",
    "- **ADRDifferentiator**: This module calculates the advection and diffusion terms based on specific channel indices, such as velocity in the x and y directions (u and v).\n",
    "    - `n_state_var`: Number of state variables\n",
    "    - `n_fe_features`: Number of features from feature_extraction\n",
    "    - `list_adv_idx`: List of channel indices to calculate Advection on\n",
    "    - `list_dif_idx`: List of channel indices to calculate Diffusion on\n",
    "    - `feature_extraction`: The neural network used to extract relevant features\n",
    "    - `padding_mode`: type of padding used when computing derivatives\n",
    "    - `finite_difference_method`: type of method to compute finite difference\n",
    "    - `spade_random_noise`: whether to inject additional spatial noise during training\n",
    "    \n",
    "- **Heun Integrator**: Heun’s method is an improved version of Euler's method, used here to integrate the equations of motion more accurately over time.\n",
    "\n",
    "- **Integrator**: The integrator applies Heun’s method to combine the differentiated terms and solve the Poisson equation, ensuring the physical constraints of the system are respected.\n",
    "    - `clip`: whether to clip the state or velocity variable before each integration step\n",
    "    - `list_poi_idx`: List of channel indices for the input and output of the PoissonBlock\n",
    "    - `num_int`: Method for numerical integration\n",
    "    - `list_dd_int`: List of data driven integrator\n",
    "    - `padding_mode`: type of padding used when computing derivatives\n",
    "    - `finite_difference_method`: type of method to compute finite difference\n",
    "\n",
    "After constructing each components of the model, everything is wrapped under the PARCv2 class, with an embedded PyTorch loss function for `criterion` to measure the prediction error during training. Followed by an Adam optimizer with an assigned **learning rate** to auto-adjust the parameters of the model to minimize the error between the predicted values and the ground truth."
   ]
  },
  {
   "cell_type": "code",
   "execution_count": 6,
   "id": "674706d2-bf38-4fe0-a6b4-6ce9a75273dc",
   "metadata": {
    "id": "674706d2-bf38-4fe0-a6b4-6ce9a75273dc",
    "tags": []
   },
   "outputs": [],
   "source": [
    "from PARCtorch.PARCv2 import PARCv2\n",
    "from PARCtorch.differentiator.differentiator import ADRDifferentiator\n",
    "from PARCtorch.differentiator.finitedifference import FiniteDifference\n",
    "from PARCtorch.integrator.integrator import Integrator\n",
    "from PARCtorch.integrator.heun import Heun\n",
    "from PARCtorch.utilities.unet import UNet\n",
    "\n",
    "from torch.optim import Adam"
   ]
  },
  {
   "cell_type": "code",
   "execution_count": 7,
   "id": "8a0a823a-f1b6-46b5-ae73-661cceec48d1",
   "metadata": {
    "id": "8a0a823a-f1b6-46b5-ae73-661cceec48d1",
    "tags": []
   },
   "outputs": [],
   "source": [
    "# Navier Stokes: p, re, u, v\n",
    "# Adv: u, v\n",
    "# Dif: u, v\n",
    "# Poi: p\n",
    "\n",
    "# This is the feature extractor, it transforms the raw state of the data into a set of \n",
    "# learned features that the model can use to understand and predict their future behavior\n",
    "n_fe_features = 64\n",
    "unet_burgers = UNet(\n",
    "    block_dimensions=[64, 64 * 2, 64 * 4],        # defines how many feature maps (filters) are used at each layer of the network\n",
    "    input_channels=3,                             # Number of the input channels (i.e. position, time, and noise)\n",
    "    output_channels=n_fe_features,                # Number of the output channels\n",
    "    kernel_size=3,                                # Default kernel size\n",
    "    padding_mode=\"zeros\",                         # Default padding mode\n",
    "    up_block_use_concat=[False, True],            # Whether the decoder combines features from earlier layers\n",
    "    skip_connection_indices=[0],                  # Which encoder layers are connected to the decoder\n",
    ")\n",
    "right_diff = FiniteDifference(padding_mode=\"replicate\").cuda()\n",
    "heun_int = Heun().cuda()\n",
    "\n",
    "# The main component of the PARC model, it combines the feature maps from the U-Net with learned physics rules \n",
    "# to estimate the rate of change of the velocity field. Such as learning how the fluid is evolving in time due to both movement and spreading\n",
    "diff_burgers = ADRDifferentiator(\n",
    "    n_state_var=1,                          # 1 state variables: re. We always assume 2 velocity being the last 2 channels\n",
    "    n_fe_features=n_fe_features,            # Number of features returned by the feature extraction network: 64\n",
    "    list_adv_idx=[1, 2],                    # Channel indices to calculate advection: u and v\n",
    "    list_dif_idx=[1, 2],                    # Channel indices to calculate diffusion: u and v\n",
    "    feature_extraction=unet_burgers,        # Feature extraction network: unet_burgers\n",
    "    padding_mode=\"constant\",                # Padding mode: constant padding of zero\n",
    "    finite_difference_method=right_diff,    # Using the Finite Difference Method to calculate spatial derivatives\n",
    "    spade_random_noise=False,               # Not adding noise mapping and reconstruction modules\n",
    ").cuda()\n",
    "\n",
    "# This is the next step after learning the derivatives, it predicts the next state of the system given the current state and how its\n",
    "# changing over time by integrating over the calculated derviatives on the previous step.\n",
    "burgers_int = Integrator(\n",
    "    clip=True,                             # Whether the system doesn't change its rules over time (time-invariant)\n",
    "    list_poi_idx=[],                       # No external forces like gravity or wind is being considered in this model\n",
    "    num_int=heun_int,                      # The Heun integration method is used to integrate the derviatives over time\n",
    "    list_dd_int=[None, None, None],        # Optional overidate for derviative components\n",
    "    padding_mode=\"constant\",               # Edge padding style\n",
    "    finite_difference_method=right_diff,   # Using the Finite Difference Method to calculate spatial derivatives\n",
    "    poi_kernel_size=3,                     # default kernel size for Poisson\n",
    "    n_poi_features=64                      # default number of features for Poisson\n",
    ")\n",
    "criterion = torch.nn.L1Loss().cuda()\n",
    "\n",
    "# The architecture of the PARC Neural Network\n",
    "model = PARCv2(\n",
    "    differentiator=diff_burgers,  # The differentiator calculates how the variables such as advection and diffusion changes across space and time\n",
    "    integrator=burgers_int,       # The integrator appends the calculated value to the velocity variable (our target variable) for the next point in time\n",
    "    loss=criterion                # The loss is calculated to compare predictions with the ground truth\n",
    ").cuda()\n",
    "optimizer = Adam(\n",
    "    params=model.parameters(), # Parameters of the PARC model that should be optimized\n",
    "    lr=1e-5             # Adjusting the learning rate, or how fast should the model be updated\n",
    ")"
   ]
  },
  {
   "cell_type": "markdown",
   "id": "dc1b50c7-0b3f-47bc-adc5-2d87499ed63f",
   "metadata": {
    "id": "dc1b50c7-0b3f-47bc-adc5-2d87499ed63f"
   },
   "source": [
    "## Training the Model\n",
    "\n",
    "This is where the training takes place, we will be calling the classes and functions defined on the previous step inside the function `train_model` to initiate the training process.\n",
    "\n",
    "At this stage, we will be iterating over the dataset produced by `train_loader` batch-by-batch, where in each iteration we will:\n",
    "\n",
    "- Compute model predictions\n",
    "- Calculate error loss between predicted and ground truth values via the `criterion` loss function\n",
    "- Update the model parameters based on error via the optimizer"
   ]
  },
  {
   "cell_type": "code",
   "execution_count": 8,
   "id": "ac7ce30b-c1fb-40b1-9393-73f1202e2776",
   "metadata": {
    "colab": {
     "base_uri": "https://localhost:8080/"
    },
    "id": "ac7ce30b-c1fb-40b1-9393-73f1202e2776",
    "outputId": "cda0a93b-0d8f-409b-b7d7-d20945d5b80b",
    "tags": []
   },
   "outputs": [
    {
     "name": "stderr",
     "output_type": "stream",
     "text": [
      "Epoch 1/1: 100%|██████████| 2500/2500 [01:00<00:00, 41.32it/s, Batch Loss=5.83e-5] \n"
     ]
    },
    {
     "name": "stdout",
     "output_type": "stream",
     "text": [
      "Epoch [1/1], Average Loss: 0.0006\n",
      "Model weights saved at ../data/model.pth\n",
      "Training losses saved at ../data/training_losses.pkl\n"
     ]
    }
   ],
   "source": [
    "from PARCtorch.train import train_model\n",
    "\n",
    "# Example usage:\n",
    "train_model(\n",
    "    model,                      # The PARC model to train\n",
    "    train_loader,               # Dataloader that feeds in training data\n",
    "    criterion,                  # Loss function to calculate prediction error with the ground truth\n",
    "    optimizer,                  # Optimization algorithm Adam that updates model weights\n",
    "    num_epochs=1,               # Number of epochs or iterations\n",
    "    save_dir=train_dir.parent,  # Directory with model logs will be saved\n",
    "    app=\"burgers\",              # Label for this training run for logging\n",
    ")"
   ]
  },
  {
   "cell_type": "markdown",
   "id": "2ebaed07-4f7e-4166-9119-2736488ac5be",
   "metadata": {
    "id": "2ebaed07-4f7e-4166-9119-2736488ac5be"
   },
   "source": [
    "## Loading the Model\n",
    "\n",
    "After training the model and obtaining desired weights, we could load the model weights into new initializations of the PARC model architecture for evaluation and visualization. Eliminating the need to retrain the model each time we need to reference its weights or outcomes."
   ]
  },
  {
   "cell_type": "code",
   "execution_count": 9,
   "id": "77b65714-3b9b-4dee-86e9-343c13d29d44",
   "metadata": {
    "colab": {
     "base_uri": "https://localhost:8080/"
    },
    "id": "77b65714-3b9b-4dee-86e9-343c13d29d44",
    "outputId": "34ef8082-2328-405a-d4cf-9900d5e2b606",
    "tags": []
   },
   "outputs": [
    {
     "name": "stdout",
     "output_type": "stream",
     "text": [
      "Loaded model weights from '../data/model.pth'\n"
     ]
    },
    {
     "name": "stderr",
     "output_type": "stream",
     "text": [
      "/sfs/gpfs/tardis/home/wkt7ne/PARCtorch/PARCtorch/utilities/load.py:23: FutureWarning: You are using `torch.load` with `weights_only=False` (the current default value), which uses the default pickle module implicitly. It is possible to construct malicious pickle data which will execute arbitrary code during unpickling (See https://github.com/pytorch/pytorch/blob/main/SECURITY.md#untrusted-models for more details). In a future release, the default value for `weights_only` will be flipped to `True`. This limits the functions that could be executed during unpickling. Arbitrary objects will no longer be allowed to be loaded via this mode unless they are explicitly allowlisted by the user via `torch.serialization.add_safe_globals`. We recommend you start setting `weights_only=True` for any use case where you don't have full control of the loaded file. Please open an issue on GitHub for any issues related to this experimental feature.\n",
      "  state_dict = torch.load(weights_path, map_location=device)\n"
     ]
    }
   ],
   "source": [
    "from PARCtorch.utilities.load import load_model_weights\n",
    "\n",
    "# Example Usage:\n",
    "device = torch.device(\"cuda\" if torch.cuda.is_available() else \"cpu\")\n",
    "model_weights_path = train_dir.parent / \"model.pth\"  # Replace with your path\n",
    "model = load_model_weights(model, model_weights_path, device)"
   ]
  },
  {
   "cell_type": "markdown",
   "id": "17f17d44-4c22-475a-a357-adfcea62103f",
   "metadata": {
    "id": "17f17d44-4c22-475a-a357-adfcea62103f"
   },
   "source": [
    "## Creating the Sequence DataLoader\n",
    "\n",
    "Now its time to test out our model on the testing dataset!\n",
    "\n",
    "To do so, we must first redo everything we did during the training stage - but for the new testing data. We first load the test samples using the `InitialConditionDataset`, this is to only provide the initial conditions as `t=0` to allow the model to predict 'forward' in multiple future time steps without seeing intermediate values of ground truth. \n",
    "\n",
    "After that we again wrap them in a `DataLoader` for sample batching (same as what we did in the training stage). "
   ]
  },
  {
   "cell_type": "code",
   "execution_count": 10,
   "id": "4ba1262a-54a3-4367-aa84-a02e516b2b3f",
   "metadata": {
    "colab": {
     "base_uri": "https://localhost:8080/"
    },
    "id": "4ba1262a-54a3-4367-aa84-a02e516b2b3f",
    "outputId": "50c91e52-cb65-452c-b3c9-1cb8b679d45e",
    "tags": []
   },
   "outputs": [
    {
     "name": "stderr",
     "output_type": "stream",
     "text": [
      "2025-05-19 23:56:22,138 [INFO] Starting data validation...\n",
      "2025-05-19 23:56:22,143 [INFO] Validating .npy files...\n",
      "Validating files: 100%|██████████| 378/378 [00:00<00:00, 442.00it/s]\n",
      "2025-05-19 23:56:23,002 [INFO] Data validation completed successfully.\n"
     ]
    }
   ],
   "source": [
    "# Initialize the dataset\n",
    "future_steps = 3\n",
    "seq_dataset = InitialConditionDataset(\n",
    "    data_dirs=[test_dir],\n",
    "    future_steps=future_steps,\n",
    "    min_max_path=min_max_file,\n",
    ")\n",
    "\n",
    "# Create DataLoader for training dataset\n",
    "seq_loader = DataLoader(\n",
    "    seq_dataset,\n",
    "    batch_size=batch_size,\n",
    "    shuffle=False,\n",
    "    num_workers=1,\n",
    "    pin_memory=True, # Speeds up GPU transfers\n",
    "    collate_fn=initial_condition_collate_fn,\n",
    ")"
   ]
  },
  {
   "cell_type": "markdown",
   "id": "3df086c7-ea7b-445a-91b5-a720139d7cf1",
   "metadata": {
    "id": "3df086c7-ea7b-445a-91b5-a720139d7cf1"
   },
   "source": [
    "## Loading Ground Truths\n",
    "\n",
    "To evaluate the performance of our trained model, we load the ground truth values for the physics system at each time stamp for each of the test files. These are the correct fuure states that we can compare the model's predictions against. \n",
    "\n",
    "Here we will be using the same `GeneralPhysicsDataset` as in training but pointing it to test data. Each batch of the data will now contain the true velocity fields across time and can be used for comparison during the evaluation stage"
   ]
  },
  {
   "cell_type": "code",
   "execution_count": 11,
   "id": "21980e80-72a1-4825-9ea7-ff78c3ac47ea",
   "metadata": {
    "colab": {
     "base_uri": "https://localhost:8080/"
    },
    "id": "21980e80-72a1-4825-9ea7-ff78c3ac47ea",
    "outputId": "e28de72e-07cd-44dc-cf45-ea56120280f4",
    "tags": []
   },
   "outputs": [
    {
     "name": "stderr",
     "output_type": "stream",
     "text": [
      "2025-05-19 23:56:23,008 [INFO] Starting data validation...\n",
      "2025-05-19 23:56:23,012 [INFO] Validating .npy files...\n",
      "Validating files: 100%|██████████| 378/378 [00:00<00:00, 622.31it/s]\n",
      "2025-05-19 23:56:23,624 [INFO] Data validation completed successfully.\n",
      "2025-05-19 23:56:23,625 [INFO] Preparing dataset samples...\n",
      "Listing samples: 100%|██████████| 378/378 [00:00<00:00, 552.18it/s]\n",
      "2025-05-19 23:56:24,314 [INFO] Total samples in dataset: 37044\n"
     ]
    }
   ],
   "source": [
    "# Initialize the dataset\n",
    "gt_dataset = GenericPhysicsDataset(\n",
    "    data_dirs=[test_dir],\n",
    "    future_steps=future_steps,\n",
    "    min_max_path=min_max_file,\n",
    ")\n",
    "\n",
    "# Create DataLoader for training dataset\n",
    "gt_loader = DataLoader(\n",
    "    gt_dataset,\n",
    "    batch_size=batch_size,\n",
    "    shuffle=False,\n",
    "    num_workers=1,\n",
    "    pin_memory=True,\n",
    "    collate_fn=custom_collate_fn,\n",
    ")"
   ]
  },
  {
   "cell_type": "markdown",
   "id": "b4ca660b-8371-4663-9c52-f6a0506627f9",
   "metadata": {
    "id": "b4ca660b-8371-4663-9c52-f6a0506627f9"
   },
   "source": [
    "## Visualizing the Results\n",
    "\n",
    "After predicting and gathering ground truths, we can create animated GIFs for each physical variables with `save_gifs_with_ground_truth`. The GIFs will be produced as a side-by-side animation collage with the left side showcasing the fluid motion that **PARC predicted** at each future time stamp, and the right showcasing the **true state** of the fluid motion from the ground truths data.\n",
    "\n",
    "By observing these animations, you could get a visual grasp of, for example, how well advection waves are preserved through time, whether diffusion smooths the field realistically, and most importantly whether the PARC model **accurately predicts** the ground physical truth that occurs in the real world."
   ]
  },
  {
   "cell_type": "code",
   "execution_count": 12,
   "id": "942fa51c-67f7-4c21-9bf2-6ea9d2f88e9e",
   "metadata": {
    "colab": {
     "base_uri": "https://localhost:8080/"
    },
    "id": "942fa51c-67f7-4c21-9bf2-6ea9d2f88e9e",
    "outputId": "bcf4d8c5-5cb0-45e4-e6e2-f609f0544f53",
    "tags": []
   },
   "outputs": [
    {
     "name": "stdout",
     "output_type": "stream",
     "text": [
      "Predictions shape: torch.Size([3, 4, 3, 64, 64])\n",
      "Sample prediction for timestep 1: torch.Size([3, 3, 64, 64])\n",
      "GIF saved to comparison_batch0_Reynolds.gif\n",
      "GIF saved to comparison_batch0_u.gif\n",
      "GIF saved to comparison_batch0_v.gif\n"
     ]
    }
   ],
   "source": [
    "# Set the model to evaluation mode\n",
    "model.eval()\n",
    "\n",
    "# Define channel names and colormaps\n",
    "channels = [\"Reynolds\", \"u\", \"v\"]  # Adjust as per your data\n",
    "cmaps = [\"plasma\", \"inferno\", \"magma\"]  # Adjust as per your preference\n",
    "\n",
    "# Iterate through both DataLoaders simultaneously\n",
    "for seq_batch, test_batch in zip(seq_loader, gt_loader):\n",
    "    # Extract data from initial condition loader\n",
    "    ic, t0, t1, _ = (\n",
    "        seq_batch  # Shape: [batch_size, channels, height, width], scalar, tensor, _\n",
    "    )\n",
    "\n",
    "    # Extract data from ground truth loader\n",
    "    gt_ic, gt_t0, gt_t1, ground_truth = (\n",
    "        test_batch  # ground_truth shape: [timesteps, batch_size, channels, height, width]\n",
    "    )\n",
    "\n",
    "    # Move data to GPU if available\n",
    "    device = torch.device(\"cuda\" if torch.cuda.is_available() else \"cpu\")\n",
    "    ic = ic.to(device)\n",
    "    t0 = t0.to(device)\n",
    "    t1 = t1.to(device)\n",
    "    ground_truth = ground_truth.to(device)\n",
    "\n",
    "    # Make predictions using the model\n",
    "    with torch.no_grad():\n",
    "        predictions = model(\n",
    "            ic, t0, t1\n",
    "        )  # Shape: [future_steps, batch_size, channels, height, width]\n",
    "\n",
    "    print(\"Predictions shape:\", predictions.shape)\n",
    "    print(\n",
    "        \"Sample prediction for timestep 1:\", predictions[:, 0, :, :, :].shape\n",
    "    )\n",
    "\n",
    "    # If you want to visualize more samples in the batch, loop through batch indices\n",
    "    # For example, to visualize all samples in the batch:\n",
    "    for batch_idx in range(ic.size(0)):\n",
    "        save_gifs_with_ground_truth(\n",
    "            predictions=predictions,\n",
    "            ground_truth=ground_truth,\n",
    "            channels=channels,\n",
    "            cmaps=cmaps,\n",
    "            filename_prefix=f\"comparison_batch{batch_idx}\",\n",
    "            interval=0.2,\n",
    "            batch_idx=batch_idx,\n",
    "        )\n",
    "        break\n",
    "\n",
    "    break  # Remove this if you want to process the entire dataset"
   ]
  }
 ],
 "metadata": {
  "accelerator": "GPU",
  "colab": {
   "gpuType": "T4",
   "provenance": []
  },
  "kernelspec": {
   "display_name": "Python (parc)",
   "language": "python",
   "name": "parc"
  },
  "language_info": {
   "codemirror_mode": {
    "name": "ipython",
    "version": 3
   },
   "file_extension": ".py",
   "mimetype": "text/x-python",
   "name": "python",
   "nbconvert_exporter": "python",
   "pygments_lexer": "ipython3",
   "version": "3.12.10"
  }
 },
 "nbformat": 4,
 "nbformat_minor": 5
}
